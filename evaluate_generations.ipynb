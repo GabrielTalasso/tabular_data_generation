{
 "cells": [
  {
   "cell_type": "code",
   "execution_count": 1,
   "metadata": {},
   "outputs": [],
   "source": [
    "import sdv\n",
    "from sdv.evaluation.single_table import evaluate_quality\n",
    "import pandas as pd"
   ]
  },
  {
   "cell_type": "code",
   "execution_count": 2,
   "metadata": {},
   "outputs": [],
   "source": [
    "real_data = pd.read_csv('data/german_real.csv')\n",
    "synthetic_data = pd.read_csv('data/german_sdv_CTGAN.csv')\n",
    "\n",
    "metadata = sdv.metadata.SingleTableMetadata()\n",
    "metadata.detect_from_dataframe(data = real_data)"
   ]
  },
  {
   "cell_type": "code",
   "execution_count": 3,
   "metadata": {},
   "outputs": [
    {
     "data": {
      "text/html": [
       "<div>\n",
       "<style scoped>\n",
       "    .dataframe tbody tr th:only-of-type {\n",
       "        vertical-align: middle;\n",
       "    }\n",
       "\n",
       "    .dataframe tbody tr th {\n",
       "        vertical-align: top;\n",
       "    }\n",
       "\n",
       "    .dataframe thead th {\n",
       "        text-align: right;\n",
       "    }\n",
       "</style>\n",
       "<table border=\"1\" class=\"dataframe\">\n",
       "  <thead>\n",
       "    <tr style=\"text-align: right;\">\n",
       "      <th></th>\n",
       "      <th>GoodCustomer</th>\n",
       "      <th>Gender</th>\n",
       "      <th>ForeignWorker</th>\n",
       "      <th>Single</th>\n",
       "      <th>Age</th>\n",
       "      <th>LoanDuration</th>\n",
       "      <th>PurposeOfLoan</th>\n",
       "      <th>LoanAmount</th>\n",
       "      <th>LoanRateAsPercentOfIncome</th>\n",
       "      <th>YearsAtCurrentHome</th>\n",
       "      <th>...</th>\n",
       "      <th>OtherLoansAtBank</th>\n",
       "      <th>OtherLoansAtStore</th>\n",
       "      <th>HasCoapplicant</th>\n",
       "      <th>HasGuarantor</th>\n",
       "      <th>OwnsHouse</th>\n",
       "      <th>RentsHouse</th>\n",
       "      <th>Unemployed</th>\n",
       "      <th>YearsAtCurrentJob_lt_1</th>\n",
       "      <th>YearsAtCurrentJob_geq_4</th>\n",
       "      <th>JobClassIsSkilled</th>\n",
       "    </tr>\n",
       "  </thead>\n",
       "  <tbody>\n",
       "    <tr>\n",
       "      <th>0</th>\n",
       "      <td>1</td>\n",
       "      <td>Male</td>\n",
       "      <td>0</td>\n",
       "      <td>1</td>\n",
       "      <td>63</td>\n",
       "      <td>15</td>\n",
       "      <td>Education</td>\n",
       "      <td>1538</td>\n",
       "      <td>3</td>\n",
       "      <td>3</td>\n",
       "      <td>...</td>\n",
       "      <td>0</td>\n",
       "      <td>0</td>\n",
       "      <td>0</td>\n",
       "      <td>1</td>\n",
       "      <td>1</td>\n",
       "      <td>0</td>\n",
       "      <td>0</td>\n",
       "      <td>1</td>\n",
       "      <td>0</td>\n",
       "      <td>1</td>\n",
       "    </tr>\n",
       "    <tr>\n",
       "      <th>1</th>\n",
       "      <td>-1</td>\n",
       "      <td>Male</td>\n",
       "      <td>0</td>\n",
       "      <td>1</td>\n",
       "      <td>19</td>\n",
       "      <td>11</td>\n",
       "      <td>NewCar</td>\n",
       "      <td>1236</td>\n",
       "      <td>2</td>\n",
       "      <td>2</td>\n",
       "      <td>...</td>\n",
       "      <td>1</td>\n",
       "      <td>0</td>\n",
       "      <td>0</td>\n",
       "      <td>0</td>\n",
       "      <td>0</td>\n",
       "      <td>1</td>\n",
       "      <td>1</td>\n",
       "      <td>0</td>\n",
       "      <td>1</td>\n",
       "      <td>1</td>\n",
       "    </tr>\n",
       "    <tr>\n",
       "      <th>2</th>\n",
       "      <td>1</td>\n",
       "      <td>Female</td>\n",
       "      <td>0</td>\n",
       "      <td>0</td>\n",
       "      <td>44</td>\n",
       "      <td>30</td>\n",
       "      <td>Education</td>\n",
       "      <td>3758</td>\n",
       "      <td>2</td>\n",
       "      <td>4</td>\n",
       "      <td>...</td>\n",
       "      <td>0</td>\n",
       "      <td>0</td>\n",
       "      <td>0</td>\n",
       "      <td>1</td>\n",
       "      <td>0</td>\n",
       "      <td>0</td>\n",
       "      <td>0</td>\n",
       "      <td>0</td>\n",
       "      <td>0</td>\n",
       "      <td>0</td>\n",
       "    </tr>\n",
       "    <tr>\n",
       "      <th>3</th>\n",
       "      <td>1</td>\n",
       "      <td>Male</td>\n",
       "      <td>0</td>\n",
       "      <td>1</td>\n",
       "      <td>29</td>\n",
       "      <td>21</td>\n",
       "      <td>Other</td>\n",
       "      <td>4308</td>\n",
       "      <td>3</td>\n",
       "      <td>1</td>\n",
       "      <td>...</td>\n",
       "      <td>0</td>\n",
       "      <td>0</td>\n",
       "      <td>0</td>\n",
       "      <td>0</td>\n",
       "      <td>1</td>\n",
       "      <td>0</td>\n",
       "      <td>0</td>\n",
       "      <td>0</td>\n",
       "      <td>0</td>\n",
       "      <td>1</td>\n",
       "    </tr>\n",
       "    <tr>\n",
       "      <th>4</th>\n",
       "      <td>1</td>\n",
       "      <td>Male</td>\n",
       "      <td>0</td>\n",
       "      <td>1</td>\n",
       "      <td>28</td>\n",
       "      <td>6</td>\n",
       "      <td>Electronics</td>\n",
       "      <td>2445</td>\n",
       "      <td>3</td>\n",
       "      <td>4</td>\n",
       "      <td>...</td>\n",
       "      <td>0</td>\n",
       "      <td>0</td>\n",
       "      <td>0</td>\n",
       "      <td>0</td>\n",
       "      <td>1</td>\n",
       "      <td>0</td>\n",
       "      <td>0</td>\n",
       "      <td>0</td>\n",
       "      <td>1</td>\n",
       "      <td>1</td>\n",
       "    </tr>\n",
       "  </tbody>\n",
       "</table>\n",
       "<p>5 rows × 30 columns</p>\n",
       "</div>"
      ],
      "text/plain": [
       "   GoodCustomer  Gender  ForeignWorker  Single  Age  LoanDuration  \\\n",
       "0             1    Male              0       1   63            15   \n",
       "1            -1    Male              0       1   19            11   \n",
       "2             1  Female              0       0   44            30   \n",
       "3             1    Male              0       1   29            21   \n",
       "4             1    Male              0       1   28             6   \n",
       "\n",
       "  PurposeOfLoan  LoanAmount  LoanRateAsPercentOfIncome  YearsAtCurrentHome  \\\n",
       "0     Education        1538                          3                   3   \n",
       "1        NewCar        1236                          2                   2   \n",
       "2     Education        3758                          2                   4   \n",
       "3         Other        4308                          3                   1   \n",
       "4   Electronics        2445                          3                   4   \n",
       "\n",
       "   ...  OtherLoansAtBank  OtherLoansAtStore  HasCoapplicant  HasGuarantor  \\\n",
       "0  ...                 0                  0               0             1   \n",
       "1  ...                 1                  0               0             0   \n",
       "2  ...                 0                  0               0             1   \n",
       "3  ...                 0                  0               0             0   \n",
       "4  ...                 0                  0               0             0   \n",
       "\n",
       "   OwnsHouse  RentsHouse  Unemployed  YearsAtCurrentJob_lt_1  \\\n",
       "0          1           0           0                       1   \n",
       "1          0           1           1                       0   \n",
       "2          0           0           0                       0   \n",
       "3          1           0           0                       0   \n",
       "4          1           0           0                       0   \n",
       "\n",
       "   YearsAtCurrentJob_geq_4  JobClassIsSkilled  \n",
       "0                        0                  1  \n",
       "1                        1                  1  \n",
       "2                        0                  0  \n",
       "3                        0                  1  \n",
       "4                        1                  1  \n",
       "\n",
       "[5 rows x 30 columns]"
      ]
     },
     "execution_count": 3,
     "metadata": {},
     "output_type": "execute_result"
    }
   ],
   "source": [
    "synthetic_data.head()"
   ]
  },
  {
   "cell_type": "code",
   "execution_count": 4,
   "metadata": {},
   "outputs": [
    {
     "name": "stdout",
     "output_type": "stream",
     "text": [
      "Generating report ...\n",
      "(1/2) Evaluating Column Shapes: : 100%|██████████| 30/30 [00:00<00:00, 483.34it/s]\n",
      "(2/2) Evaluating Column Pair Trends: : 100%|██████████| 435/435 [00:08<00:00, 49.93it/s]\n",
      "\n",
      "Overall Quality Score: 90.17%\n",
      "\n",
      "Properties:\n",
      "- Column Shapes: 92.73%\n",
      "- Column Pair Trends: 87.61%\n"
     ]
    }
   ],
   "source": [
    "quality_report = evaluate_quality(\n",
    "    real_data,\n",
    "    synthetic_data,\n",
    "    metadata\n",
    ")"
   ]
  },
  {
   "cell_type": "code",
   "execution_count": 5,
   "metadata": {},
   "outputs": [
    {
     "data": {
      "application/vnd.plotly.v1+json": {
       "config": {
        "plotlyServerURL": "https://plot.ly"
       },
       "data": [
        {
         "alignmentgroup": "True",
         "customdata": [
          [
           "KSComplement"
          ],
          [
           "KSComplement"
          ],
          [
           "KSComplement"
          ],
          [
           "KSComplement"
          ]
         ],
         "hovertemplate": "<b>%{hovertext}</b><br><br>Metric=%{customdata[0]}<br>Score=%{y}<extra></extra>",
         "hovertext": [
          "GoodCustomer",
          "Age",
          "LoanDuration",
          "LoanAmount"
         ],
         "legendgroup": "KSComplement",
         "marker": {
          "color": "#000036",
          "pattern": {
           "shape": ""
          }
         },
         "name": "KSComplement",
         "offsetgroup": "KSComplement",
         "orientation": "v",
         "showlegend": true,
         "textposition": "auto",
         "type": "bar",
         "x": [
          "GoodCustomer",
          "Age",
          "LoanDuration",
          "LoanAmount"
         ],
         "xaxis": "x",
         "y": [
          0.949,
          0.7722,
          0.8524,
          0.9774
         ],
         "yaxis": "y"
        },
        {
         "alignmentgroup": "True",
         "customdata": [
          [
           "TVComplement"
          ],
          [
           "TVComplement"
          ],
          [
           "TVComplement"
          ],
          [
           "TVComplement"
          ],
          [
           "TVComplement"
          ],
          [
           "TVComplement"
          ],
          [
           "TVComplement"
          ],
          [
           "TVComplement"
          ],
          [
           "TVComplement"
          ],
          [
           "TVComplement"
          ],
          [
           "TVComplement"
          ],
          [
           "TVComplement"
          ],
          [
           "TVComplement"
          ],
          [
           "TVComplement"
          ],
          [
           "TVComplement"
          ],
          [
           "TVComplement"
          ],
          [
           "TVComplement"
          ],
          [
           "TVComplement"
          ],
          [
           "TVComplement"
          ],
          [
           "TVComplement"
          ],
          [
           "TVComplement"
          ],
          [
           "TVComplement"
          ],
          [
           "TVComplement"
          ],
          [
           "TVComplement"
          ],
          [
           "TVComplement"
          ],
          [
           "TVComplement"
          ]
         ],
         "hovertemplate": "<b>%{hovertext}</b><br><br>Metric=%{customdata[0]}<br>Score=%{y}<extra></extra>",
         "hovertext": [
          "Gender",
          "ForeignWorker",
          "Single",
          "PurposeOfLoan",
          "LoanRateAsPercentOfIncome",
          "YearsAtCurrentHome",
          "NumberOfOtherLoansAtBank",
          "NumberOfLiableIndividuals",
          "HasTelephone",
          "CheckingAccountBalance_geq_0",
          "CheckingAccountBalance_geq_200",
          "SavingsAccountBalance_geq_100",
          "SavingsAccountBalance_geq_500",
          "MissedPayments",
          "NoCurrentLoan",
          "CriticalAccountOrLoansElsewhere",
          "OtherLoansAtBank",
          "OtherLoansAtStore",
          "HasCoapplicant",
          "HasGuarantor",
          "OwnsHouse",
          "RentsHouse",
          "Unemployed",
          "YearsAtCurrentJob_lt_1",
          "YearsAtCurrentJob_geq_4",
          "JobClassIsSkilled"
         ],
         "legendgroup": "TVComplement",
         "marker": {
          "color": "#03AFF1",
          "pattern": {
           "shape": "/"
          }
         },
         "name": "TVComplement",
         "offsetgroup": "TVComplement",
         "orientation": "v",
         "showlegend": true,
         "textposition": "auto",
         "type": "bar",
         "x": [
          "Gender",
          "ForeignWorker",
          "Single",
          "PurposeOfLoan",
          "LoanRateAsPercentOfIncome",
          "YearsAtCurrentHome",
          "NumberOfOtherLoansAtBank",
          "NumberOfLiableIndividuals",
          "HasTelephone",
          "CheckingAccountBalance_geq_0",
          "CheckingAccountBalance_geq_200",
          "SavingsAccountBalance_geq_100",
          "SavingsAccountBalance_geq_500",
          "MissedPayments",
          "NoCurrentLoan",
          "CriticalAccountOrLoansElsewhere",
          "OtherLoansAtBank",
          "OtherLoansAtStore",
          "HasCoapplicant",
          "HasGuarantor",
          "OwnsHouse",
          "RentsHouse",
          "Unemployed",
          "YearsAtCurrentJob_lt_1",
          "YearsAtCurrentJob_geq_4",
          "JobClassIsSkilled"
         ],
         "xaxis": "x",
         "y": [
          0.9161999999999999,
          0.8636,
          0.9636,
          0.8378,
          0.9414,
          0.9516,
          0.843,
          0.9928,
          0.9282,
          0.9394,
          0.9152,
          0.9804,
          0.9428,
          0.9284,
          0.9174,
          0.9284,
          0.9528,
          1,
          0.8518,
          0.8988,
          0.9518,
          0.9948,
          0.913,
          0.9918,
          0.9436,
          0.9796
         ],
         "yaxis": "y"
        }
       ],
       "layout": {
        "barmode": "relative",
        "font": {
         "size": 18
        },
        "legend": {
         "title": {
          "text": "Metric"
         },
         "tracegroupgap": 0
        },
        "margin": {
         "t": 150
        },
        "plot_bgcolor": "#F5F5F8",
        "template": {
         "data": {
          "bar": [
           {
            "error_x": {
             "color": "#2a3f5f"
            },
            "error_y": {
             "color": "#2a3f5f"
            },
            "marker": {
             "line": {
              "color": "#E5ECF6",
              "width": 0.5
             },
             "pattern": {
              "fillmode": "overlay",
              "size": 10,
              "solidity": 0.2
             }
            },
            "type": "bar"
           }
          ],
          "barpolar": [
           {
            "marker": {
             "line": {
              "color": "#E5ECF6",
              "width": 0.5
             },
             "pattern": {
              "fillmode": "overlay",
              "size": 10,
              "solidity": 0.2
             }
            },
            "type": "barpolar"
           }
          ],
          "carpet": [
           {
            "aaxis": {
             "endlinecolor": "#2a3f5f",
             "gridcolor": "white",
             "linecolor": "white",
             "minorgridcolor": "white",
             "startlinecolor": "#2a3f5f"
            },
            "baxis": {
             "endlinecolor": "#2a3f5f",
             "gridcolor": "white",
             "linecolor": "white",
             "minorgridcolor": "white",
             "startlinecolor": "#2a3f5f"
            },
            "type": "carpet"
           }
          ],
          "choropleth": [
           {
            "colorbar": {
             "outlinewidth": 0,
             "ticks": ""
            },
            "type": "choropleth"
           }
          ],
          "contour": [
           {
            "colorbar": {
             "outlinewidth": 0,
             "ticks": ""
            },
            "colorscale": [
             [
              0,
              "#0d0887"
             ],
             [
              0.1111111111111111,
              "#46039f"
             ],
             [
              0.2222222222222222,
              "#7201a8"
             ],
             [
              0.3333333333333333,
              "#9c179e"
             ],
             [
              0.4444444444444444,
              "#bd3786"
             ],
             [
              0.5555555555555556,
              "#d8576b"
             ],
             [
              0.6666666666666666,
              "#ed7953"
             ],
             [
              0.7777777777777778,
              "#fb9f3a"
             ],
             [
              0.8888888888888888,
              "#fdca26"
             ],
             [
              1,
              "#f0f921"
             ]
            ],
            "type": "contour"
           }
          ],
          "contourcarpet": [
           {
            "colorbar": {
             "outlinewidth": 0,
             "ticks": ""
            },
            "type": "contourcarpet"
           }
          ],
          "heatmap": [
           {
            "colorbar": {
             "outlinewidth": 0,
             "ticks": ""
            },
            "colorscale": [
             [
              0,
              "#0d0887"
             ],
             [
              0.1111111111111111,
              "#46039f"
             ],
             [
              0.2222222222222222,
              "#7201a8"
             ],
             [
              0.3333333333333333,
              "#9c179e"
             ],
             [
              0.4444444444444444,
              "#bd3786"
             ],
             [
              0.5555555555555556,
              "#d8576b"
             ],
             [
              0.6666666666666666,
              "#ed7953"
             ],
             [
              0.7777777777777778,
              "#fb9f3a"
             ],
             [
              0.8888888888888888,
              "#fdca26"
             ],
             [
              1,
              "#f0f921"
             ]
            ],
            "type": "heatmap"
           }
          ],
          "heatmapgl": [
           {
            "colorbar": {
             "outlinewidth": 0,
             "ticks": ""
            },
            "colorscale": [
             [
              0,
              "#0d0887"
             ],
             [
              0.1111111111111111,
              "#46039f"
             ],
             [
              0.2222222222222222,
              "#7201a8"
             ],
             [
              0.3333333333333333,
              "#9c179e"
             ],
             [
              0.4444444444444444,
              "#bd3786"
             ],
             [
              0.5555555555555556,
              "#d8576b"
             ],
             [
              0.6666666666666666,
              "#ed7953"
             ],
             [
              0.7777777777777778,
              "#fb9f3a"
             ],
             [
              0.8888888888888888,
              "#fdca26"
             ],
             [
              1,
              "#f0f921"
             ]
            ],
            "type": "heatmapgl"
           }
          ],
          "histogram": [
           {
            "marker": {
             "pattern": {
              "fillmode": "overlay",
              "size": 10,
              "solidity": 0.2
             }
            },
            "type": "histogram"
           }
          ],
          "histogram2d": [
           {
            "colorbar": {
             "outlinewidth": 0,
             "ticks": ""
            },
            "colorscale": [
             [
              0,
              "#0d0887"
             ],
             [
              0.1111111111111111,
              "#46039f"
             ],
             [
              0.2222222222222222,
              "#7201a8"
             ],
             [
              0.3333333333333333,
              "#9c179e"
             ],
             [
              0.4444444444444444,
              "#bd3786"
             ],
             [
              0.5555555555555556,
              "#d8576b"
             ],
             [
              0.6666666666666666,
              "#ed7953"
             ],
             [
              0.7777777777777778,
              "#fb9f3a"
             ],
             [
              0.8888888888888888,
              "#fdca26"
             ],
             [
              1,
              "#f0f921"
             ]
            ],
            "type": "histogram2d"
           }
          ],
          "histogram2dcontour": [
           {
            "colorbar": {
             "outlinewidth": 0,
             "ticks": ""
            },
            "colorscale": [
             [
              0,
              "#0d0887"
             ],
             [
              0.1111111111111111,
              "#46039f"
             ],
             [
              0.2222222222222222,
              "#7201a8"
             ],
             [
              0.3333333333333333,
              "#9c179e"
             ],
             [
              0.4444444444444444,
              "#bd3786"
             ],
             [
              0.5555555555555556,
              "#d8576b"
             ],
             [
              0.6666666666666666,
              "#ed7953"
             ],
             [
              0.7777777777777778,
              "#fb9f3a"
             ],
             [
              0.8888888888888888,
              "#fdca26"
             ],
             [
              1,
              "#f0f921"
             ]
            ],
            "type": "histogram2dcontour"
           }
          ],
          "mesh3d": [
           {
            "colorbar": {
             "outlinewidth": 0,
             "ticks": ""
            },
            "type": "mesh3d"
           }
          ],
          "parcoords": [
           {
            "line": {
             "colorbar": {
              "outlinewidth": 0,
              "ticks": ""
             }
            },
            "type": "parcoords"
           }
          ],
          "pie": [
           {
            "automargin": true,
            "type": "pie"
           }
          ],
          "scatter": [
           {
            "fillpattern": {
             "fillmode": "overlay",
             "size": 10,
             "solidity": 0.2
            },
            "type": "scatter"
           }
          ],
          "scatter3d": [
           {
            "line": {
             "colorbar": {
              "outlinewidth": 0,
              "ticks": ""
             }
            },
            "marker": {
             "colorbar": {
              "outlinewidth": 0,
              "ticks": ""
             }
            },
            "type": "scatter3d"
           }
          ],
          "scattercarpet": [
           {
            "marker": {
             "colorbar": {
              "outlinewidth": 0,
              "ticks": ""
             }
            },
            "type": "scattercarpet"
           }
          ],
          "scattergeo": [
           {
            "marker": {
             "colorbar": {
              "outlinewidth": 0,
              "ticks": ""
             }
            },
            "type": "scattergeo"
           }
          ],
          "scattergl": [
           {
            "marker": {
             "colorbar": {
              "outlinewidth": 0,
              "ticks": ""
             }
            },
            "type": "scattergl"
           }
          ],
          "scattermapbox": [
           {
            "marker": {
             "colorbar": {
              "outlinewidth": 0,
              "ticks": ""
             }
            },
            "type": "scattermapbox"
           }
          ],
          "scatterpolar": [
           {
            "marker": {
             "colorbar": {
              "outlinewidth": 0,
              "ticks": ""
             }
            },
            "type": "scatterpolar"
           }
          ],
          "scatterpolargl": [
           {
            "marker": {
             "colorbar": {
              "outlinewidth": 0,
              "ticks": ""
             }
            },
            "type": "scatterpolargl"
           }
          ],
          "scatterternary": [
           {
            "marker": {
             "colorbar": {
              "outlinewidth": 0,
              "ticks": ""
             }
            },
            "type": "scatterternary"
           }
          ],
          "surface": [
           {
            "colorbar": {
             "outlinewidth": 0,
             "ticks": ""
            },
            "colorscale": [
             [
              0,
              "#0d0887"
             ],
             [
              0.1111111111111111,
              "#46039f"
             ],
             [
              0.2222222222222222,
              "#7201a8"
             ],
             [
              0.3333333333333333,
              "#9c179e"
             ],
             [
              0.4444444444444444,
              "#bd3786"
             ],
             [
              0.5555555555555556,
              "#d8576b"
             ],
             [
              0.6666666666666666,
              "#ed7953"
             ],
             [
              0.7777777777777778,
              "#fb9f3a"
             ],
             [
              0.8888888888888888,
              "#fdca26"
             ],
             [
              1,
              "#f0f921"
             ]
            ],
            "type": "surface"
           }
          ],
          "table": [
           {
            "cells": {
             "fill": {
              "color": "#EBF0F8"
             },
             "line": {
              "color": "white"
             }
            },
            "header": {
             "fill": {
              "color": "#C8D4E3"
             },
             "line": {
              "color": "white"
             }
            },
            "type": "table"
           }
          ]
         },
         "layout": {
          "annotationdefaults": {
           "arrowcolor": "#2a3f5f",
           "arrowhead": 0,
           "arrowwidth": 1
          },
          "autotypenumbers": "strict",
          "coloraxis": {
           "colorbar": {
            "outlinewidth": 0,
            "ticks": ""
           }
          },
          "colorscale": {
           "diverging": [
            [
             0,
             "#8e0152"
            ],
            [
             0.1,
             "#c51b7d"
            ],
            [
             0.2,
             "#de77ae"
            ],
            [
             0.3,
             "#f1b6da"
            ],
            [
             0.4,
             "#fde0ef"
            ],
            [
             0.5,
             "#f7f7f7"
            ],
            [
             0.6,
             "#e6f5d0"
            ],
            [
             0.7,
             "#b8e186"
            ],
            [
             0.8,
             "#7fbc41"
            ],
            [
             0.9,
             "#4d9221"
            ],
            [
             1,
             "#276419"
            ]
           ],
           "sequential": [
            [
             0,
             "#0d0887"
            ],
            [
             0.1111111111111111,
             "#46039f"
            ],
            [
             0.2222222222222222,
             "#7201a8"
            ],
            [
             0.3333333333333333,
             "#9c179e"
            ],
            [
             0.4444444444444444,
             "#bd3786"
            ],
            [
             0.5555555555555556,
             "#d8576b"
            ],
            [
             0.6666666666666666,
             "#ed7953"
            ],
            [
             0.7777777777777778,
             "#fb9f3a"
            ],
            [
             0.8888888888888888,
             "#fdca26"
            ],
            [
             1,
             "#f0f921"
            ]
           ],
           "sequentialminus": [
            [
             0,
             "#0d0887"
            ],
            [
             0.1111111111111111,
             "#46039f"
            ],
            [
             0.2222222222222222,
             "#7201a8"
            ],
            [
             0.3333333333333333,
             "#9c179e"
            ],
            [
             0.4444444444444444,
             "#bd3786"
            ],
            [
             0.5555555555555556,
             "#d8576b"
            ],
            [
             0.6666666666666666,
             "#ed7953"
            ],
            [
             0.7777777777777778,
             "#fb9f3a"
            ],
            [
             0.8888888888888888,
             "#fdca26"
            ],
            [
             1,
             "#f0f921"
            ]
           ]
          },
          "colorway": [
           "#636efa",
           "#EF553B",
           "#00cc96",
           "#ab63fa",
           "#FFA15A",
           "#19d3f3",
           "#FF6692",
           "#B6E880",
           "#FF97FF",
           "#FECB52"
          ],
          "font": {
           "color": "#2a3f5f"
          },
          "geo": {
           "bgcolor": "white",
           "lakecolor": "white",
           "landcolor": "#E5ECF6",
           "showlakes": true,
           "showland": true,
           "subunitcolor": "white"
          },
          "hoverlabel": {
           "align": "left"
          },
          "hovermode": "closest",
          "mapbox": {
           "style": "light"
          },
          "paper_bgcolor": "white",
          "plot_bgcolor": "#E5ECF6",
          "polar": {
           "angularaxis": {
            "gridcolor": "white",
            "linecolor": "white",
            "ticks": ""
           },
           "bgcolor": "#E5ECF6",
           "radialaxis": {
            "gridcolor": "white",
            "linecolor": "white",
            "ticks": ""
           }
          },
          "scene": {
           "xaxis": {
            "backgroundcolor": "#E5ECF6",
            "gridcolor": "white",
            "gridwidth": 2,
            "linecolor": "white",
            "showbackground": true,
            "ticks": "",
            "zerolinecolor": "white"
           },
           "yaxis": {
            "backgroundcolor": "#E5ECF6",
            "gridcolor": "white",
            "gridwidth": 2,
            "linecolor": "white",
            "showbackground": true,
            "ticks": "",
            "zerolinecolor": "white"
           },
           "zaxis": {
            "backgroundcolor": "#E5ECF6",
            "gridcolor": "white",
            "gridwidth": 2,
            "linecolor": "white",
            "showbackground": true,
            "ticks": "",
            "zerolinecolor": "white"
           }
          },
          "shapedefaults": {
           "line": {
            "color": "#2a3f5f"
           }
          },
          "ternary": {
           "aaxis": {
            "gridcolor": "white",
            "linecolor": "white",
            "ticks": ""
           },
           "baxis": {
            "gridcolor": "white",
            "linecolor": "white",
            "ticks": ""
           },
           "bgcolor": "#E5ECF6",
           "caxis": {
            "gridcolor": "white",
            "linecolor": "white",
            "ticks": ""
           }
          },
          "title": {
           "x": 0.05
          },
          "xaxis": {
           "automargin": true,
           "gridcolor": "white",
           "linecolor": "white",
           "ticks": "",
           "title": {
            "standoff": 15
           },
           "zerolinecolor": "white",
           "zerolinewidth": 2
          },
          "yaxis": {
           "automargin": true,
           "gridcolor": "white",
           "linecolor": "white",
           "ticks": "",
           "title": {
            "standoff": 15
           },
           "zerolinecolor": "white",
           "zerolinewidth": 2
          }
         }
        },
        "title": {
         "text": "Data Quality: Column Shapes (Average Score=0.93)"
        },
        "xaxis": {
         "anchor": "y",
         "categoryorder": "total ascending",
         "domain": [
          0,
          1
         ],
         "title": {
          "text": "Column"
         }
        },
        "yaxis": {
         "anchor": "x",
         "domain": [
          0,
          1
         ],
         "range": [
          0,
          1
         ],
         "title": {
          "text": "Score"
         }
        }
       }
      }
     },
     "metadata": {},
     "output_type": "display_data"
    }
   ],
   "source": [
    "quality_report.get_visualization('Column Shapes')"
   ]
  },
  {
   "cell_type": "code",
   "execution_count": 6,
   "metadata": {},
   "outputs": [
    {
     "data": {
      "application/vnd.plotly.v1+json": {
       "config": {
        "plotlyServerURL": "https://plot.ly"
       },
       "data": [
        {
         "fill": "tozeroy",
         "hovertemplate": "<b>Real</b><br>Value: %{x}<br>Frequency: %{y}<extra></extra>",
         "legendgroup": "Real",
         "marker": {
          "color": "#000036"
         },
         "mode": "lines",
         "name": "Real",
         "showlegend": true,
         "type": "scatter",
         "x": [
          250,
          286.348,
          322.696,
          359.044,
          395.392,
          431.74,
          468.08799999999997,
          504.43600000000004,
          540.784,
          577.1320000000001,
          613.48,
          649.828,
          686.1759999999999,
          722.524,
          758.8720000000001,
          795.22,
          831.568,
          867.916,
          904.264,
          940.612,
          976.96,
          1013.308,
          1049.656,
          1086.004,
          1122.3519999999999,
          1158.7,
          1195.048,
          1231.396,
          1267.7440000000001,
          1304.092,
          1340.44,
          1376.788,
          1413.136,
          1449.484,
          1485.832,
          1522.18,
          1558.528,
          1594.876,
          1631.224,
          1667.572,
          1703.92,
          1740.268,
          1776.616,
          1812.964,
          1849.312,
          1885.66,
          1922.008,
          1958.356,
          1994.704,
          2031.052,
          2067.4,
          2103.748,
          2140.096,
          2176.444,
          2212.792,
          2249.1400000000003,
          2285.4880000000003,
          2321.836,
          2358.184,
          2394.532,
          2430.88,
          2467.228,
          2503.576,
          2539.924,
          2576.272,
          2612.62,
          2648.968,
          2685.316,
          2721.664,
          2758.012,
          2794.36,
          2830.708,
          2867.056,
          2903.404,
          2939.752,
          2976.1,
          3012.448,
          3048.796,
          3085.144,
          3121.492,
          3157.84,
          3194.188,
          3230.536,
          3266.884,
          3303.232,
          3339.58,
          3375.928,
          3412.276,
          3448.624,
          3484.972,
          3521.32,
          3557.668,
          3594.016,
          3630.364,
          3666.712,
          3703.06,
          3739.408,
          3775.756,
          3812.104,
          3848.452,
          3884.8,
          3921.148,
          3957.496,
          3993.844,
          4030.192,
          4066.54,
          4102.888,
          4139.236,
          4175.584,
          4211.932,
          4248.280000000001,
          4284.628000000001,
          4320.976000000001,
          4357.324,
          4393.672,
          4430.02,
          4466.368,
          4502.716,
          4539.064,
          4575.412,
          4611.76,
          4648.108,
          4684.456,
          4720.804,
          4757.152,
          4793.5,
          4829.848,
          4866.196,
          4902.544,
          4938.892,
          4975.24,
          5011.588,
          5047.936,
          5084.284,
          5120.632,
          5156.98,
          5193.328,
          5229.676,
          5266.024,
          5302.372,
          5338.72,
          5375.068,
          5411.416,
          5447.764,
          5484.112,
          5520.46,
          5556.808,
          5593.156,
          5629.504,
          5665.852,
          5702.2,
          5738.548,
          5774.896,
          5811.244,
          5847.592,
          5883.94,
          5920.288,
          5956.636,
          5992.984,
          6029.332,
          6065.68,
          6102.028,
          6138.376,
          6174.724,
          6211.072,
          6247.42,
          6283.768,
          6320.116,
          6356.464,
          6392.812,
          6429.16,
          6465.508,
          6501.856,
          6538.204,
          6574.552,
          6610.9,
          6647.248,
          6683.596,
          6719.944,
          6756.292,
          6792.64,
          6828.988,
          6865.336,
          6901.684,
          6938.032,
          6974.38,
          7010.728,
          7047.076,
          7083.424,
          7119.772,
          7156.12,
          7192.468,
          7228.816,
          7265.164,
          7301.512,
          7337.86,
          7374.208,
          7410.556,
          7446.904,
          7483.252,
          7519.6,
          7555.948,
          7592.296,
          7628.644,
          7664.992,
          7701.34,
          7737.688,
          7774.036,
          7810.384,
          7846.732,
          7883.08,
          7919.428,
          7955.776,
          7992.124,
          8028.472,
          8064.82,
          8101.168,
          8137.516,
          8173.864,
          8210.212,
          8246.560000000001,
          8282.908,
          8319.256000000001,
          8355.604,
          8391.952000000001,
          8428.3,
          8464.648,
          8500.996,
          8537.344,
          8573.692,
          8610.04,
          8646.388,
          8682.736,
          8719.084,
          8755.432,
          8791.78,
          8828.128,
          8864.476,
          8900.824,
          8937.172,
          8973.52,
          9009.868,
          9046.216,
          9082.564,
          9118.912,
          9155.26,
          9191.608,
          9227.956,
          9264.304,
          9300.652,
          9337,
          9373.348,
          9409.696,
          9446.044,
          9482.392,
          9518.74,
          9555.088,
          9591.436,
          9627.784,
          9664.132,
          9700.48,
          9736.828,
          9773.176,
          9809.524,
          9845.872,
          9882.22,
          9918.568,
          9954.916,
          9991.264,
          10027.612,
          10063.96,
          10100.308,
          10136.656,
          10173.004,
          10209.352,
          10245.7,
          10282.048,
          10318.396,
          10354.744,
          10391.092,
          10427.44,
          10463.788,
          10500.136,
          10536.484,
          10572.832,
          10609.18,
          10645.528,
          10681.876,
          10718.224,
          10754.572,
          10790.92,
          10827.268,
          10863.616,
          10899.964,
          10936.312,
          10972.66,
          11009.008,
          11045.356,
          11081.704,
          11118.052,
          11154.4,
          11190.748,
          11227.096,
          11263.444,
          11299.792,
          11336.14,
          11372.488,
          11408.836,
          11445.184,
          11481.532,
          11517.88,
          11554.228,
          11590.576,
          11626.924,
          11663.272,
          11699.62,
          11735.968,
          11772.316,
          11808.664,
          11845.012,
          11881.36,
          11917.708,
          11954.056,
          11990.404,
          12026.752,
          12063.1,
          12099.448,
          12135.796,
          12172.144,
          12208.492,
          12244.84,
          12281.188,
          12317.536,
          12353.884,
          12390.232,
          12426.58,
          12462.928,
          12499.276,
          12535.624,
          12571.972,
          12608.32,
          12644.668,
          12681.016,
          12717.364,
          12753.712,
          12790.06,
          12826.408,
          12862.756,
          12899.104,
          12935.452,
          12971.8,
          13008.148,
          13044.496,
          13080.844,
          13117.192,
          13153.54,
          13189.888,
          13226.236,
          13262.584,
          13298.932,
          13335.28,
          13371.628,
          13407.976,
          13444.324,
          13480.672,
          13517.02,
          13553.368,
          13589.716,
          13626.064,
          13662.412,
          13698.76,
          13735.108,
          13771.456,
          13807.804,
          13844.152,
          13880.5,
          13916.848,
          13953.196,
          13989.544,
          14025.892,
          14062.24,
          14098.588,
          14134.936,
          14171.284,
          14207.632,
          14243.98,
          14280.328,
          14316.676,
          14353.024,
          14389.372,
          14425.72,
          14462.068,
          14498.416,
          14534.764,
          14571.112,
          14607.46,
          14643.808,
          14680.156,
          14716.504,
          14752.852,
          14789.2,
          14825.548,
          14861.896,
          14898.244,
          14934.592,
          14970.94,
          15007.288,
          15043.636,
          15079.984,
          15116.332,
          15152.68,
          15189.028,
          15225.376,
          15261.724,
          15298.072,
          15334.42,
          15370.768,
          15407.116,
          15443.464,
          15479.812,
          15516.16,
          15552.508,
          15588.856,
          15625.204,
          15661.552,
          15697.9,
          15734.248,
          15770.596,
          15806.944,
          15843.292,
          15879.64,
          15915.988,
          15952.336,
          15988.684,
          16025.032,
          16061.38,
          16097.728,
          16134.076,
          16170.424,
          16206.772,
          16243.12,
          16279.468,
          16315.816,
          16352.164,
          16388.512000000002,
          16424.86,
          16461.208,
          16497.556,
          16533.904000000002,
          16570.252,
          16606.6,
          16642.948,
          16679.296,
          16715.644,
          16751.992,
          16788.34,
          16824.688,
          16861.036,
          16897.384,
          16933.732,
          16970.08,
          17006.428,
          17042.776,
          17079.124,
          17115.472,
          17151.82,
          17188.168,
          17224.516,
          17260.864,
          17297.212,
          17333.56,
          17369.908,
          17406.256,
          17442.604,
          17478.952,
          17515.3,
          17551.648,
          17587.996,
          17624.344,
          17660.692,
          17697.04,
          17733.388,
          17769.736,
          17806.084,
          17842.432,
          17878.78,
          17915.128,
          17951.476,
          17987.824,
          18024.172,
          18060.52,
          18096.868,
          18133.216,
          18169.564,
          18205.912,
          18242.26,
          18278.608,
          18314.956,
          18351.304,
          18387.652
         ],
         "xaxis": "x",
         "y": [
          0.00009868521300757144,
          0.0001041770797170465,
          0.0001097777877010322,
          0.0001154739409939727,
          0.00012125114174518759,
          0.00012709405756968577,
          0.00013298650009545743,
          0.00013891151424608755,
          0.00014485147763576898,
          0.00015078820929433502,
          0.00015670308678560098,
          0.0001625771706360895,
          0.00016839133485599351,
          0.00017412640221291416,
          0.00017976328281426367,
          0.00018528311446879922,
          0.00019066740323387874,
          0.00019589816251466857,
          0.00020095804906627426,
          0.00020583049426075526,
          0.00021049982901882834,
          0.00021495140087085396,
          0.0002191716817029656,
          0.00022314836486082008,
          0.00022687045042384398,
          0.00023032831762470472,
          0.00023351378356939936,
          0.00023642014760949444,
          0.0002390422209261387,
          0.00024137634110141026,
          0.00024342037167226897,
          0.0002451736868813989,
          0.0002466371420532583,
          0.0002478130302283884,
          0.00024870502588034105,
          0.00024931811671377905,
          0.00024965852469589566,
          0.0002497336176035067,
          0.0002495518124726311,
          0.00024912247241444036,
          0.0002484557983101366,
          0.0002475627169172989,
          0.0002464547669119007,
          0.00024514398435467256,
          0.00024364278900937324,
          0.00024196387285621316,
          0.0002401200920388561,
          0.00023812436336132417,
          0.00023598956631522828,
          0.00023372845147176215,
          0.00023135355592058464,
          0.00022887712628286985,
          0.00022631104967207584,
          0.000223666792826755,
          0.00022095534949815663,
          0.00021818719604414403,
          0.0002153722550623281,
          0.00021251986679112847,
          0.00020963876791892303,
          0.0002067370773693136,
          0.00020382228857499974,
          0.00020090126771358467,
          0.00019798025735508006,
          0.00019506488496181504,
          0.0001921601756854357,
          0.00018927056892096468,
          0.00018639993810258952,
          0.00018355161325787594,
          0.0001807284058744654,
          0.00017793263567390612,
          0.0001751661589292262,
          0.0001724303980043608,
          0.0001697263718330868,
          0.00016705472709137797,
          0.0001644157698490502,
          0.00016180949751353559,
          0.00015923563090013877,
          0.00015669364627912027,
          0.0001541828072605568,
          0.00015170219638355214,
          0.00014925074627767155,
          0.00014682727026223418,
          0.00014443049224426892,
          0.00014205907576955986,
          0.00013971165207430657,
          0.000137386846978591,
          0.00013508330645802417,
          0.00013279972072757778,
          0.0001305348466724045,
          0.00012828752846504154,
          0.00012605671621716643,
          0.00012384148252724241,
          0.00012164103680297774,
          0.00011945473725930265,
          0.00011728210051817722,
          0.0001151228087654175,
          0.00011297671445114268,
          0.00011084384255358783,
          0.00010872439045997171,
          0.0001066187255518707,
          0.00010452738061517766,
          0.00010245104722521607,
          0.00010039056728506248,
          0.00009834692291878947,
          0.00009632122494046521,
          0.00009431470013382034,
          0.00009232867758612874,
          0.00009036457432283517,
          0.00008842388048680122,
          0.00008650814429788517,
          0.00008461895701526389,
          0.0000827579381069674,
          0.00008092672080913896,
          0.00007912693823238077,
          0.00007736021014499371,
          0.00007562813053394619,
          0.00007393225601492452,
          0.00007227409513379447,
          0.00007065509857414188,
          0.00006907665026010999,
          0.00006754005932126088,
          0.00006604655286729491,
          0.00006459726950565857,
          0.00006319325352470553,
          0.0000618354496593281,
          0.00006052469835486134,
          0.000059261731448449756,
          0.00005804716819463017,
          0.000056881511573212794,
          0.00005576514483203875,
          0.000054698328234199054,
          0.00005368119599806331,
          0.00005271375343816341,
          0.00005179587433479667,
          0.000050927298579299376,
          0.000050107630159505204,
          0.00004933633556520063,
          0.000048612742705736364,
          0.0000479360404408107,
          0.00004730527883033966,
          0.00004671937020997806,
          0.000046177091195074186,
          0.00004567708570761346,
          0.000045217869108167024,
          0.000044797833498279305,
          0.0000444152542385059,
          0.000044068297704001,
          0.000043755030273767546,
          0.000043473428522167094,
          0.000043221390552817874,
          0.00004299674838642663,
          0.00004279728128624755,
          0.000042620729878575596,
          0.00004246481090176712,
          0.00004232723239648183,
          0.00004220570913282281,
          0.000042097978057371285,
          0.000042001813535232114,
          0.00004191504215942493,
          0.00004183555690246118,
          0.00004176133039276732,
          0.000041690427111633634,
          0.0000416210143243276,
          0.00004155137158151533,
          0.000041479898653660974,
          0.000041405121790994025,
          0.000041325698234216344,
          0.00004124041893556759,
          0.00004114820948533487,
          0.0000410481292744873,
          0.000040939368958976946,
          0.000040821246324496324,
          0.0000406932006813199,
          0.00004055478594651941,
          0.00004040566259468118,
          0.00004024558867770343,
          0.00004007441012887332,
          0.000039892050575909106,
          0.00003969850089183133,
          0.00003949380871135275,
          0.00003927806813406975,
          0.00003905140982432097,
          0.00003881399170152471,
          0.000038565990394586554,
          0.00003830759361015796,
          0.00003803899353778781,
          0.000037760381386047016,
          0.000037471943113296674,
          0.000037173856385680575,
          0.00003686628876393865,
          0.000036549397090513234,
          0.000036223328019867625,
          0.00003588821960862323,
          0.00003554420385860592,
          0.000035191410085699755,
          0.00003482996897089233,
          0.00003446001713738515,
          0.000034081702089290034,
          0.00003369518734331749,
          0.000033300657584942346,
          0.000032898323684672926,
          0.00003248842741799678,
          0.00003207124574403123,
          0.00003164709451245107,
          0.00003121633148546464,
          0.00003077935858094305,
          0.000030336623263759368,
          0.000029888619034403425,
          0.000029435884986464074,
          0.000028979004427061987,
          0.000028518602576271717,
          0.000028055343382498866,
          0.000027589925510249723,
          0.00002712307757436079,
          0.000026655552710221634,
          0.00002618812258256318,
          0.000025721570945804723,
          0.00002525668687662047,
          0.000024794257804243655,
          0.000024335062466066797,
          0.000023879863915383716,
          0.000023429402704764774,
          0.000022984390362728553,
          0.0000225455032732767,
          0.00002211337705774194,
          0.00002168860154654205,
          0.000021271716415132926,
          0.000020863207544033656,
          0.00002046350414758603,
          0.000020072976700445805,
          0.000019691935675010103,
          0.000019320631087399246,
          0.00001895925283453191,
          0.000018607931790560732,
          0.00001826674161773424,
          0.000017935701234862054,
          0.000017614777876193263,
          0.00001730389066484256,
          0.00001700291461805292,
          0.000016711684996658547,
          0.000016430001908162664,
          0.000016157635071880295,
          0.000015894328655582994,
          0.000015639806095949716,
          0.000015393774819757894,
          0.00001515593078899462,
          0.000014925962800741169,
          0.00001470355648157445,
          0.00001448839792609523,
          0.000014280176939779106,
          0.000014078589857384048,
          0.000013883341919358104,
          0.000013694149199803675,
          0.000013510740090297358,
          0.00001333285635398957,
          0.000013160253773679916,
          0.000012992702425779702,
          0.000012829986619056964,
          0.000012671904542674921,
          0.000012518267672181867,
          0.000012368899984732778,
          0.000012223637035902984,
          0.00001208232495001992,
          0.000011944819374054579,
          0.000011810984441885927,
          0.000011680691791315063,
          0.000011553819670730149,
          0.00001143025216599866,
          0.00001130987857120035,
          0.000011192592919433227,
          0.000011078293682352991,
          0.00001096688363956854,
          0.000010858269911730636,
          0.000010752364144321763,
          0.000010649082822967893,
          0.000010548347695710929,
          0.000010450086273236508,
          0.000010354232374654064,
          0.000010260726684143676,
          0.000010169517282660493,
          0.000010080560118926487,
          0.000009993819385117378,
          0.000009909267764912727,
          0.000009826886524836475,
          0.000009746665423964209,
          0.000009668602421983422,
          0.00000959270317111696,
          0.000009518980283399841,
          0.00000944745237106756,
          0.000009378142864202226,
          0.000009311078616120673,
          0.000009246288313115928,
          0.000009183800710924837,
          0.000009123642725552214,
          0.00000906583741071206,
          0.000009010401858044752,
          0.000008957345059352962,
          0.00000890666577230771,
          0.000008858350432371496,
          0.000008812371154053566,
          0.000008768683864061487,
          0.000008727226607471834,
          0.000008687918065761715,
          0.000008650656322487364,
          0.000008615317908649126,
          0.000008581757155437583,
          0.000008549805877215626,
          0.000008519273402366279,
          0.000008489946964136623,
          0.00000846159245794526,
          0.00000843395556590336,
          0.000008406763243628098,
          0.000008379725558896302,
          0.00000835253786637977,
          0.000008324883297693357,
          0.000008296435541334011,
          0.000008266861882841023,
          0.000008235826471701772,
          0.000008202993778187085,
          0.000008168032200442256,
          0.000008130617779788594,
          0.000008090437980306686,
          0.000008047195487370098,
          0.000008000611978868199,
          0.000007950431822389864,
          0.00000789642565162572,
          0.000007838393775677721,
          0.000007776169375836144,
          0.000007709621445693706,
          0.000007638657432215854,
          0.000007563225537579921,
          0.000007483316644241124,
          0.000007398965828787391,
          0.000007310253433715061,
          0.0000072173056702985765,
          0.000007120294730238157,
          0.000007019438388744616,
          0.000006914999087142591,
          0.000006807282488917164,
          0.000006696635509354376,
          0.0000065834438254815674,
          0.0000064681288798315545,
          0.000006351144398554971,
          0.0000062329724514926805,
          0.000006114119088887012,
          0.00000599510959633968,
          0.0000058764834162875935,
          0.000005758788790533478,
          0.0000056425771841021575,
          0.000005528397555760382,
          0.000005416790544812239,
          0.000005308282647141358,
          0.000005203380455810808,
          0.000005102565042759579,
          0.00000500628655818017,
          0.000004914959122975884,
          0.000004828956087253534,
          0.000004748605724108149,
          0.000004674187423027413,
          0.000004605928441138743,
          0.000004544001263319826,
          0.0000044885216139975395,
          0.000004439547154396197,
          0.000004397076889209834,
          0.000004361051296326633,
          0.00000433135318250232,
          0.000004307809256948543,
          0.000004290192403862306,
          0.000004278224624166026,
          0.000004271580606344861,
          0.000004269891876442481,
          0.000004272751468183533,
          0.000004279719045992235,
          0.000004290326406518283,
          0.000004304083278291975,
          0.000004320483334417766,
          0.0000043390103298661615,
          0.000004359144273000697,
          0.000004380367540519032,
          0.000004402170846010282,
          0.000004424058974824378,
          0.000004445556201880707,
          0.000004466211314354201,
          0.000004485602167788328,
          0.000004503339711993382,
          0.000004519071431973351,
          0.0000045324841589444855,
          0.000004543306217105204,
          0.0000045513088830178555,
          0.000004556307146082293,
          0.00000455815977042409,
          0.000004556768670383724,
          0.000004552077623470384,
          0.000004544070355927526,
          0.00000453276804674147,
          0.0000045182263058104515,
          0.00000450053169089022,
          0.0000044797978356684705,
          0.0000044561612677364265,
          0.000004429777000185437,
          0.000004400813983948412,
          0.000004369450509747078,
          0.000004335869648544418,
          0.000004300254817718622,
          0.000004262785556786689,
          0.0000042236335914651914,
          0.000004182959258250495,
          0.00000414090835365571,
          0.000004097609462913553,
          0.000004053171812532499,
          0.0000040076836797939015,
          0.000003961211380339771,
          0.0000039137988426819856,
          0.000003865467766032773,
          0.000003816218345589264,
          0.000003766030537574465,
          0.0000037148658252098886,
          0.0000036626694366213336,
          0.000003609372956688182,
          0.0000035548972672391928,
          0.0000034991557439414034,
          0.0000034420576338531786,
          0.000003383511535004722,
          0.0000033234288985732344,
          0.000003261727475232281,
          0.0000031983346300282625,
          0.0000031331904545786406,
          0.0000030662506113629713,
          0.0000029974888522176467,
          0.0000029268991616442458,
          0.0000028544974849689283,
          0.000002780323011495697,
          0.000002704438993315835,
          0.00000262693309110101,
          0.000002547917248751655,
          0.0000024675271089388528,
          0.0000023859209911271578,
          0.0000023032784623805093,
          0.0000022197985389459777,
          0.0000021356975631249203,
          0.0000020512068051602162,
          0.0000019665698437118447,
          0.000001882039780921311,
          0.0000017978763490782458,
          0.000001714342965537904,
          0.000001631703790869468,
          0.0000015502208423482985,
          0.000001470151210973882,
          0.0000013917444253549784,
          0.0000013152400002287726,
          0.0000012408652012559638,
          0.0000011688330512499932,
          0.0000010993405963456937,
          0.000001032567443976222,
          9.686745780808788e-7,
          9.07803450869093e-7,
          8.500753448578109e-7,
          7.955909938976762e-7,
          7.444304476024121e-7,
          6.96653160061798e-7,
          6.52298280994696e-7,
          6.113851255986363e-7,
          5.739137982682083e-7,
          5.398659450521022e-7,
          5.092056101446694e-7,
          4.818801727904279e-7,
          4.578213426311673e-7,
          4.369461936473443e-7,
          4.191582193306697e-7,
          4.043483944627663e-7,
          3.9239623175278526e-7,
          3.831708244962404e-7,
          3.765318692537526e-7,
          3.723306652173736e-7,
          3.704110893492682e-7,
          3.706105484721448e-7,
          3.727609112063512e-7,
          3.7668942394452156e-7,
          3.8221961590650485e-7,
          3.891721987169147e-7,
          3.9736596590274547e-7,
          4.066186972417983e-7,
          4.167480720406769e-7,
          4.27572594232416e-7,
          4.389125307172648e-7,
          4.505908626924275e-7,
          4.62434247900357e-7,
          4.742739898459325e-7,
          4.859470081671709e-7,
          4.972968025664335e-7,
          5.081744010902275e-7,
          5.184392821497224e-7,
          5.27960258557394e-7,
          5.366163110637963e-7,
          5.442973584477889e-7,
          5.50904951166327e-7,
          5.563528759168683e-7,
          5.605676592038846e-7,
          5.634889591161381e-7,
          5.650698359862724e-7
         ],
         "yaxis": "y"
        },
        {
         "fill": "tozeroy",
         "hovertemplate": "<b>Synthetic</b><br>Value: %{x}<br>Frequency: %{y}<extra></extra>",
         "legendgroup": "Synthetic",
         "marker": {
          "color": "#01E0C9"
         },
         "mode": "lines",
         "name": "Synthetic",
         "showlegend": true,
         "type": "scatter",
         "x": [
          250,
          286.348,
          322.696,
          359.044,
          395.392,
          431.74,
          468.08799999999997,
          504.43600000000004,
          540.784,
          577.1320000000001,
          613.48,
          649.828,
          686.1759999999999,
          722.524,
          758.8720000000001,
          795.22,
          831.568,
          867.916,
          904.264,
          940.612,
          976.96,
          1013.308,
          1049.656,
          1086.004,
          1122.3519999999999,
          1158.7,
          1195.048,
          1231.396,
          1267.7440000000001,
          1304.092,
          1340.44,
          1376.788,
          1413.136,
          1449.484,
          1485.832,
          1522.18,
          1558.528,
          1594.876,
          1631.224,
          1667.572,
          1703.92,
          1740.268,
          1776.616,
          1812.964,
          1849.312,
          1885.66,
          1922.008,
          1958.356,
          1994.704,
          2031.052,
          2067.4,
          2103.748,
          2140.096,
          2176.444,
          2212.792,
          2249.1400000000003,
          2285.4880000000003,
          2321.836,
          2358.184,
          2394.532,
          2430.88,
          2467.228,
          2503.576,
          2539.924,
          2576.272,
          2612.62,
          2648.968,
          2685.316,
          2721.664,
          2758.012,
          2794.36,
          2830.708,
          2867.056,
          2903.404,
          2939.752,
          2976.1,
          3012.448,
          3048.796,
          3085.144,
          3121.492,
          3157.84,
          3194.188,
          3230.536,
          3266.884,
          3303.232,
          3339.58,
          3375.928,
          3412.276,
          3448.624,
          3484.972,
          3521.32,
          3557.668,
          3594.016,
          3630.364,
          3666.712,
          3703.06,
          3739.408,
          3775.756,
          3812.104,
          3848.452,
          3884.8,
          3921.148,
          3957.496,
          3993.844,
          4030.192,
          4066.54,
          4102.888,
          4139.236,
          4175.584,
          4211.932,
          4248.280000000001,
          4284.628000000001,
          4320.976000000001,
          4357.324,
          4393.672,
          4430.02,
          4466.368,
          4502.716,
          4539.064,
          4575.412,
          4611.76,
          4648.108,
          4684.456,
          4720.804,
          4757.152,
          4793.5,
          4829.848,
          4866.196,
          4902.544,
          4938.892,
          4975.24,
          5011.588,
          5047.936,
          5084.284,
          5120.632,
          5156.98,
          5193.328,
          5229.676,
          5266.024,
          5302.372,
          5338.72,
          5375.068,
          5411.416,
          5447.764,
          5484.112,
          5520.46,
          5556.808,
          5593.156,
          5629.504,
          5665.852,
          5702.2,
          5738.548,
          5774.896,
          5811.244,
          5847.592,
          5883.94,
          5920.288,
          5956.636,
          5992.984,
          6029.332,
          6065.68,
          6102.028,
          6138.376,
          6174.724,
          6211.072,
          6247.42,
          6283.768,
          6320.116,
          6356.464,
          6392.812,
          6429.16,
          6465.508,
          6501.856,
          6538.204,
          6574.552,
          6610.9,
          6647.248,
          6683.596,
          6719.944,
          6756.292,
          6792.64,
          6828.988,
          6865.336,
          6901.684,
          6938.032,
          6974.38,
          7010.728,
          7047.076,
          7083.424,
          7119.772,
          7156.12,
          7192.468,
          7228.816,
          7265.164,
          7301.512,
          7337.86,
          7374.208,
          7410.556,
          7446.904,
          7483.252,
          7519.6,
          7555.948,
          7592.296,
          7628.644,
          7664.992,
          7701.34,
          7737.688,
          7774.036,
          7810.384,
          7846.732,
          7883.08,
          7919.428,
          7955.776,
          7992.124,
          8028.472,
          8064.82,
          8101.168,
          8137.516,
          8173.864,
          8210.212,
          8246.560000000001,
          8282.908,
          8319.256000000001,
          8355.604,
          8391.952000000001,
          8428.3,
          8464.648,
          8500.996,
          8537.344,
          8573.692,
          8610.04,
          8646.388,
          8682.736,
          8719.084,
          8755.432,
          8791.78,
          8828.128,
          8864.476,
          8900.824,
          8937.172,
          8973.52,
          9009.868,
          9046.216,
          9082.564,
          9118.912,
          9155.26,
          9191.608,
          9227.956,
          9264.304,
          9300.652,
          9337,
          9373.348,
          9409.696,
          9446.044,
          9482.392,
          9518.74,
          9555.088,
          9591.436,
          9627.784,
          9664.132,
          9700.48,
          9736.828,
          9773.176,
          9809.524,
          9845.872,
          9882.22,
          9918.568,
          9954.916,
          9991.264,
          10027.612,
          10063.96,
          10100.308,
          10136.656,
          10173.004,
          10209.352,
          10245.7,
          10282.048,
          10318.396,
          10354.744,
          10391.092,
          10427.44,
          10463.788,
          10500.136,
          10536.484,
          10572.832,
          10609.18,
          10645.528,
          10681.876,
          10718.224,
          10754.572,
          10790.92,
          10827.268,
          10863.616,
          10899.964,
          10936.312,
          10972.66,
          11009.008,
          11045.356,
          11081.704,
          11118.052,
          11154.4,
          11190.748,
          11227.096,
          11263.444,
          11299.792,
          11336.14,
          11372.488,
          11408.836,
          11445.184,
          11481.532,
          11517.88,
          11554.228,
          11590.576,
          11626.924,
          11663.272,
          11699.62,
          11735.968,
          11772.316,
          11808.664,
          11845.012,
          11881.36,
          11917.708,
          11954.056,
          11990.404,
          12026.752,
          12063.1,
          12099.448,
          12135.796,
          12172.144,
          12208.492,
          12244.84,
          12281.188,
          12317.536,
          12353.884,
          12390.232,
          12426.58,
          12462.928,
          12499.276,
          12535.624,
          12571.972,
          12608.32,
          12644.668,
          12681.016,
          12717.364,
          12753.712,
          12790.06,
          12826.408,
          12862.756,
          12899.104,
          12935.452,
          12971.8,
          13008.148,
          13044.496,
          13080.844,
          13117.192,
          13153.54,
          13189.888,
          13226.236,
          13262.584,
          13298.932,
          13335.28,
          13371.628,
          13407.976,
          13444.324,
          13480.672,
          13517.02,
          13553.368,
          13589.716,
          13626.064,
          13662.412,
          13698.76,
          13735.108,
          13771.456,
          13807.804,
          13844.152,
          13880.5,
          13916.848,
          13953.196,
          13989.544,
          14025.892,
          14062.24,
          14098.588,
          14134.936,
          14171.284,
          14207.632,
          14243.98,
          14280.328,
          14316.676,
          14353.024,
          14389.372,
          14425.72,
          14462.068,
          14498.416,
          14534.764,
          14571.112,
          14607.46,
          14643.808,
          14680.156,
          14716.504,
          14752.852,
          14789.2,
          14825.548,
          14861.896,
          14898.244,
          14934.592,
          14970.94,
          15007.288,
          15043.636,
          15079.984,
          15116.332,
          15152.68,
          15189.028,
          15225.376,
          15261.724,
          15298.072,
          15334.42,
          15370.768,
          15407.116,
          15443.464,
          15479.812,
          15516.16,
          15552.508,
          15588.856,
          15625.204,
          15661.552,
          15697.9,
          15734.248,
          15770.596,
          15806.944,
          15843.292,
          15879.64,
          15915.988,
          15952.336,
          15988.684,
          16025.032,
          16061.38,
          16097.728,
          16134.076,
          16170.424,
          16206.772,
          16243.12,
          16279.468,
          16315.816,
          16352.164,
          16388.512000000002,
          16424.86,
          16461.208,
          16497.556,
          16533.904000000002,
          16570.252,
          16606.6,
          16642.948,
          16679.296,
          16715.644,
          16751.992,
          16788.34,
          16824.688,
          16861.036,
          16897.384,
          16933.732,
          16970.08,
          17006.428,
          17042.776,
          17079.124,
          17115.472,
          17151.82,
          17188.168,
          17224.516,
          17260.864,
          17297.212,
          17333.56,
          17369.908,
          17406.256,
          17442.604,
          17478.952,
          17515.3,
          17551.648,
          17587.996,
          17624.344,
          17660.692,
          17697.04,
          17733.388,
          17769.736,
          17806.084,
          17842.432,
          17878.78,
          17915.128,
          17951.476,
          17987.824,
          18024.172,
          18060.52,
          18096.868,
          18133.216,
          18169.564,
          18205.912,
          18242.26,
          18278.608,
          18314.956,
          18351.304,
          18387.652
         ],
         "xaxis": "x",
         "y": [
          0.00007969668143845363,
          0.00008618511754040077,
          0.00009291849145424706,
          0.00009987792828711026,
          0.00010704194336912821,
          0.00011438655430528689,
          0.00012188542594007698,
          0.00012951004717070874,
          0.00013722993830302935,
          0.00014501288743687415,
          0.00015282521417350764,
          0.00016063205873338512,
          0.00016839769433334763,
          0.00017608586037679876,
          0.00018366011364147108,
          0.0001910841941980397,
          0.0001983224022595547,
          0.00020533998155843468,
          0.00021210350419803757,
          0.0002185812512645052,
          0.00022474358285619583,
          0.0002305632906444416,
          0.00023601592567594815,
          0.00024108009391933294,
          0.0002457377120960193,
          0.00024997421666050223,
          0.0002537787194337132,
          0.0002571441043569737,
          0.0002600670611133596,
          0.00026254805292906286,
          0.00026459121766947484,
          0.00026620420331524124,
          0.00026739794095855863,
          0.00026818636050585624,
          0.00026858605620993386,
          0.0002686159108843291,
          0.00026829668908384327,
          0.00026765061058950905,
          0.00026670091615380655,
          0.0002654714376053541,
          0.00026398618406894625,
          0.00026226895524049696,
          0.0002603429914061164,
          0.0002582306682724639,
          0.000255953242762681,
          0.0002535306538244461,
          0.0002509813800974077,
          0.00024832235410241643,
          0.0002455689305461107,
          0.00024273490447291712,
          0.00023983257341945508,
          0.00023687283649137387,
          0.00023386532242719178,
          0.0002308185382526631,
          0.00022774003005654684,
          0.00022463654770836565,
          0.00022151420594855343,
          0.0002183786351563019,
          0.00021523511617647202,
          0.0002120886947969123,
          0.00020894427274400292,
          0.00020580667334417398,
          0.00020268068122694056,
          0.00019957105657464547,
          0.00019648252542064213,
          0.00019341974833775064,
          0.0001903872705300379,
          0.00018738945684099856,
          0.00018443041552558879,
          0.00018151391481439108,
          0.00017864329634108904,
          0.00017582138942727962,
          0.00017305043003903423,
          0.00017033198796410562,
          0.00016766690542118938,
          0.00016505524991477214,
          0.00016249628369957884,
          0.00015998845172426912,
          0.00015752938939046654,
          0.00015511595089578377,
          0.0001527442583346052,
          0.000150409771116149,
          0.00014810737463657328,
          0.00014583148652427488,
          0.00014357617818194776,
          0.00014133530879459306,
          0.00013910266848066378,
          0.00013687212685553382,
          0.0001346377829734758,
          0.00013239411243490045,
          0.00013013610740476487,
          0.00012785940539547858,
          0.0001255604029270587,
          0.00012323635058525168,
          0.00012088542654443129,
          0.00011850678628861073,
          0.00011610058702695984,
          0.00011366798613030581,
          0.00011121111377908095,
          0.00010873302087544779,
          0.000106237604097029,
          0.0001037295107223265,
          0.00010121402650748097,
          0.0000986969504141264,
          0.00009618446035862209,
          0.00009368297436085048,
          0.00009119901151047228,
          0.00008873905704225261,
          0.00008630943552913404,
          0.00008391619577831503,
          0.00008156501047312272,
          0.00007926109296797084,
          0.00007700913294378129,
          0.00007481325189711194,
          0.0000726769786978293,
          0.00007060324473610833,
          0.00006859439751571526,
          0.00006665223095933679,
          0.00006477803019117246,
          0.00006297262816547842,
          0.00006123647122571372,
          0.00005956969051103658,
          0.000057972176074383406,
          0.000056443650634342086,
          0.000054983740043321435,
          0.00005359203780602622,
          0.00005226816131190526,
          0.000051011797838502936,
          0.00004982273882408135,
          0.00004870090138189637,
          0.00004764633651949977,
          0.00004665922401937084,
          0.000045739854417757706,
          0.0000448885989734459,
          0.000044105868935023516,
          0.00004339206578306642,
          0.000042747524432792585,
          0.00004217245162501332,
          0.000041666861901971036,
          0.00004123051365523217,
          0.000040862847742322754,
          0.00004056293109666129,
          0.000040329407603239165,
          0.000040160458284497084,
          0.000040053772543564925,
          0.00004000653185444069,
          0.000040015406882091444,
          0.00004007656857310487,
          0.000040185713294336935,
          0.00004033810162897065,
          0.000040528609983065756,
          0.000040751793727429394,
          0.00004100196021509822,
          0.000041273249687908495,
          0.00004155972182856862,
          0.000041855445536539396,
          0.00004215458941302409,
          0.00004245151043519251,
          0.0000427408383815483,
          0.00004301755373477078,
          0.00004327705702776124,
          0.000043515227902452084,
          0.000043728472506200343,
          0.00004391375824254025,
          0.00004406863530585204,
          0.000044191244846912545,
          0.0000442803140225321,
          0.00004433513856280274,
          0.00004435555383089722,
          0.000044341895642080515,
          0.000044294952342466124,
          0.000044215909818813844,
          0.000044106291215992457,
          0.00004396789317923688,
          0.00004380272041732623,
          0.000043612920305972375,
          0.00004340071912569914,
          0.000043168361364346857,
          0.00004291805332105157,
          0.000042651912036325364,
          0.00004237192035178863,
          0.0000420798886824141,
          0.000041777423872010465,
          0.00004146590530572261,
          0.00004114646827656041,
          0.0000408199944495401,
          0.0000404871091383874,
          0.00004014818500570874,
          0.00003980335171650405,
          0.000039452511014201936,
          0.00003909535664464246,
          0.00003873139852284369,
          0.00003835999051623184,
          0.00003798036120288955,
          0.00003759164695153508,
          0.00003719292665952431,
          0.00003678325747525418,
          0.000036361710822084204,
          0.000035927408033414114,
          0.00003547955490478147,
          0.00003501747447134038,
          0.00003454063733078704,
          0.000034048688855622626,
          0.00003354147267729367,
          0.000033019049880309366,
          0.000032481713418186393,
          0.00003192999735521279,
          0.00003136468064763627,
          0.00003078678530280457,
          0.000030197568891704766,
          0.00002959851153495603,
          0.000028991297629470136,
          0.00002837779272708362,
          0.000027760016111665718,
          0.000027140109741867023,
          0.000026520304327675714,
          0.00002590288338596099,
          0.00002529014617003884,
          0.00002468437038902642,
          0.00002408777562387739,
          0.000023502488309362732,
          0.000022930509087124333,
          0.000022373683247663136,
          0.000021833674873073908,
          0.000021311945172488032,
          0.0000208097353738588,
          0.000020328054404242534,
          0.000019867671461135392,
          0.000019429113454137896,
          0.00001901266718291712,
          0.00001861838601681548,
          0.000018246100755215983,
          0.00001789543427662535,
          0.000017565819528161735,
          0.000017256520364752622,
          0.000016966654717330684,
          0.000016695219549785214,
          0.000016441117053429118,
          0.000016203181523467956,
          0.00001598020636295943,
          0.00001577097066508179,
          0.00001557426483387517,
          0.000015388914717303078,
          0.000015213803745447542,
          0.000015047892592351152,
          0.000014890235914237901,
          0.000014739995761504984,
          0.000014596451318760471,
          0.000014459004697703521,
          0.000014327182592564761,
          0.000014200633707068741,
          0.000014079121974327162,
          0.000013962515714484971,
          0.000013850773005935144,
          0.000013743923680022436,
          0.000013642048481000047,
          0.000013545256056526993,
          0.000013453658552805922,
          0.000013367346676183138,
          0.000013286365143723559,
          0.000013210689473832452,
          0.000013140205060551796,
          0.00001307468942940316,
          0.000013013798488078076,
          0.000012957057463369986,
          0.000012903857059955451,
          0.000012853455192353324,
          0.000012804984435688537,
          0.00001275746512220785,
          0.000012709823788235628,
          0.000012660916460263609,
          0.000012609556068928814,
          0.000012554543104918963,
          0.000012494698489424475,
          0.000012428897530153287,
          0.00001235610377676024,
          0.000012275401579305733,
          0.00001218602619031055,
          0.00001208739033313989,
          0.000011979106282811372,
          0.000011861002664054905,
          0.000011733135358284857,
          0.000011595792117809516,
          0.0000114494907032559,
          0.000011294970579917432,
          0.000011133178421962185,
          0.000010965247872344296,
          0.00001079247418406415,
          0.000010616284519635765,
          0.000010438204806168277,
          0.000010259824130747006,
          0.000010082757713620457,
          0.000009908609515186013,
          0.000009738935518189216,
          0.00000957520868112839,
          0.000009418786485547097,
          0.000009270881902196843,
          0.000009132538482814511,
          0.000009004610149536292,
          0.000008887746106911501,
          0.00000878238114624888,
          0.000008688731452758399,
          0.00000860679586673369,
          0.000008536362394884698,
          0.000008477019620847062,
          0.000008428172528750202,
          0.00000838906213427706,
          0.000008358788217457531,
          0.00000833633437376138,
          0.000008320594547723823,
          0.000008310400188589063,
          0.00000830454717178588,
          0.00000830182166404382,
          0.000008301024173160082,
          0.000008300991114229016,
          0.00000830061333975191,
          0.000008298851217467866,
          0.000008294745991911706,
          0.00000828742732759367,
          0.000008276117096588251,
          0.00000826012963407492,
          0.000008238868834780472,
          0.00000821182259440212,
          0.000008178555206680529,
          0.00000813869840359378,
          0.000008091941769237782,
          0.000008038023265005457,
          0.000007976720574085048,
          0.000007907843908296657,
          0.000007831230822904337,
          0.00000774674345997028,
          0.000007654268494192904,
          0.00000755371989425884,
          0.00000744504444555448,
          0.000007328229814982175,
          0.0000072033147838467035,
          0.0000070704011380198856,
          0.00000692966659260622,
          0.000006781378046575906,
          0.000006625904415196197,
          0.000006463728276721654,
          0.000006295455595009158,
          0.000006121822840010362,
          0.000005943700920268499,
          0.000005762095460932495,
          0.000005578143101513266,
          0.000005393103642892992,
          0.000005208348035700439,
          0.000005025342364712159,
          0.0000048456281393070905,
          0.000004670799341656653,
          0.000004502476806622762,
          0.0000043422806057169174,
          0.0000041918011786662415,
          0.000004052569998205674,
          0.000003926030566096619,
          0.0000038135105217819782,
          0.000003716195601429153,
          0.000003635106117297118,
          0.00000357107653911588,
          0.0000035247386548008346,
          0.0000034965086720191447,
          0.0000034865784996990625,
          0.000003494911324284398,
          0.0000035212414738928564,
          0.00000356507844865399,
          0.000003625714890967112,
          0.0000037022381782138742,
          0.0000037935452448912976,
          0.000003898360182803359,
          0.000004015254127756179,
          0.000004142666919336251,
          0.000004278930016338181,
          0.000004422290163150658,
          0.000004570933330245084,
          0.000004723008492687976,
          0.000004876650861757084,
          0.000005030004243410175,
          0.000005181242260461795,
          0.0000053285882397070424,
          0.0000054703336277751114,
          0.000005604854857253877,
          0.00000573062863496553,
          0.0000058462456649870395,
          0.0000059504228484532055,
          0.0000060420140193558225,
          0.000006120019280186561,
          0.000006183592993857394,
          0.000006232050470121186,
          0.0000062648733576868876,
          0.000006281713719985538,
          0.000006282396736215875,
          0.00000626692193333318,
          0.0000062354628226398596,
          0.000006188364790105754,
          0.00000612614107570163,
          0.000006049466676554015,
          0.000005959170023580974,
          0.000005856222312510106,
          0.000005741724417864459,
          0.000005616891381607244,
          0.000005483034544571576,
          0.000005341541475470641,
          0.000005193853945228549,
          0.0000050414442889560176,
          0.000004885790589056319,
          0.000004728351195471336,
          0.0000045705391679021045,
          0.000004413697275346673,
          0.00000425907421661377,
          0.000004107802728692251,
          0.000003960880226271674,
          0.000003819152564915833,
          0.0000036833014433688716,
          0.0000035538358595636546,
          0.000003431087913715347,
          0.000003315213115135587,
          0.000003206195202686845,
          0.0000031038553382998688,
          0.000003007865385172284,
          0.000002917764843578804,
          0.0000028329808937037224,
          0.0000027528508919256645,
          0.000002676646588963023,
          0.000002603599288480829,
          0.0000025329251451003992,
          0.000002463849811776108,
          0.0000023956316873342268,
          0.0000023275830833887306,
          0.000002259088722433773,
          0.0000021896210912205785,
          0.0000021187523003436397,
          0.000002046162236573662,
          0.000001971642932959046,
          0.0000018950992172355904,
          0.0000018165458261574167,
          0.0000017361012871231816,
          0.0000016539789648695264,
          0.0000015704757469604834,
          0.0000014859588953115863,
          0.000001400851621157068,
          0.000001315617947896159,
          0.0000012307474113559892,
          0.0000011467401122962152,
          0.000001064092584300457,
          9.832848749453173e-7,
          9.047691630461193e-7,
          8.289601537233716e-7,
          7.562274098272999e-7,
          6.86889696472686e-7,
          6.212113382527152e-7,
          5.594005187887342e-7,
          5.01609391712523e-7,
          4.4793582241652126e-7,
          3.9842654175762174e-7,
          3.5308146656712557e-7,
          3.118589269673237e-7,
          2.746815363226176e-7,
          2.414424450008512e-7,
          2.1201173257156535e-7,
          1.8624271306237672e-7,
          1.6397795282718863e-7,
          1.4505482889632858e-7,
          1.2931048594680612e-7,
          1.16586081000931e-7,
          1.0673023560078035e-7,
          9.960164471465205e-8,
          9.507081944073977e-8,
          9.302096632370836e-8,
          9.33480296101016e-8,
          9.595994399154479e-8,
          1.0077516436095755e-7,
          1.0772055591583471e-7,
          1.1672874265804825e-7,
          1.2773502499259398e-7,
          1.4067398767885444e-7,
          1.5547592771284335e-7,
          1.7206323760563092e-7,
          1.903468826852132e-7,
          2.102231111480584e-7,
          2.3157053226871048e-7,
          2.542476911124827e-7,
          2.7809125703246257e-7,
          3.0291492803117996e-7,
          3.285091337563615e-7,
          3.5464159670179186e-7,
          3.810587845431547e-7,
          4.0748825712690685e-7,
          4.336418803427894e-7,
          4.592198470371717e-7,
          4.839154135108251e-7,
          5.074202303322367e-7,
          5.294301195581788e-7,
          5.496511283089993e-7,
          5.678056721930145e-7,
          5.83638572302793e-7,
          5.969227871336632e-7,
          6.074646461893062e-7,
          6.151084052622759e-7,
          6.19739964045299e-7
         ],
         "yaxis": "y"
        }
       ],
       "layout": {
        "barmode": "overlay",
        "font": {
         "size": 18
        },
        "hovermode": "closest",
        "legend": {
         "traceorder": "reversed"
        },
        "plot_bgcolor": "#F5F5F8",
        "template": {
         "data": {
          "bar": [
           {
            "error_x": {
             "color": "#2a3f5f"
            },
            "error_y": {
             "color": "#2a3f5f"
            },
            "marker": {
             "line": {
              "color": "#E5ECF6",
              "width": 0.5
             },
             "pattern": {
              "fillmode": "overlay",
              "size": 10,
              "solidity": 0.2
             }
            },
            "type": "bar"
           }
          ],
          "barpolar": [
           {
            "marker": {
             "line": {
              "color": "#E5ECF6",
              "width": 0.5
             },
             "pattern": {
              "fillmode": "overlay",
              "size": 10,
              "solidity": 0.2
             }
            },
            "type": "barpolar"
           }
          ],
          "carpet": [
           {
            "aaxis": {
             "endlinecolor": "#2a3f5f",
             "gridcolor": "white",
             "linecolor": "white",
             "minorgridcolor": "white",
             "startlinecolor": "#2a3f5f"
            },
            "baxis": {
             "endlinecolor": "#2a3f5f",
             "gridcolor": "white",
             "linecolor": "white",
             "minorgridcolor": "white",
             "startlinecolor": "#2a3f5f"
            },
            "type": "carpet"
           }
          ],
          "choropleth": [
           {
            "colorbar": {
             "outlinewidth": 0,
             "ticks": ""
            },
            "type": "choropleth"
           }
          ],
          "contour": [
           {
            "colorbar": {
             "outlinewidth": 0,
             "ticks": ""
            },
            "colorscale": [
             [
              0,
              "#0d0887"
             ],
             [
              0.1111111111111111,
              "#46039f"
             ],
             [
              0.2222222222222222,
              "#7201a8"
             ],
             [
              0.3333333333333333,
              "#9c179e"
             ],
             [
              0.4444444444444444,
              "#bd3786"
             ],
             [
              0.5555555555555556,
              "#d8576b"
             ],
             [
              0.6666666666666666,
              "#ed7953"
             ],
             [
              0.7777777777777778,
              "#fb9f3a"
             ],
             [
              0.8888888888888888,
              "#fdca26"
             ],
             [
              1,
              "#f0f921"
             ]
            ],
            "type": "contour"
           }
          ],
          "contourcarpet": [
           {
            "colorbar": {
             "outlinewidth": 0,
             "ticks": ""
            },
            "type": "contourcarpet"
           }
          ],
          "heatmap": [
           {
            "colorbar": {
             "outlinewidth": 0,
             "ticks": ""
            },
            "colorscale": [
             [
              0,
              "#0d0887"
             ],
             [
              0.1111111111111111,
              "#46039f"
             ],
             [
              0.2222222222222222,
              "#7201a8"
             ],
             [
              0.3333333333333333,
              "#9c179e"
             ],
             [
              0.4444444444444444,
              "#bd3786"
             ],
             [
              0.5555555555555556,
              "#d8576b"
             ],
             [
              0.6666666666666666,
              "#ed7953"
             ],
             [
              0.7777777777777778,
              "#fb9f3a"
             ],
             [
              0.8888888888888888,
              "#fdca26"
             ],
             [
              1,
              "#f0f921"
             ]
            ],
            "type": "heatmap"
           }
          ],
          "heatmapgl": [
           {
            "colorbar": {
             "outlinewidth": 0,
             "ticks": ""
            },
            "colorscale": [
             [
              0,
              "#0d0887"
             ],
             [
              0.1111111111111111,
              "#46039f"
             ],
             [
              0.2222222222222222,
              "#7201a8"
             ],
             [
              0.3333333333333333,
              "#9c179e"
             ],
             [
              0.4444444444444444,
              "#bd3786"
             ],
             [
              0.5555555555555556,
              "#d8576b"
             ],
             [
              0.6666666666666666,
              "#ed7953"
             ],
             [
              0.7777777777777778,
              "#fb9f3a"
             ],
             [
              0.8888888888888888,
              "#fdca26"
             ],
             [
              1,
              "#f0f921"
             ]
            ],
            "type": "heatmapgl"
           }
          ],
          "histogram": [
           {
            "marker": {
             "pattern": {
              "fillmode": "overlay",
              "size": 10,
              "solidity": 0.2
             }
            },
            "type": "histogram"
           }
          ],
          "histogram2d": [
           {
            "colorbar": {
             "outlinewidth": 0,
             "ticks": ""
            },
            "colorscale": [
             [
              0,
              "#0d0887"
             ],
             [
              0.1111111111111111,
              "#46039f"
             ],
             [
              0.2222222222222222,
              "#7201a8"
             ],
             [
              0.3333333333333333,
              "#9c179e"
             ],
             [
              0.4444444444444444,
              "#bd3786"
             ],
             [
              0.5555555555555556,
              "#d8576b"
             ],
             [
              0.6666666666666666,
              "#ed7953"
             ],
             [
              0.7777777777777778,
              "#fb9f3a"
             ],
             [
              0.8888888888888888,
              "#fdca26"
             ],
             [
              1,
              "#f0f921"
             ]
            ],
            "type": "histogram2d"
           }
          ],
          "histogram2dcontour": [
           {
            "colorbar": {
             "outlinewidth": 0,
             "ticks": ""
            },
            "colorscale": [
             [
              0,
              "#0d0887"
             ],
             [
              0.1111111111111111,
              "#46039f"
             ],
             [
              0.2222222222222222,
              "#7201a8"
             ],
             [
              0.3333333333333333,
              "#9c179e"
             ],
             [
              0.4444444444444444,
              "#bd3786"
             ],
             [
              0.5555555555555556,
              "#d8576b"
             ],
             [
              0.6666666666666666,
              "#ed7953"
             ],
             [
              0.7777777777777778,
              "#fb9f3a"
             ],
             [
              0.8888888888888888,
              "#fdca26"
             ],
             [
              1,
              "#f0f921"
             ]
            ],
            "type": "histogram2dcontour"
           }
          ],
          "mesh3d": [
           {
            "colorbar": {
             "outlinewidth": 0,
             "ticks": ""
            },
            "type": "mesh3d"
           }
          ],
          "parcoords": [
           {
            "line": {
             "colorbar": {
              "outlinewidth": 0,
              "ticks": ""
             }
            },
            "type": "parcoords"
           }
          ],
          "pie": [
           {
            "automargin": true,
            "type": "pie"
           }
          ],
          "scatter": [
           {
            "fillpattern": {
             "fillmode": "overlay",
             "size": 10,
             "solidity": 0.2
            },
            "type": "scatter"
           }
          ],
          "scatter3d": [
           {
            "line": {
             "colorbar": {
              "outlinewidth": 0,
              "ticks": ""
             }
            },
            "marker": {
             "colorbar": {
              "outlinewidth": 0,
              "ticks": ""
             }
            },
            "type": "scatter3d"
           }
          ],
          "scattercarpet": [
           {
            "marker": {
             "colorbar": {
              "outlinewidth": 0,
              "ticks": ""
             }
            },
            "type": "scattercarpet"
           }
          ],
          "scattergeo": [
           {
            "marker": {
             "colorbar": {
              "outlinewidth": 0,
              "ticks": ""
             }
            },
            "type": "scattergeo"
           }
          ],
          "scattergl": [
           {
            "marker": {
             "colorbar": {
              "outlinewidth": 0,
              "ticks": ""
             }
            },
            "type": "scattergl"
           }
          ],
          "scattermapbox": [
           {
            "marker": {
             "colorbar": {
              "outlinewidth": 0,
              "ticks": ""
             }
            },
            "type": "scattermapbox"
           }
          ],
          "scatterpolar": [
           {
            "marker": {
             "colorbar": {
              "outlinewidth": 0,
              "ticks": ""
             }
            },
            "type": "scatterpolar"
           }
          ],
          "scatterpolargl": [
           {
            "marker": {
             "colorbar": {
              "outlinewidth": 0,
              "ticks": ""
             }
            },
            "type": "scatterpolargl"
           }
          ],
          "scatterternary": [
           {
            "marker": {
             "colorbar": {
              "outlinewidth": 0,
              "ticks": ""
             }
            },
            "type": "scatterternary"
           }
          ],
          "surface": [
           {
            "colorbar": {
             "outlinewidth": 0,
             "ticks": ""
            },
            "colorscale": [
             [
              0,
              "#0d0887"
             ],
             [
              0.1111111111111111,
              "#46039f"
             ],
             [
              0.2222222222222222,
              "#7201a8"
             ],
             [
              0.3333333333333333,
              "#9c179e"
             ],
             [
              0.4444444444444444,
              "#bd3786"
             ],
             [
              0.5555555555555556,
              "#d8576b"
             ],
             [
              0.6666666666666666,
              "#ed7953"
             ],
             [
              0.7777777777777778,
              "#fb9f3a"
             ],
             [
              0.8888888888888888,
              "#fdca26"
             ],
             [
              1,
              "#f0f921"
             ]
            ],
            "type": "surface"
           }
          ],
          "table": [
           {
            "cells": {
             "fill": {
              "color": "#EBF0F8"
             },
             "line": {
              "color": "white"
             }
            },
            "header": {
             "fill": {
              "color": "#C8D4E3"
             },
             "line": {
              "color": "white"
             }
            },
            "type": "table"
           }
          ]
         },
         "layout": {
          "annotationdefaults": {
           "arrowcolor": "#2a3f5f",
           "arrowhead": 0,
           "arrowwidth": 1
          },
          "autotypenumbers": "strict",
          "coloraxis": {
           "colorbar": {
            "outlinewidth": 0,
            "ticks": ""
           }
          },
          "colorscale": {
           "diverging": [
            [
             0,
             "#8e0152"
            ],
            [
             0.1,
             "#c51b7d"
            ],
            [
             0.2,
             "#de77ae"
            ],
            [
             0.3,
             "#f1b6da"
            ],
            [
             0.4,
             "#fde0ef"
            ],
            [
             0.5,
             "#f7f7f7"
            ],
            [
             0.6,
             "#e6f5d0"
            ],
            [
             0.7,
             "#b8e186"
            ],
            [
             0.8,
             "#7fbc41"
            ],
            [
             0.9,
             "#4d9221"
            ],
            [
             1,
             "#276419"
            ]
           ],
           "sequential": [
            [
             0,
             "#0d0887"
            ],
            [
             0.1111111111111111,
             "#46039f"
            ],
            [
             0.2222222222222222,
             "#7201a8"
            ],
            [
             0.3333333333333333,
             "#9c179e"
            ],
            [
             0.4444444444444444,
             "#bd3786"
            ],
            [
             0.5555555555555556,
             "#d8576b"
            ],
            [
             0.6666666666666666,
             "#ed7953"
            ],
            [
             0.7777777777777778,
             "#fb9f3a"
            ],
            [
             0.8888888888888888,
             "#fdca26"
            ],
            [
             1,
             "#f0f921"
            ]
           ],
           "sequentialminus": [
            [
             0,
             "#0d0887"
            ],
            [
             0.1111111111111111,
             "#46039f"
            ],
            [
             0.2222222222222222,
             "#7201a8"
            ],
            [
             0.3333333333333333,
             "#9c179e"
            ],
            [
             0.4444444444444444,
             "#bd3786"
            ],
            [
             0.5555555555555556,
             "#d8576b"
            ],
            [
             0.6666666666666666,
             "#ed7953"
            ],
            [
             0.7777777777777778,
             "#fb9f3a"
            ],
            [
             0.8888888888888888,
             "#fdca26"
            ],
            [
             1,
             "#f0f921"
            ]
           ]
          },
          "colorway": [
           "#636efa",
           "#EF553B",
           "#00cc96",
           "#ab63fa",
           "#FFA15A",
           "#19d3f3",
           "#FF6692",
           "#B6E880",
           "#FF97FF",
           "#FECB52"
          ],
          "font": {
           "color": "#2a3f5f"
          },
          "geo": {
           "bgcolor": "white",
           "lakecolor": "white",
           "landcolor": "#E5ECF6",
           "showlakes": true,
           "showland": true,
           "subunitcolor": "white"
          },
          "hoverlabel": {
           "align": "left"
          },
          "hovermode": "closest",
          "mapbox": {
           "style": "light"
          },
          "paper_bgcolor": "white",
          "plot_bgcolor": "#E5ECF6",
          "polar": {
           "angularaxis": {
            "gridcolor": "white",
            "linecolor": "white",
            "ticks": ""
           },
           "bgcolor": "#E5ECF6",
           "radialaxis": {
            "gridcolor": "white",
            "linecolor": "white",
            "ticks": ""
           }
          },
          "scene": {
           "xaxis": {
            "backgroundcolor": "#E5ECF6",
            "gridcolor": "white",
            "gridwidth": 2,
            "linecolor": "white",
            "showbackground": true,
            "ticks": "",
            "zerolinecolor": "white"
           },
           "yaxis": {
            "backgroundcolor": "#E5ECF6",
            "gridcolor": "white",
            "gridwidth": 2,
            "linecolor": "white",
            "showbackground": true,
            "ticks": "",
            "zerolinecolor": "white"
           },
           "zaxis": {
            "backgroundcolor": "#E5ECF6",
            "gridcolor": "white",
            "gridwidth": 2,
            "linecolor": "white",
            "showbackground": true,
            "ticks": "",
            "zerolinecolor": "white"
           }
          },
          "shapedefaults": {
           "line": {
            "color": "#2a3f5f"
           }
          },
          "ternary": {
           "aaxis": {
            "gridcolor": "white",
            "linecolor": "white",
            "ticks": ""
           },
           "baxis": {
            "gridcolor": "white",
            "linecolor": "white",
            "ticks": ""
           },
           "bgcolor": "#E5ECF6",
           "caxis": {
            "gridcolor": "white",
            "linecolor": "white",
            "ticks": ""
           }
          },
          "title": {
           "x": 0.05
          },
          "xaxis": {
           "automargin": true,
           "gridcolor": "white",
           "linecolor": "white",
           "ticks": "",
           "title": {
            "standoff": 15
           },
           "zerolinecolor": "white",
           "zerolinewidth": 2
          },
          "yaxis": {
           "automargin": true,
           "gridcolor": "white",
           "linecolor": "white",
           "ticks": "",
           "title": {
            "standoff": 15
           },
           "zerolinecolor": "white",
           "zerolinewidth": 2
          }
         }
        },
        "title": {
         "text": "Real vs. Synthetic Data for column LoanAmount"
        },
        "xaxis": {
         "anchor": "y2",
         "domain": [
          0,
          1
         ],
         "title": {
          "text": "Value"
         },
         "zeroline": false
        },
        "yaxis": {
         "anchor": "free",
         "domain": [
          0,
          1
         ],
         "position": 0,
         "title": {
          "text": "Frequency"
         }
        }
       }
      }
     },
     "metadata": {},
     "output_type": "display_data"
    }
   ],
   "source": [
    "from sdv.evaluation.single_table import get_column_plot\n",
    "\n",
    "fig = get_column_plot(\n",
    "    real_data=real_data,\n",
    "    synthetic_data=synthetic_data,\n",
    "    column_name='LoanAmount',\n",
    "    metadata=metadata\n",
    ")\n",
    "\n",
    "fig.show()"
   ]
  },
  {
   "cell_type": "code",
   "execution_count": 7,
   "metadata": {},
   "outputs": [
    {
     "data": {
      "application/vnd.plotly.v1+json": {
       "config": {
        "plotlyServerURL": "https://plot.ly"
       },
       "data": [
        {
         "fill": "tozeroy",
         "hovertemplate": "<b>Real</b><br>Value: %{x}<br>Frequency: %{y}<extra></extra>",
         "legendgroup": "Real",
         "marker": {
          "color": "#000036"
         },
         "mode": "lines",
         "name": "Real",
         "showlegend": true,
         "type": "scatter",
         "x": [
          19,
          19.112,
          19.224,
          19.336,
          19.448,
          19.56,
          19.672,
          19.784,
          19.896,
          20.008,
          20.12,
          20.232,
          20.344,
          20.456,
          20.568,
          20.68,
          20.792,
          20.904,
          21.016,
          21.128,
          21.240000000000002,
          21.352,
          21.464,
          21.576,
          21.688,
          21.8,
          21.912,
          22.024,
          22.136,
          22.248,
          22.36,
          22.472,
          22.584,
          22.696,
          22.808,
          22.92,
          23.032,
          23.144,
          23.256,
          23.368000000000002,
          23.48,
          23.592,
          23.704,
          23.816,
          23.928,
          24.04,
          24.152,
          24.264,
          24.376,
          24.488,
          24.6,
          24.712,
          24.823999999999998,
          24.936,
          25.048000000000002,
          25.16,
          25.272,
          25.384,
          25.496000000000002,
          25.608,
          25.72,
          25.832,
          25.944,
          26.056,
          26.168,
          26.28,
          26.392,
          26.503999999999998,
          26.616,
          26.728,
          26.84,
          26.951999999999998,
          27.064,
          27.176000000000002,
          27.288,
          27.4,
          27.512,
          27.624000000000002,
          27.736,
          27.848,
          27.96,
          28.072,
          28.183999999999997,
          28.296,
          28.408,
          28.52,
          28.631999999999998,
          28.744,
          28.856,
          28.968,
          29.08,
          29.192,
          29.304000000000002,
          29.416,
          29.528,
          29.64,
          29.752000000000002,
          29.864,
          29.976,
          30.088,
          30.2,
          30.311999999999998,
          30.424,
          30.536,
          30.648,
          30.759999999999998,
          30.872,
          30.984,
          31.096,
          31.208,
          31.32,
          31.432000000000002,
          31.544,
          31.656,
          31.768,
          31.880000000000003,
          31.992,
          32.104,
          32.216,
          32.328,
          32.44,
          32.552,
          32.664,
          32.775999999999996,
          32.888,
          33,
          33.112,
          33.224000000000004,
          33.336,
          33.448,
          33.56,
          33.672,
          33.784,
          33.896,
          34.007999999999996,
          34.12,
          34.232,
          34.344,
          34.456,
          34.568,
          34.68,
          34.792,
          34.903999999999996,
          35.016,
          35.128,
          35.239999999999995,
          35.352000000000004,
          35.464,
          35.576,
          35.688,
          35.8,
          35.912,
          36.024,
          36.135999999999996,
          36.248000000000005,
          36.36,
          36.472,
          36.584,
          36.696,
          36.808,
          36.92,
          37.032,
          37.144,
          37.256,
          37.367999999999995,
          37.480000000000004,
          37.592,
          37.704,
          37.816,
          37.928,
          38.04,
          38.152,
          38.263999999999996,
          38.376000000000005,
          38.488,
          38.6,
          38.712,
          38.824,
          38.936,
          39.048,
          39.16,
          39.272,
          39.384,
          39.495999999999995,
          39.608000000000004,
          39.72,
          39.832,
          39.944,
          40.056,
          40.168,
          40.28,
          40.391999999999996,
          40.504000000000005,
          40.616,
          40.728,
          40.84,
          40.952,
          41.064,
          41.176,
          41.288,
          41.4,
          41.512,
          41.623999999999995,
          41.736000000000004,
          41.848,
          41.96,
          42.072,
          42.184,
          42.296,
          42.408,
          42.519999999999996,
          42.632000000000005,
          42.744,
          42.856,
          42.968,
          43.08,
          43.192,
          43.304,
          43.416,
          43.528,
          43.64,
          43.751999999999995,
          43.864000000000004,
          43.976,
          44.088,
          44.2,
          44.312,
          44.424,
          44.536,
          44.647999999999996,
          44.760000000000005,
          44.872,
          44.984,
          45.096000000000004,
          45.208,
          45.32,
          45.432,
          45.544,
          45.656,
          45.768,
          45.879999999999995,
          45.992000000000004,
          46.104,
          46.216,
          46.328,
          46.44,
          46.552,
          46.664,
          46.775999999999996,
          46.888000000000005,
          47,
          47.111999999999995,
          47.224000000000004,
          47.336,
          47.448,
          47.56,
          47.672,
          47.784,
          47.896,
          48.007999999999996,
          48.120000000000005,
          48.232,
          48.344,
          48.456,
          48.568,
          48.68,
          48.792,
          48.903999999999996,
          49.016,
          49.128,
          49.239999999999995,
          49.352000000000004,
          49.464,
          49.576,
          49.688,
          49.8,
          49.912,
          50.024,
          50.135999999999996,
          50.248000000000005,
          50.36,
          50.472,
          50.584,
          50.696,
          50.808,
          50.92,
          51.032,
          51.144,
          51.256,
          51.368,
          51.48,
          51.592,
          51.704,
          51.816,
          51.928,
          52.04,
          52.152,
          52.264,
          52.376,
          52.488,
          52.6,
          52.712,
          52.824,
          52.936,
          53.048,
          53.16,
          53.272,
          53.384,
          53.496,
          53.608,
          53.72,
          53.832,
          53.944,
          54.056,
          54.168,
          54.28,
          54.392,
          54.504,
          54.616,
          54.728,
          54.84,
          54.952,
          55.064,
          55.176,
          55.288,
          55.4,
          55.512,
          55.624,
          55.736,
          55.848,
          55.96,
          56.072,
          56.184,
          56.296,
          56.408,
          56.52,
          56.632,
          56.744,
          56.856,
          56.968,
          57.08,
          57.192,
          57.304,
          57.416,
          57.528,
          57.64,
          57.752,
          57.864,
          57.976,
          58.088,
          58.2,
          58.312,
          58.424,
          58.536,
          58.648,
          58.76,
          58.872,
          58.984,
          59.096,
          59.208,
          59.32,
          59.432,
          59.544,
          59.656,
          59.768,
          59.88,
          59.992,
          60.104,
          60.216,
          60.328,
          60.44,
          60.552,
          60.664,
          60.776,
          60.888,
          61,
          61.112,
          61.224,
          61.336,
          61.448,
          61.56,
          61.672,
          61.784,
          61.896,
          62.008,
          62.12,
          62.232,
          62.344,
          62.456,
          62.568,
          62.68,
          62.792,
          62.904,
          63.016,
          63.128,
          63.24,
          63.352,
          63.464,
          63.576,
          63.688,
          63.8,
          63.912,
          64.024,
          64.136,
          64.24799999999999,
          64.36,
          64.47200000000001,
          64.584,
          64.696,
          64.80799999999999,
          64.92,
          65.032,
          65.144,
          65.256,
          65.368,
          65.47999999999999,
          65.592,
          65.70400000000001,
          65.816,
          65.928,
          66.03999999999999,
          66.152,
          66.26400000000001,
          66.376,
          66.488,
          66.6,
          66.712,
          66.824,
          66.936,
          67.048,
          67.16,
          67.27199999999999,
          67.384,
          67.49600000000001,
          67.608,
          67.72,
          67.832,
          67.944,
          68.056,
          68.168,
          68.28,
          68.392,
          68.50399999999999,
          68.616,
          68.72800000000001,
          68.84,
          68.952,
          69.064,
          69.176,
          69.288,
          69.4,
          69.512,
          69.624,
          69.73599999999999,
          69.848,
          69.96000000000001,
          70.072,
          70.184,
          70.29599999999999,
          70.408,
          70.52000000000001,
          70.632,
          70.744,
          70.856,
          70.968,
          71.08,
          71.19200000000001,
          71.304,
          71.416,
          71.52799999999999,
          71.64,
          71.75200000000001,
          71.864,
          71.976,
          72.088,
          72.2,
          72.312,
          72.424,
          72.536,
          72.648,
          72.75999999999999,
          72.872,
          72.98400000000001,
          73.096,
          73.208,
          73.32,
          73.432,
          73.544,
          73.656,
          73.768,
          73.88,
          73.99199999999999,
          74.104,
          74.21600000000001,
          74.328,
          74.44,
          74.55199999999999,
          74.664,
          74.77600000000001,
          74.888
         ],
         "xaxis": "x",
         "y": [
          0.010842467720806551,
          0.011342688845545382,
          0.011855099051576177,
          0.012379368639264277,
          0.012915130871972163,
          0.0134619822816353,
          0.014019483145769533,
          0.014587158137300646,
          0.015164497147457344,
          0.01575095628078257,
          0.0163459590201073,
          0.01694889755810659,
          0.017559134290831495,
          0.01817600346739226,
          0.018798812988778307,
          0.019426846347637656,
          0.02005936469973965,
          0.020695609056789056,
          0.021334802589297513,
          0.021976153027328575,
          0.022618855146149083,
          0.023262093323139617,
          0.023905044151756455,
          0.02454687909790015,
          0.02518676718373717,
          0.025823877683858357,
          0.0264573828186107,
          0.02708646042955857,
          0.02771029662226416,
          0.028328088361956903,
          0.028939046008170523,
          0.029542395775052206,
          0.030137382104794413,
          0.030723269942491423,
          0.031299346901653334,
          0.03186492531064545,
          0.03241934413139312,
          0.03296197074284144,
          0.03349220258282403,
          0.03400946864319587,
          0.034513230814282654,
          0.035002985075887276,
          0.03547826253325914,
          0.03593863029756536,
          0.03638369221146328,
          0.03681308942140524,
          0.03722650079922886,
          0.03762364321646101,
          0.03800427167551914,
          0.03836817930268538,
          0.03871519720830296,
          0.03904519422013446,
          0.03935807649620208,
          0.039653787023736176,
          0.03993230501104891,
          0.04019364517927322,
          0.04043785696094362,
          0.04066502361235875,
          0.040875261246570024,
          0.04106871779368201,
          0.0412455718949535,
          0.04140603173695265,
          0.04155033383174775,
          0.04167874174884077,
          0.041791544804248244,
          0.04188905671184361,
          0.04197161420177617,
          0.04203957561050369,
          0.04209331944669909,
          0.042133242937055365,
          0.042159760555763016,
          0.042173302541254246,
          0.04217431340360317,
          0.04216325042582758,
          0.042140582162201894,
          0.04210678693656902,
          0.04206235134355519,
          0.042007768755505624,
          0.041943537837901716,
          0.04187016107595896,
          0.04178814331506887,
          0.04169799031770004,
          0.04160020733934099,
          0.041495297726028786,
          0.04138376153596845,
          0.04126609418771405,
          0.04114278513733662,
          0.041014316586959,
          0.040881162226998315,
          0.040743786014407105,
          0.04060264098915774,
          0.04045816813118074,
          0.04031079525991874,
          0.04016093597864246,
          0.040008988665640025,
          0.03985533551439158,
          0.03970034162483481,
          0.0395443541478524,
          0.03938770148512756,
          0.039230692546569655,
          0.03907361606755865,
          0.03891673998832437,
          0.0387603108978515,
          0.03860455354477456,
          0.03844967041781059,
          0.038295841398344195,
          0.03814322348784201,
          0.037991950612823906,
          0.037842133510128,
          0.037693859695204966,
          0.03754719351612244,
          0.03740217629587076,
          0.03725882656541342,
          0.03711714038972305,
          0.036977091788777616,
          0.03683863325516514,
          0.0367016963695322,
          0.0365661925146484,
          0.03643201368830673,
          0.03629903341466135,
          0.03616710775293171,
          0.03603607640163773,
          0.03590576389574179,
          0.03577598089321301,
          0.03564652554664357,
          0.03551718495462557,
          0.03538773668666666,
          0.03525795037448645,
          0.03512758936161769,
          0.0349964124023444,
          0.034864175400159965,
          0.03473063317514087,
          0.034595541248925374,
          0.03445865763535886,
          0.034319744624352375,
          0.034178570546106984,
          0.03403491150258175,
          0.033888553052953546,
          0.03373929183983331,
          0.03358693714317322,
          0.03343131234911786,
          0.0332722563215424,
          0.03310962466464696,
          0.03294329086576905,
          0.03277314730850718,
          0.03259910614731309,
          0.03242110003590145,
          0.03223908270312672,
          0.03205302937136996,
          0.03186293701395492,
          0.03166882444963665,
          0.03147073227378308,
          0.031268722627445435,
          0.031062878807113163,
          0.030853304719487582,
          0.030640124187139694,
          0.030423480112351083,
          0.030203533507802745,
          0.029980462404036172,
          0.029754460644738145,
          0.029525736581913348,
          0.029294511683850586,
          0.02906101906949129,
          0.028825501983328804,
          0.028588212225331866,
          0.02834940855055745,
          0.028109355053132574,
          0.027868319549110815,
          0.027626571972381914,
          0.027384382797313252,
          0.027142021501159807,
          0.026899755078495218,
          0.026657846619000503,
          0.026416553958936065,
          0.02617612841549757,
          0.0259368136120696,
          0.02569884440113864,
          0.02546244589033068,
          0.02522783257573208,
          0.024995207585326938,
          0.024764762034086722,
          0.024536674490971095,
          0.024311110556879734,
          0.024088222551429544,
          0.023868149305347086,
          0.02365101605427313,
          0.02343693442887118,
          0.02322600253534871,
          0.02301830511981693,
          0.022813913809358762,
          0.022612887422238395,
          0.022415272339370067,
          0.022221102928969026,
          0.022030402016235396,
          0.021843181389960015,
          0.021659442338088204,
          0.02147917620453059,
          0.021302364959847043,
          0.021128981778860557,
          0.02095899161875443,
          0.02079235179176734,
          0.020629012527212418,
          0.02046891751819931,
          0.020312004449116006,
          0.020158205500617497,
          0.020007447829574077,
          0.01985965402211654,
          0.01971474251859425,
          0.019572628009908492,
          0.01943322180529536,
          0.019296432172201585,
          0.019162164649415152,
          0.01903032233507222,
          0.0189008061515656,
          0.018773515089713578,
          0.01864834643481903,
          0.01852519597744605,
          0.01840395821187923,
          0.018284526525289897,
          0.018166793380634882,
          0.018050650496251396,
          0.017935989024986203,
          0.01782269973552246,
          0.01771067319833939,
          0.01759979997847345,
          0.017489970836939303,
          0.0173810769423346,
          0.017273010093789985,
          0.01716566295604808,
          0.01705892930706899,
          0.016952704298165602,
          0.016846884726290142,
          0.016741369317710326,
          0.016636059021957063,
          0.01653085731458107,
          0.016425670506946127,
          0.01632040806099812,
          0.0162149829067049,
          0.0161093117596464,
          0.016003315436061698,
          0.015896919162532726,
          0.01579005287738998,
          0.01568265152088468,
          0.015574655311163537,
          0.015466010003124683,
          0.015356667127308515,
          0.015246584206092845,
          0.01513572494461939,
          0.015024059394056394,
          0.014911564085025055,
          0.014798222129254832,
          0.014684023287801683,
          0.014568964004448163,
          0.01445304740320469,
          0.014336283249147888,
          0.014218687872152233,
          0.01410028405340022,
          0.013981100874885844,
          0.013861173532452255,
          0.013740543113228134,
          0.013619256338641198,
          0.013497365274490315,
          0.013374927009848308,
          0.013252003306841785,
          0.013128660223607803,
          0.013004967712968265,
          0.012880999199571128,
          0.012756831138441782,
          0.012632542558052426,
          0.012508214591158886,
          0.012383929996761594,
          0.012259772676639356,
          0.012135827189954726,
          0.012012178269458738,
          0.011888910342819655,
          0.011766107062567562,
          0.011643850848085354,
          0.011522222442981855,
          0.0114013004910664,
          0.011281161133990776,
          0.011161877633450895,
          0.011043520020634986,
          0.010926154775379065,
          0.0108098445372383,
          0.010694647850410244,
          0.010580618944154675,
          0.010467807550046053,
          0.010356258757072948,
          0.010246012905264884,
          0.01013710551818685,
          0.010029567274295452,
          0.00992342401680499,
          0.009818696801367884,
          0.009715401980536019,
          0.009613551323642838,
          0.009513152170431274,
          0.00941420761645747,
          0.009316716728022397,
          0.009220674784132446,
          0.00912607354276398,
          0.009032901528510504,
          0.008941144338526047,
          0.008850784963546899,
          0.008761804120678108,
          0.008674180594568008,
          0.008587891583571865,
          0.008502913047515596,
          0.008419220053717756,
          0.00833678711801015,
          0.008255588537613292,
          0.008175598712866525,
          0.008096792454991383,
          0.008019145277265854,
          0.007942633667212528,
          0.007867235337649475,
          0.0077929294547126856,
          0.007719696841234433,
          0.0076475201541445995,
          0.007576384034851103,
          0.007506275231847694,
          0.007437182695084519,
          0.0073690976419229,
          0.0073020135947696775,
          0.007235926390752992,
          0.007170834164049288,
          0.007106737301707754,
          0.007043638374033522,
          0.0069815420407859695,
          0.006920454934625087,
          0.006860385523389939,
          0.006801343952924468,
          0.006743341872272051,
          0.0066863922431457225,
          0.006630509135642606,
          0.006575707512211021,
          0.006522003001901036,
          0.006469411666925701,
          0.006417949763547068,
          0.0063676334992623426,
          0.006318478788218742,
          0.006270501006720775,
          0.0062237147506194,
          0.006178133596286044,
          0.006133769866782066,
          0.006090634404731697,
          0.006048736353301194,
          0.006008082946576147,
          0.005968679310516918,
          0.005930528275556272,
          0.005893630201791408,
          0.005857982817607362,
          0.005823581072458855,
          0.0057904170044281245,
          0.005758479623072244,
          0.005727754807971303,
          0.005698225223294087,
          0.005669870248605125,
          0.005642665926052421,
          0.005616584923994197,
          0.0055915965170487796,
          0.005567666582483159,
          0.005544757612792992,
          0.005522828744269309,
          0.005501835801295979,
          0.005481731356075875,
          0.005462464803441891,
          0.0054439824503731225,
          0.005426227619804184,
          0.005409140768287282,
          0.005392659617042044,
          0.005376719295906101,
          0.005361252499680368,
          0.005346189656345063,
          0.005331459106606807,
          0.005316987294221451,
          0.005302698966523023,
          0.00528851738457399,
          0.005274364542336176,
          0.005260161394246233,
          0.0052458280905609556,
          0.005231284219819641,
          0.005216449057749142,
          0.0052012418219154226,
          0.005185581931400833,
          0.005169389270760523,
          0.005152584457483784,
          0.0051350891121572035,
          0.005116826130496987,
          0.005097719956386855,
          0.0050776968550273185,
          0.005056685185272095,
          0.005034615670197554,
          0.005011421664923006,
          0.004987039420673818,
          0.004961408344056117,
          0.00493447125049105,
          0.0049061746107413136,
          0.0048764687894499725,
          0.004845308274605105,
          0.00481265189684196,
          0.004778463037498969,
          0.0047427098243535805,
          0.0047053653139810135,
          0.0046664076597020465,
          0.004625820264115595,
          0.004583591915248312,
          0.004539716905396286,
          0.00449419513178344,
          0.004447032178216516,
          0.004398239376978402,
          0.0043478338502681135,
          0.004295838530568861,
          0.00424228215940199,
          0.004187199264006882,
          0.004130630111571834,
          0.004072620640730355,
          0.004013222370128945,
          0.003952492283967223,
          0.003890492694507625,
          0.0038272910816501606,
          0.003762959909767533,
          0.0036975764220957812,
          0.003631222413077043,
          0.0035639839791517377,
          0.0034959512485987524,
          0.003427218091123094,
          0.0033578818079901805,
          0.00328804280360598,
          0.003217804239540107,
          0.0031472716720868927,
          0.003076552674554775,
          0.0030057564455696164,
          0.002934993404769511,
          0.00286437477736021,
          0.0027940121690881114,
          0.00272401713327438,
          0.0026545007316366174,
          0.002585573090704141,
          0.0025173429557094444,
          0.0024499172439092186,
          0.002383400599355968,
          0.0023178949512013018,
          0.00225349907766695,
          0.0021903081778668096,
          0.002128413453701727,
          0.0020679017040789362,
          0.0020088549337271707,
          0.0019513499788865914,
          0.0018954581521482164,
          0.0018412449086996426,
          0.0017887695362008584,
          0.0017380848704659252,
          0.0016892370390606838,
          0.0016422652348439348,
          0.0015972015213781702,
          0.0015540706720150745,
          0.0015128900443210154,
          0.0014736694913473924,
          0.0014364113110703087,
          0.0014011102351240345,
          0.001367753457732935,
          0.0013363207055084125,
          0.0013067843485213932,
          0.0012791095527888647,
          0.0012532544740262326,
          0.001229170492218131,
          0.0012068024862510922,
          0.0011860891475346865,
          0.0011669633312165516,
          0.001149352443274225,
          0.0011331788614463525,
          0.0011183603876512842,
          0.0011048107292362436,
          0.001092440006108747,
          0.001081155280527878,
          0.0010708611060802648,
          0.0010614600921377817,
          0.0010528534798949333,
          0.001044941725916887,
          0.0010376250889972095,
          0.0010308042160306066,
          0.0010243807225522883,
          0.0010182577635843,
          0.0010123405904612496,
          0.0010065370893844502,
          0.001000758297574641,
          0.0009949188930587155,
          0.0009889376543344402,
          0.0009827378864071946,
          0.0009762478099820769,
          0.0009694009109205174,
          0.0009621362474293261,
          0.0009543987128379661,
          0.0009461392522324406,
          0.0009373150316465263,
          0.0009278895589583473,
          0.00091783275609666,
          0.0009071209826214873,
          0.0008957370112020499,
          0.0008836699559656014
         ],
         "yaxis": "y"
        },
        {
         "fill": "tozeroy",
         "hovertemplate": "<b>Synthetic</b><br>Value: %{x}<br>Frequency: %{y}<extra></extra>",
         "legendgroup": "Synthetic",
         "marker": {
          "color": "#01E0C9"
         },
         "mode": "lines",
         "name": "Synthetic",
         "showlegend": true,
         "type": "scatter",
         "x": [
          19,
          19.112,
          19.224,
          19.336,
          19.448,
          19.56,
          19.672,
          19.784,
          19.896,
          20.008,
          20.12,
          20.232,
          20.344,
          20.456,
          20.568,
          20.68,
          20.792,
          20.904,
          21.016,
          21.128,
          21.240000000000002,
          21.352,
          21.464,
          21.576,
          21.688,
          21.8,
          21.912,
          22.024,
          22.136,
          22.248,
          22.36,
          22.472,
          22.584,
          22.696,
          22.808,
          22.92,
          23.032,
          23.144,
          23.256,
          23.368000000000002,
          23.48,
          23.592,
          23.704,
          23.816,
          23.928,
          24.04,
          24.152,
          24.264,
          24.376,
          24.488,
          24.6,
          24.712,
          24.823999999999998,
          24.936,
          25.048000000000002,
          25.16,
          25.272,
          25.384,
          25.496000000000002,
          25.608,
          25.72,
          25.832,
          25.944,
          26.056,
          26.168,
          26.28,
          26.392,
          26.503999999999998,
          26.616,
          26.728,
          26.84,
          26.951999999999998,
          27.064,
          27.176000000000002,
          27.288,
          27.4,
          27.512,
          27.624000000000002,
          27.736,
          27.848,
          27.96,
          28.072,
          28.183999999999997,
          28.296,
          28.408,
          28.52,
          28.631999999999998,
          28.744,
          28.856,
          28.968,
          29.08,
          29.192,
          29.304000000000002,
          29.416,
          29.528,
          29.64,
          29.752000000000002,
          29.864,
          29.976,
          30.088,
          30.2,
          30.311999999999998,
          30.424,
          30.536,
          30.648,
          30.759999999999998,
          30.872,
          30.984,
          31.096,
          31.208,
          31.32,
          31.432000000000002,
          31.544,
          31.656,
          31.768,
          31.880000000000003,
          31.992,
          32.104,
          32.216,
          32.328,
          32.44,
          32.552,
          32.664,
          32.775999999999996,
          32.888,
          33,
          33.112,
          33.224000000000004,
          33.336,
          33.448,
          33.56,
          33.672,
          33.784,
          33.896,
          34.007999999999996,
          34.12,
          34.232,
          34.344,
          34.456,
          34.568,
          34.68,
          34.792,
          34.903999999999996,
          35.016,
          35.128,
          35.239999999999995,
          35.352000000000004,
          35.464,
          35.576,
          35.688,
          35.8,
          35.912,
          36.024,
          36.135999999999996,
          36.248000000000005,
          36.36,
          36.472,
          36.584,
          36.696,
          36.808,
          36.92,
          37.032,
          37.144,
          37.256,
          37.367999999999995,
          37.480000000000004,
          37.592,
          37.704,
          37.816,
          37.928,
          38.04,
          38.152,
          38.263999999999996,
          38.376000000000005,
          38.488,
          38.6,
          38.712,
          38.824,
          38.936,
          39.048,
          39.16,
          39.272,
          39.384,
          39.495999999999995,
          39.608000000000004,
          39.72,
          39.832,
          39.944,
          40.056,
          40.168,
          40.28,
          40.391999999999996,
          40.504000000000005,
          40.616,
          40.728,
          40.84,
          40.952,
          41.064,
          41.176,
          41.288,
          41.4,
          41.512,
          41.623999999999995,
          41.736000000000004,
          41.848,
          41.96,
          42.072,
          42.184,
          42.296,
          42.408,
          42.519999999999996,
          42.632000000000005,
          42.744,
          42.856,
          42.968,
          43.08,
          43.192,
          43.304,
          43.416,
          43.528,
          43.64,
          43.751999999999995,
          43.864000000000004,
          43.976,
          44.088,
          44.2,
          44.312,
          44.424,
          44.536,
          44.647999999999996,
          44.760000000000005,
          44.872,
          44.984,
          45.096000000000004,
          45.208,
          45.32,
          45.432,
          45.544,
          45.656,
          45.768,
          45.879999999999995,
          45.992000000000004,
          46.104,
          46.216,
          46.328,
          46.44,
          46.552,
          46.664,
          46.775999999999996,
          46.888000000000005,
          47,
          47.111999999999995,
          47.224000000000004,
          47.336,
          47.448,
          47.56,
          47.672,
          47.784,
          47.896,
          48.007999999999996,
          48.120000000000005,
          48.232,
          48.344,
          48.456,
          48.568,
          48.68,
          48.792,
          48.903999999999996,
          49.016,
          49.128,
          49.239999999999995,
          49.352000000000004,
          49.464,
          49.576,
          49.688,
          49.8,
          49.912,
          50.024,
          50.135999999999996,
          50.248000000000005,
          50.36,
          50.472,
          50.584,
          50.696,
          50.808,
          50.92,
          51.032,
          51.144,
          51.256,
          51.368,
          51.48,
          51.592,
          51.704,
          51.816,
          51.928,
          52.04,
          52.152,
          52.264,
          52.376,
          52.488,
          52.6,
          52.712,
          52.824,
          52.936,
          53.048,
          53.16,
          53.272,
          53.384,
          53.496,
          53.608,
          53.72,
          53.832,
          53.944,
          54.056,
          54.168,
          54.28,
          54.392,
          54.504,
          54.616,
          54.728,
          54.84,
          54.952,
          55.064,
          55.176,
          55.288,
          55.4,
          55.512,
          55.624,
          55.736,
          55.848,
          55.96,
          56.072,
          56.184,
          56.296,
          56.408,
          56.52,
          56.632,
          56.744,
          56.856,
          56.968,
          57.08,
          57.192,
          57.304,
          57.416,
          57.528,
          57.64,
          57.752,
          57.864,
          57.976,
          58.088,
          58.2,
          58.312,
          58.424,
          58.536,
          58.648,
          58.76,
          58.872,
          58.984,
          59.096,
          59.208,
          59.32,
          59.432,
          59.544,
          59.656,
          59.768,
          59.88,
          59.992,
          60.104,
          60.216,
          60.328,
          60.44,
          60.552,
          60.664,
          60.776,
          60.888,
          61,
          61.112,
          61.224,
          61.336,
          61.448,
          61.56,
          61.672,
          61.784,
          61.896,
          62.008,
          62.12,
          62.232,
          62.344,
          62.456,
          62.568,
          62.68,
          62.792,
          62.904,
          63.016,
          63.128,
          63.24,
          63.352,
          63.464,
          63.576,
          63.688,
          63.8,
          63.912,
          64.024,
          64.136,
          64.24799999999999,
          64.36,
          64.47200000000001,
          64.584,
          64.696,
          64.80799999999999,
          64.92,
          65.032,
          65.144,
          65.256,
          65.368,
          65.47999999999999,
          65.592,
          65.70400000000001,
          65.816,
          65.928,
          66.03999999999999,
          66.152,
          66.26400000000001,
          66.376,
          66.488,
          66.6,
          66.712,
          66.824,
          66.936,
          67.048,
          67.16,
          67.27199999999999,
          67.384,
          67.49600000000001,
          67.608,
          67.72,
          67.832,
          67.944,
          68.056,
          68.168,
          68.28,
          68.392,
          68.50399999999999,
          68.616,
          68.72800000000001,
          68.84,
          68.952,
          69.064,
          69.176,
          69.288,
          69.4,
          69.512,
          69.624,
          69.73599999999999,
          69.848,
          69.96000000000001,
          70.072,
          70.184,
          70.29599999999999,
          70.408,
          70.52000000000001,
          70.632,
          70.744,
          70.856,
          70.968,
          71.08,
          71.19200000000001,
          71.304,
          71.416,
          71.52799999999999,
          71.64,
          71.75200000000001,
          71.864,
          71.976,
          72.088,
          72.2,
          72.312,
          72.424,
          72.536,
          72.648,
          72.75999999999999,
          72.872,
          72.98400000000001,
          73.096,
          73.208,
          73.32,
          73.432,
          73.544,
          73.656,
          73.768,
          73.88,
          73.99199999999999,
          74.104,
          74.21600000000001,
          74.328,
          74.44,
          74.55199999999999,
          74.664,
          74.77600000000001,
          74.888
         ],
         "xaxis": "x",
         "y": [
          0.012290536692192397,
          0.012702130850311516,
          0.013115474929349178,
          0.013529988268262664,
          0.013945081696460465,
          0.014360159620966357,
          0.014774622159375502,
          0.015187867308036906,
          0.015599293134736703,
          0.01600829998495512,
          0.016414292690706773,
          0.016816682770879762,
          0.017214890611973635,
          0.01760834761815893,
          0.01799649831962779,
          0.01837880242831019,
          0.01875473683016812,
          0.01912379750345963,
          0.019485501352601606,
          0.019839387947525825,
          0.020185021158771844,
          0.020521990678921662,
          0.020849913421454976,
          0.021168434788589208,
          0.02147722980026361,
          0.021776004077060013,
          0.022064494670585747,
          0.022342470735630764,
          0.022609734039274958,
          0.022866119303081835,
          0.023111494375508596,
          0.023345760232757876,
          0.023568850807438542,
          0.023780732645597276,
          0.023981404393928773,
          0.024170896120263553,
          0.02434926847171302,
          0.02451661167619036,
          0.024673044394310045,
          0.024818712429961542,
          0.024953787309105833,
          0.0250784647375081,
          0.02519296294926129,
          0.025297520958949424,
          0.025392396731235143,
          0.02547786528242185,
          0.025554216729201693,
          0.025621754300284565,
          0.025680792326935185,
          0.025731654228606484,
          0.025774670509814624,
          0.02581017678421273,
          0.025838511841417642,
          0.02586001577157476,
          0.025875028161879435,
          0.025883886378383684,
          0.02588692394531369,
          0.02588446903292176,
          0.025876843063544423,
          0.02586435944409171,
          0.025847322431656803,
          0.025826026137325202,
          0.025800753671637987,
          0.02577177643348905,
          0.025739353542603673,
          0.02570373141412112,
          0.025665143472253158,
          0.025623809998502847,
          0.025579938108558808,
          0.025533721850710404,
          0.0254853424175072,
          0.02543496846141605,
          0.02538275650439761,
          0.02532885143069122,
          0.02527338705161341,
          0.02521648673086935,
          0.025158264058765704,
          0.025098823563726246,
          0.025038261449736577,
          0.02497666634867721,
          0.024914120077004814,
          0.024850698386846178,
          0.024786471702279277,
          0.0247215058324082,
          0.02465586265369022,
          0.02458960075491531,
          0.02452277603920181,
          0.02445544227834715,
          0.02438765161584198,
          0.02431945501581685,
          0.0242509026561018,
          0.02418204426445435,
          0.024112929397814252,
          0.024043607665189332,
          0.023974128895438512,
          0.02390454325180247,
          0.023834901295523674,
          0.02376525400132624,
          0.023695652727845167,
          0.0236261491463655,
          0.023556795131395827,
          0.02348764261673481,
          0.023418743420736802,
          0.023350149044493458,
          0.023281910446617232,
          0.023214077798257775,
          0.023146700221882786,
          0.023079825517272556,
          0.023013499878071057,
          0.022947767602136276,
          0.022882670798838326,
          0.02281824909638477,
          0.02275453935217346,
          0.0226915753691449,
          0.022629387621057144,
          0.022568002989610023,
          0.022507444516321553,
          0.022447731172086427,
          0.022388877647335513,
          0.022330894165730933,
          0.022273786324312272,
          0.022217554962989113,
          0.02216219606623093,
          0.022107700699687746,
          0.02205405498439705,
          0.022001240111011285,
          0.021949232396292977,
          0.021898003383811166,
          0.021847519990475472,
          0.021797744700105967,
          0.02174863580480828,
          0.021700147694407437,
          0.021652231193634495,
          0.021604833946140413,
          0.021557900843788762,
          0.02151137449899976,
          0.021465195757219602,
          0.021419304245915496,
          0.021373638955797983,
          0.021328138849313578,
          0.021282743490815756,
          0.021237393692255305,
          0.02119203216769407,
          0.02114660418951823,
          0.02110105823885704,
          0.02105534664246751,
          0.02100942618816888,
          0.02096325871089371,
          0.020916811641477528,
          0.020870058510525487,
          0.020822979399992506,
          0.020775561335577262,
          0.02072779861357231,
          0.020679693056477797,
          0.020631254192470323,
          0.020582499354672518,
          0.020533453697097595,
          0.020484150125181188,
          0.02043462913983715,
          0.02038493859509163,
          0.020335133370445346,
          0.02028527496022923,
          0.02023543098331118,
          0.020185674617567734,
          0.020136083964529573,
          0.020086741350568406,
          0.02003773257182374,
          0.019989146090836782,
          0.019941072193508956,
          0.0198936021155351,
          0.019846827147858355,
          0.019800837730985857,
          0.019755722548127606,
          0.019711567627144003,
          0.01966845546114281,
          0.019626464157310092,
          0.019585666623182105,
          0.019546129799042567,
          0.01950791394452749,
          0.01947107198679837,
          0.019435648936842246,
          0.019401681379586456,
          0.019369197042569983,
          0.019338214446944814,
          0.019308742643549245,
          0.01928078103579924,
          0.01925431929007233,
          0.019229337333295387,
          0.019205805436414414,
          0.01918368438151789,
          0.019162925709473963,
          0.019143472044115994,
          0.01912525748827255,
          0.01910820808624445,
          0.019092242346770507,
          0.019077271820016683,
          0.019063201721745082,
          0.019049931597518617,
          0.019037356019604667,
          0.019025365309147828,
          0.019013846276184455,
          0.019002682970163727,
          0.01899175743381833,
          0.01898095045349666,
          0.018970142299398852,
          0.018959213449569648,
          0.01894804529195388,
          0.018936520799337192,
          0.01892452517254595,
          0.018911946447856865,
          0.018898676065174154,
          0.018884609394137858,
          0.018869646215954,
          0.018853691159333323,
          0.01883665408953093,
          0.018818450450035464,
          0.01879900155701658,
          0.01877823484712003,
          0.01875608407967777,
          0.01873248949481093,
          0.018707397929256544,
          0.018680762892071972,
          0.018652544602616047,
          0.018622709993394302,
          0.018591232680515133,
          0.018558092904561795,
          0.01852327744472566,
          0.01848677950902858,
          0.018448598603363738,
          0.018408740381996747,
          0.01836721648199295,
          0.0183240443438427,
          0.018279247020350248,
          0.0182328529755904,
          0.018184895875494666,
          0.018135414371336055,
          0.018084451877136913,
          0.018032056341726162,
          0.017978280015931616,
          0.017923179215142204,
          0.017866814077250437,
          0.01780924831579322,
          0.01775054896794257,
          0.017690786136871774,
          0.01763003272792979,
          0.017568364178007508,
          0.01750585817748119,
          0.01744259438414525,
          0.017378654128637,
          0.017314120110974336,
          0.01724907608799919,
          0.01718360655171468,
          0.01711779639873578,
          0.017051730591358342,
          0.016985493811013948,
          0.01691917010520519,
          0.01685284252932945,
          0.016786592785120038,
          0.016720500857758044,
          0.016654644654021562,
          0.01658909964413322,
          0.016523938510235436,
          0.01645923080466497,
          0.01639504262140049,
          0.01633143628420673,
          0.016268470055118004,
          0.016206197866940112,
          0.016144669083460513,
          0.016083928290972334,
          0.016024015124596058,
          0.015964964132685788,
          0.015906804682336132,
          0.015849560908699427,
          0.01579325171042038,
          0.01573789079307087,
          0.015683486761965782,
          0.015630043265203578,
          0.015577559187210842,
          0.015526028892440856,
          0.015475442518270596,
          0.015425786315475634,
          0.015377043034027515,
          0.015329192351315826,
          0.015282211339258773,
          0.015236074966184622,
          0.015190756628785834,
          0.015146228708933892,
          0.015102463149680992,
          0.01505943204435962,
          0.015017108232371554,
          0.014975465894983933,
          0.014934481144287446,
          0.01489413259836364,
          0.014854401935718565,
          0.014815274422120609,
          0.014776739403152519,
          0.014738790756056726,
          0.01470142729480947,
          0.014664653122783939,
          0.014628477927879953,
          0.014592917215587599,
          0.01455799247608999,
          0.014523731282225677,
          0.01449016731587854,
          0.014457340321154538,
          0.01442529598352089,
          0.01439408573492417,
          0.01436376648573367,
          0.014334400285201183,
          0.014306053912941109,
          0.0142787984047371,
          0.0142527085167204,
          0.014227862132704076,
          0.014204339620077786,
          0.014182223140294492,
          0.014161595920479508,
          0.014142541493146294,
          0.014125142911375657,
          0.014109481947077479,
          0.014095638280167948,
          0.014083688686572473,
          0.014073706232999682,
          0.014065759486337344,
          0.014059911745365444,
          0.014056220302225949,
          0.01405473574076623,
          0.014055501278459016,
          0.014058552158133852,
          0.014063915095212829,
          0.01407160778554827,
          0.0140816384783208,
          0.014094005617771375,
          0.014108697556828304,
          0.014125692344949906,
          0.014144957591763317,
          0.014166450407311208,
          0.014190117418977069,
          0.014215894864417032,
          0.0142437087591099,
          0.014273475136438181,
          0.01430510035756831,
          0.014338481487777525,
          0.014373506735309035,
          0.014410055948322825,
          0.014448001165057019,
          0.014487207211912042,
          0.014527532343839219,
          0.014568828921156862,
          0.014610944116693976,
          0.01465372064705402,
          0.01469699752170263,
          0.014740610803583593,
          0.014784394375037826,
          0.01482818070289431,
          0.014871801596806905,
          0.014915088955111446,
          0.014957875492766403,
          0.014999995446261008,
          0.015041285250719566,
          0.015081584184836403,
          0.01512073497967321,
          0.015158584387809334,
          0.015194983709774783,
          0.015229789275166213,
          0.015262862876322496,
          0.01529407215289426,
          0.015323290926126878,
          0.015350399482117014,
          0.015375284803763318,
          0.015397840751554223,
          0.015417968193748162,
          0.015435575086899054,
          0.015450576508032091,
          0.015462894640138211,
          0.015472458712945588,
          0.015479204901242737,
          0.015483076183270114,
          0.015484022161940591,
          0.015481998851861531,
          0.015476968435307556,
          0.015468898990453747,
          0.015457764195317457,
          0.015443543010959957,
          0.015426219347590637,
          0.015405781717285672,
          0.01538222287707669,
          0.015355539466190728,
          0.01532573164123137,
          0.015292802713081264,
          0.015256758789268793,
          0.015217608425501586,
          0.015175362289992176,
          0.01513003284412009,
          0.015081634042860151,
          0.015030181058283628,
          0.014975690029284975,
          0.01491817784051249,
          0.014857661933288437,
          0.014794160151080543,
          0.014727690621840251,
          0.014658271679259335,
          0.01458592182468462,
          0.014510659731130906,
          0.014432504290459393,
          0.014351474704440382,
          0.014267590620004747,
          0.014180872308581895,
          0.014091340888982399,
          0.013999018592824349,
          0.013903929071036759,
          0.013806097739489188,
          0.013705552161308336,
          0.013602322462949751,
          0.01349644178059721,
          0.013387946732982775,
          0.013276877916235351,
          0.013163280415917486,
          0.013047204330956215,
          0.012928705303778999,
          0.012807845050578474,
          0.012684691885287688,
          0.01255932123055906,
          0.012431816108789,
          0.012302267606038213,
          0.012170775301566614,
          0.012037447655635487,
          0.01190240234822569,
          0.011765766561401297,
          0.011627677198189246,
          0.011488281031079276,
          0.011347734773556774,
          0.011206205068470787,
          0.011063868387517262,
          0.010920910836675391,
          0.010777527863076689,
          0.010633923859513547,
          0.010490311663589595,
          0.010346911949403693,
          0.010203952510595518,
          0.010061667434609494,
          0.009920296169098798,
          0.00978008248252167,
          0.009641273322153615,
          0.009504117573933409,
          0.009368864729796481,
          0.009235763469371834,
          0.00910506016416071,
          0.008976997313521798,
          0.00885181192297824,
          0.00872973383649322,
          0.008610984035439131,
          0.008495772917979988,
          0.008384298573488122,
          0.008276745067405875,
          0.00817328075262653,
          0.008074056623990421,
          0.007979204732854045,
          0.007888836678887986,
          0.007803042196271652,
          0.007721887851270318,
          0.007645415867811245,
          0.007573643097081028,
          0.007506560146385732,
          0.007444130681507669,
          0.007386290915587602,
          0.007332949296156003,
          0.007283986400333387,
          0.007239255046441467,
          0.007198580628320706,
          0.007161761676555683,
          0.007128570648591715,
          0.007098754947403421,
          0.007072038165978253,
          0.007048121552432475,
          0.007026685688115583,
          0.0070073923686090845,
          0.006989886675127226,
          0.006973799221505888,
          0.00695874855975875,
          0.006944343725121167,
          0.006930186899616199,
          0.0069158761715026745,
          0.0069010083665217575,
          0.006885181925674137,
          0.006867999803355284,
          0.006849072359070493,
          0.006828020215653303,
          0.006804477056934601,
          0.006778092338159072,
          0.006748533883114566,
          0.006715490342935144,
          0.006678673492834534,
          0.006637820344625795,
          0.0065926950547511385,
          0.006543090609669579,
          0.006488830272798941,
          0.006429768779749803,
          0.006365793271292645,
          0.0062968239563266915,
          0.006222814500032094
         ],
         "yaxis": "y"
        }
       ],
       "layout": {
        "barmode": "overlay",
        "font": {
         "size": 18
        },
        "hovermode": "closest",
        "legend": {
         "traceorder": "reversed"
        },
        "plot_bgcolor": "#F5F5F8",
        "template": {
         "data": {
          "bar": [
           {
            "error_x": {
             "color": "#2a3f5f"
            },
            "error_y": {
             "color": "#2a3f5f"
            },
            "marker": {
             "line": {
              "color": "#E5ECF6",
              "width": 0.5
             },
             "pattern": {
              "fillmode": "overlay",
              "size": 10,
              "solidity": 0.2
             }
            },
            "type": "bar"
           }
          ],
          "barpolar": [
           {
            "marker": {
             "line": {
              "color": "#E5ECF6",
              "width": 0.5
             },
             "pattern": {
              "fillmode": "overlay",
              "size": 10,
              "solidity": 0.2
             }
            },
            "type": "barpolar"
           }
          ],
          "carpet": [
           {
            "aaxis": {
             "endlinecolor": "#2a3f5f",
             "gridcolor": "white",
             "linecolor": "white",
             "minorgridcolor": "white",
             "startlinecolor": "#2a3f5f"
            },
            "baxis": {
             "endlinecolor": "#2a3f5f",
             "gridcolor": "white",
             "linecolor": "white",
             "minorgridcolor": "white",
             "startlinecolor": "#2a3f5f"
            },
            "type": "carpet"
           }
          ],
          "choropleth": [
           {
            "colorbar": {
             "outlinewidth": 0,
             "ticks": ""
            },
            "type": "choropleth"
           }
          ],
          "contour": [
           {
            "colorbar": {
             "outlinewidth": 0,
             "ticks": ""
            },
            "colorscale": [
             [
              0,
              "#0d0887"
             ],
             [
              0.1111111111111111,
              "#46039f"
             ],
             [
              0.2222222222222222,
              "#7201a8"
             ],
             [
              0.3333333333333333,
              "#9c179e"
             ],
             [
              0.4444444444444444,
              "#bd3786"
             ],
             [
              0.5555555555555556,
              "#d8576b"
             ],
             [
              0.6666666666666666,
              "#ed7953"
             ],
             [
              0.7777777777777778,
              "#fb9f3a"
             ],
             [
              0.8888888888888888,
              "#fdca26"
             ],
             [
              1,
              "#f0f921"
             ]
            ],
            "type": "contour"
           }
          ],
          "contourcarpet": [
           {
            "colorbar": {
             "outlinewidth": 0,
             "ticks": ""
            },
            "type": "contourcarpet"
           }
          ],
          "heatmap": [
           {
            "colorbar": {
             "outlinewidth": 0,
             "ticks": ""
            },
            "colorscale": [
             [
              0,
              "#0d0887"
             ],
             [
              0.1111111111111111,
              "#46039f"
             ],
             [
              0.2222222222222222,
              "#7201a8"
             ],
             [
              0.3333333333333333,
              "#9c179e"
             ],
             [
              0.4444444444444444,
              "#bd3786"
             ],
             [
              0.5555555555555556,
              "#d8576b"
             ],
             [
              0.6666666666666666,
              "#ed7953"
             ],
             [
              0.7777777777777778,
              "#fb9f3a"
             ],
             [
              0.8888888888888888,
              "#fdca26"
             ],
             [
              1,
              "#f0f921"
             ]
            ],
            "type": "heatmap"
           }
          ],
          "heatmapgl": [
           {
            "colorbar": {
             "outlinewidth": 0,
             "ticks": ""
            },
            "colorscale": [
             [
              0,
              "#0d0887"
             ],
             [
              0.1111111111111111,
              "#46039f"
             ],
             [
              0.2222222222222222,
              "#7201a8"
             ],
             [
              0.3333333333333333,
              "#9c179e"
             ],
             [
              0.4444444444444444,
              "#bd3786"
             ],
             [
              0.5555555555555556,
              "#d8576b"
             ],
             [
              0.6666666666666666,
              "#ed7953"
             ],
             [
              0.7777777777777778,
              "#fb9f3a"
             ],
             [
              0.8888888888888888,
              "#fdca26"
             ],
             [
              1,
              "#f0f921"
             ]
            ],
            "type": "heatmapgl"
           }
          ],
          "histogram": [
           {
            "marker": {
             "pattern": {
              "fillmode": "overlay",
              "size": 10,
              "solidity": 0.2
             }
            },
            "type": "histogram"
           }
          ],
          "histogram2d": [
           {
            "colorbar": {
             "outlinewidth": 0,
             "ticks": ""
            },
            "colorscale": [
             [
              0,
              "#0d0887"
             ],
             [
              0.1111111111111111,
              "#46039f"
             ],
             [
              0.2222222222222222,
              "#7201a8"
             ],
             [
              0.3333333333333333,
              "#9c179e"
             ],
             [
              0.4444444444444444,
              "#bd3786"
             ],
             [
              0.5555555555555556,
              "#d8576b"
             ],
             [
              0.6666666666666666,
              "#ed7953"
             ],
             [
              0.7777777777777778,
              "#fb9f3a"
             ],
             [
              0.8888888888888888,
              "#fdca26"
             ],
             [
              1,
              "#f0f921"
             ]
            ],
            "type": "histogram2d"
           }
          ],
          "histogram2dcontour": [
           {
            "colorbar": {
             "outlinewidth": 0,
             "ticks": ""
            },
            "colorscale": [
             [
              0,
              "#0d0887"
             ],
             [
              0.1111111111111111,
              "#46039f"
             ],
             [
              0.2222222222222222,
              "#7201a8"
             ],
             [
              0.3333333333333333,
              "#9c179e"
             ],
             [
              0.4444444444444444,
              "#bd3786"
             ],
             [
              0.5555555555555556,
              "#d8576b"
             ],
             [
              0.6666666666666666,
              "#ed7953"
             ],
             [
              0.7777777777777778,
              "#fb9f3a"
             ],
             [
              0.8888888888888888,
              "#fdca26"
             ],
             [
              1,
              "#f0f921"
             ]
            ],
            "type": "histogram2dcontour"
           }
          ],
          "mesh3d": [
           {
            "colorbar": {
             "outlinewidth": 0,
             "ticks": ""
            },
            "type": "mesh3d"
           }
          ],
          "parcoords": [
           {
            "line": {
             "colorbar": {
              "outlinewidth": 0,
              "ticks": ""
             }
            },
            "type": "parcoords"
           }
          ],
          "pie": [
           {
            "automargin": true,
            "type": "pie"
           }
          ],
          "scatter": [
           {
            "fillpattern": {
             "fillmode": "overlay",
             "size": 10,
             "solidity": 0.2
            },
            "type": "scatter"
           }
          ],
          "scatter3d": [
           {
            "line": {
             "colorbar": {
              "outlinewidth": 0,
              "ticks": ""
             }
            },
            "marker": {
             "colorbar": {
              "outlinewidth": 0,
              "ticks": ""
             }
            },
            "type": "scatter3d"
           }
          ],
          "scattercarpet": [
           {
            "marker": {
             "colorbar": {
              "outlinewidth": 0,
              "ticks": ""
             }
            },
            "type": "scattercarpet"
           }
          ],
          "scattergeo": [
           {
            "marker": {
             "colorbar": {
              "outlinewidth": 0,
              "ticks": ""
             }
            },
            "type": "scattergeo"
           }
          ],
          "scattergl": [
           {
            "marker": {
             "colorbar": {
              "outlinewidth": 0,
              "ticks": ""
             }
            },
            "type": "scattergl"
           }
          ],
          "scattermapbox": [
           {
            "marker": {
             "colorbar": {
              "outlinewidth": 0,
              "ticks": ""
             }
            },
            "type": "scattermapbox"
           }
          ],
          "scatterpolar": [
           {
            "marker": {
             "colorbar": {
              "outlinewidth": 0,
              "ticks": ""
             }
            },
            "type": "scatterpolar"
           }
          ],
          "scatterpolargl": [
           {
            "marker": {
             "colorbar": {
              "outlinewidth": 0,
              "ticks": ""
             }
            },
            "type": "scatterpolargl"
           }
          ],
          "scatterternary": [
           {
            "marker": {
             "colorbar": {
              "outlinewidth": 0,
              "ticks": ""
             }
            },
            "type": "scatterternary"
           }
          ],
          "surface": [
           {
            "colorbar": {
             "outlinewidth": 0,
             "ticks": ""
            },
            "colorscale": [
             [
              0,
              "#0d0887"
             ],
             [
              0.1111111111111111,
              "#46039f"
             ],
             [
              0.2222222222222222,
              "#7201a8"
             ],
             [
              0.3333333333333333,
              "#9c179e"
             ],
             [
              0.4444444444444444,
              "#bd3786"
             ],
             [
              0.5555555555555556,
              "#d8576b"
             ],
             [
              0.6666666666666666,
              "#ed7953"
             ],
             [
              0.7777777777777778,
              "#fb9f3a"
             ],
             [
              0.8888888888888888,
              "#fdca26"
             ],
             [
              1,
              "#f0f921"
             ]
            ],
            "type": "surface"
           }
          ],
          "table": [
           {
            "cells": {
             "fill": {
              "color": "#EBF0F8"
             },
             "line": {
              "color": "white"
             }
            },
            "header": {
             "fill": {
              "color": "#C8D4E3"
             },
             "line": {
              "color": "white"
             }
            },
            "type": "table"
           }
          ]
         },
         "layout": {
          "annotationdefaults": {
           "arrowcolor": "#2a3f5f",
           "arrowhead": 0,
           "arrowwidth": 1
          },
          "autotypenumbers": "strict",
          "coloraxis": {
           "colorbar": {
            "outlinewidth": 0,
            "ticks": ""
           }
          },
          "colorscale": {
           "diverging": [
            [
             0,
             "#8e0152"
            ],
            [
             0.1,
             "#c51b7d"
            ],
            [
             0.2,
             "#de77ae"
            ],
            [
             0.3,
             "#f1b6da"
            ],
            [
             0.4,
             "#fde0ef"
            ],
            [
             0.5,
             "#f7f7f7"
            ],
            [
             0.6,
             "#e6f5d0"
            ],
            [
             0.7,
             "#b8e186"
            ],
            [
             0.8,
             "#7fbc41"
            ],
            [
             0.9,
             "#4d9221"
            ],
            [
             1,
             "#276419"
            ]
           ],
           "sequential": [
            [
             0,
             "#0d0887"
            ],
            [
             0.1111111111111111,
             "#46039f"
            ],
            [
             0.2222222222222222,
             "#7201a8"
            ],
            [
             0.3333333333333333,
             "#9c179e"
            ],
            [
             0.4444444444444444,
             "#bd3786"
            ],
            [
             0.5555555555555556,
             "#d8576b"
            ],
            [
             0.6666666666666666,
             "#ed7953"
            ],
            [
             0.7777777777777778,
             "#fb9f3a"
            ],
            [
             0.8888888888888888,
             "#fdca26"
            ],
            [
             1,
             "#f0f921"
            ]
           ],
           "sequentialminus": [
            [
             0,
             "#0d0887"
            ],
            [
             0.1111111111111111,
             "#46039f"
            ],
            [
             0.2222222222222222,
             "#7201a8"
            ],
            [
             0.3333333333333333,
             "#9c179e"
            ],
            [
             0.4444444444444444,
             "#bd3786"
            ],
            [
             0.5555555555555556,
             "#d8576b"
            ],
            [
             0.6666666666666666,
             "#ed7953"
            ],
            [
             0.7777777777777778,
             "#fb9f3a"
            ],
            [
             0.8888888888888888,
             "#fdca26"
            ],
            [
             1,
             "#f0f921"
            ]
           ]
          },
          "colorway": [
           "#636efa",
           "#EF553B",
           "#00cc96",
           "#ab63fa",
           "#FFA15A",
           "#19d3f3",
           "#FF6692",
           "#B6E880",
           "#FF97FF",
           "#FECB52"
          ],
          "font": {
           "color": "#2a3f5f"
          },
          "geo": {
           "bgcolor": "white",
           "lakecolor": "white",
           "landcolor": "#E5ECF6",
           "showlakes": true,
           "showland": true,
           "subunitcolor": "white"
          },
          "hoverlabel": {
           "align": "left"
          },
          "hovermode": "closest",
          "mapbox": {
           "style": "light"
          },
          "paper_bgcolor": "white",
          "plot_bgcolor": "#E5ECF6",
          "polar": {
           "angularaxis": {
            "gridcolor": "white",
            "linecolor": "white",
            "ticks": ""
           },
           "bgcolor": "#E5ECF6",
           "radialaxis": {
            "gridcolor": "white",
            "linecolor": "white",
            "ticks": ""
           }
          },
          "scene": {
           "xaxis": {
            "backgroundcolor": "#E5ECF6",
            "gridcolor": "white",
            "gridwidth": 2,
            "linecolor": "white",
            "showbackground": true,
            "ticks": "",
            "zerolinecolor": "white"
           },
           "yaxis": {
            "backgroundcolor": "#E5ECF6",
            "gridcolor": "white",
            "gridwidth": 2,
            "linecolor": "white",
            "showbackground": true,
            "ticks": "",
            "zerolinecolor": "white"
           },
           "zaxis": {
            "backgroundcolor": "#E5ECF6",
            "gridcolor": "white",
            "gridwidth": 2,
            "linecolor": "white",
            "showbackground": true,
            "ticks": "",
            "zerolinecolor": "white"
           }
          },
          "shapedefaults": {
           "line": {
            "color": "#2a3f5f"
           }
          },
          "ternary": {
           "aaxis": {
            "gridcolor": "white",
            "linecolor": "white",
            "ticks": ""
           },
           "baxis": {
            "gridcolor": "white",
            "linecolor": "white",
            "ticks": ""
           },
           "bgcolor": "#E5ECF6",
           "caxis": {
            "gridcolor": "white",
            "linecolor": "white",
            "ticks": ""
           }
          },
          "title": {
           "x": 0.05
          },
          "xaxis": {
           "automargin": true,
           "gridcolor": "white",
           "linecolor": "white",
           "ticks": "",
           "title": {
            "standoff": 15
           },
           "zerolinecolor": "white",
           "zerolinewidth": 2
          },
          "yaxis": {
           "automargin": true,
           "gridcolor": "white",
           "linecolor": "white",
           "ticks": "",
           "title": {
            "standoff": 15
           },
           "zerolinecolor": "white",
           "zerolinewidth": 2
          }
         }
        },
        "title": {
         "text": "Real vs. Synthetic Data for column Age"
        },
        "xaxis": {
         "anchor": "y2",
         "domain": [
          0,
          1
         ],
         "title": {
          "text": "Value"
         },
         "zeroline": false
        },
        "yaxis": {
         "anchor": "free",
         "domain": [
          0,
          1
         ],
         "position": 0,
         "title": {
          "text": "Frequency"
         }
        }
       }
      }
     },
     "metadata": {},
     "output_type": "display_data"
    }
   ],
   "source": [
    "fig = get_column_plot(\n",
    "    real_data=real_data,\n",
    "    synthetic_data=synthetic_data,\n",
    "    column_name='Age',\n",
    "    metadata=metadata\n",
    ")\n",
    "\n",
    "fig.show()"
   ]
  },
  {
   "cell_type": "code",
   "execution_count": 8,
   "metadata": {},
   "outputs": [],
   "source": []
  },
  {
   "cell_type": "code",
   "execution_count": 9,
   "metadata": {},
   "outputs": [
    {
     "ename": "KeyboardInterrupt",
     "evalue": "",
     "output_type": "error",
     "traceback": [
      "\u001b[0;31m---------------------------------------------------------------------------\u001b[0m",
      "\u001b[0;31mKeyboardInterrupt\u001b[0m                         Traceback (most recent call last)",
      "\u001b[1;32m/home/gabrieltalasso/tabular_data_generation/evaluate_generations.ipynb Cell 9\u001b[0m line \u001b[0;36m4\n\u001b[1;32m      <a href='vscode-notebook-cell:/home/gabrieltalasso/tabular_data_generation/evaluate_generations.ipynb#X11sZmlsZQ%3D%3D?line=0'>1</a>\u001b[0m sdv_synthesizers \u001b[39m=\u001b[39m [\u001b[39m'\u001b[39m\u001b[39mGaussianCopulaSynthesizer\u001b[39m\u001b[39m'\u001b[39m, \u001b[39m'\u001b[39m\u001b[39mCTGANSynthesizer\u001b[39m\u001b[39m'\u001b[39m]\n\u001b[1;32m      <a href='vscode-notebook-cell:/home/gabrieltalasso/tabular_data_generation/evaluate_generations.ipynb#X11sZmlsZQ%3D%3D?line=1'>2</a>\u001b[0m baseline_synthesizers \u001b[39m=\u001b[39m [\u001b[39m'\u001b[39m\u001b[39mUniformSynthesizer\u001b[39m\u001b[39m'\u001b[39m]\n\u001b[0;32m----> <a href='vscode-notebook-cell:/home/gabrieltalasso/tabular_data_generation/evaluate_generations.ipynb#X11sZmlsZQ%3D%3D?line=3'>4</a>\u001b[0m sdgym\u001b[39m.\u001b[39;49mbenchmark_single_table(\n\u001b[1;32m      <a href='vscode-notebook-cell:/home/gabrieltalasso/tabular_data_generation/evaluate_generations.ipynb#X11sZmlsZQ%3D%3D?line=4'>5</a>\u001b[0m     synthesizers\u001b[39m=\u001b[39;49m(sdv_synthesizers \u001b[39m+\u001b[39;49m baseline_synthesizers)\n\u001b[1;32m      <a href='vscode-notebook-cell:/home/gabrieltalasso/tabular_data_generation/evaluate_generations.ipynb#X11sZmlsZQ%3D%3D?line=5'>6</a>\u001b[0m )\n",
      "File \u001b[0;32m/usr/local/lib/python3.8/dist-packages/sdgym/benchmark.py:516\u001b[0m, in \u001b[0;36mbenchmark_single_table\u001b[0;34m(synthesizers, custom_synthesizers, sdv_datasets, additional_datasets_folder, limit_dataset_size, compute_quality_score, sdmetrics, timeout, output_filepath, detailed_results_folder, show_progress, multi_processing_config)\u001b[0m\n\u001b[1;32m    511\u001b[0m job_args_list \u001b[39m=\u001b[39m _generate_job_args_list(\n\u001b[1;32m    512\u001b[0m     limit_dataset_size, sdv_datasets, additional_datasets_folder, sdmetrics,\n\u001b[1;32m    513\u001b[0m     detailed_results_folder, timeout, compute_quality_score, synthesizers, custom_synthesizers)\n\u001b[1;32m    515\u001b[0m \u001b[39mif\u001b[39;00m job_args_list:\n\u001b[0;32m--> 516\u001b[0m     scores \u001b[39m=\u001b[39m _run_jobs(multi_processing_config, job_args_list, show_progress)\n\u001b[1;32m    518\u001b[0m \u001b[39m# If no synthesizers/datasets are passed, return an empty dataframe\u001b[39;00m\n\u001b[1;32m    519\u001b[0m \u001b[39melse\u001b[39;00m:\n\u001b[1;32m    520\u001b[0m     scores \u001b[39m=\u001b[39m _get_empty_dataframe(compute_quality_score, sdmetrics)\n",
      "File \u001b[0;32m/usr/local/lib/python3.8/dist-packages/sdgym/benchmark.py:417\u001b[0m, in \u001b[0;36m_run_jobs\u001b[0;34m(multi_processing_config, job_args_list, show_progress)\u001b[0m\n\u001b[1;32m    414\u001b[0m \u001b[39mif\u001b[39;00m \u001b[39mnot\u001b[39;00m scores:\n\u001b[1;32m    415\u001b[0m     \u001b[39mraise\u001b[39;00m SDGymError(\u001b[39m'\u001b[39m\u001b[39mNo valid Dataset/Synthesizer combination given.\u001b[39m\u001b[39m'\u001b[39m)\n\u001b[0;32m--> 417\u001b[0m scores \u001b[39m=\u001b[39m pd\u001b[39m.\u001b[39;49mconcat(scores, ignore_index\u001b[39m=\u001b[39;49m\u001b[39mTrue\u001b[39;49;00m)\n\u001b[1;32m    419\u001b[0m \u001b[39mreturn\u001b[39;00m scores\n",
      "File \u001b[0;32m~/.local/lib/python3.8/site-packages/pandas/util/_decorators.py:311\u001b[0m, in \u001b[0;36mdeprecate_nonkeyword_arguments.<locals>.decorate.<locals>.wrapper\u001b[0;34m(*args, **kwargs)\u001b[0m\n\u001b[1;32m    305\u001b[0m \u001b[39mif\u001b[39;00m \u001b[39mlen\u001b[39m(args) \u001b[39m>\u001b[39m num_allow_args:\n\u001b[1;32m    306\u001b[0m     warnings\u001b[39m.\u001b[39mwarn(\n\u001b[1;32m    307\u001b[0m         msg\u001b[39m.\u001b[39mformat(arguments\u001b[39m=\u001b[39marguments),\n\u001b[1;32m    308\u001b[0m         \u001b[39mFutureWarning\u001b[39;00m,\n\u001b[1;32m    309\u001b[0m         stacklevel\u001b[39m=\u001b[39mstacklevel,\n\u001b[1;32m    310\u001b[0m     )\n\u001b[0;32m--> 311\u001b[0m \u001b[39mreturn\u001b[39;00m func(\u001b[39m*\u001b[39;49margs, \u001b[39m*\u001b[39;49m\u001b[39m*\u001b[39;49mkwargs)\n",
      "File \u001b[0;32m~/.local/lib/python3.8/site-packages/pandas/core/reshape/concat.py:346\u001b[0m, in \u001b[0;36mconcat\u001b[0;34m(objs, axis, join, ignore_index, keys, levels, names, verify_integrity, sort, copy)\u001b[0m\n\u001b[1;32m    142\u001b[0m \u001b[39m@deprecate_nonkeyword_arguments\u001b[39m(version\u001b[39m=\u001b[39m\u001b[39mNone\u001b[39;00m, allowed_args\u001b[39m=\u001b[39m[\u001b[39m\"\u001b[39m\u001b[39mobjs\u001b[39m\u001b[39m\"\u001b[39m])\n\u001b[1;32m    143\u001b[0m \u001b[39mdef\u001b[39;00m \u001b[39mconcat\u001b[39m(\n\u001b[1;32m    144\u001b[0m     objs: Iterable[NDFrame] \u001b[39m|\u001b[39m Mapping[Hashable, NDFrame],\n\u001b[0;32m   (...)\u001b[0m\n\u001b[1;32m    153\u001b[0m     copy: \u001b[39mbool\u001b[39m \u001b[39m=\u001b[39m \u001b[39mTrue\u001b[39;00m,\n\u001b[1;32m    154\u001b[0m ) \u001b[39m-\u001b[39m\u001b[39m>\u001b[39m DataFrame \u001b[39m|\u001b[39m Series:\n\u001b[1;32m    155\u001b[0m \u001b[39m    \u001b[39m\u001b[39m\"\"\"\u001b[39;00m\n\u001b[1;32m    156\u001b[0m \u001b[39m    Concatenate pandas objects along a particular axis with optional set logic\u001b[39;00m\n\u001b[1;32m    157\u001b[0m \u001b[39m    along the other axes.\u001b[39;00m\n\u001b[0;32m   (...)\u001b[0m\n\u001b[1;32m    344\u001b[0m \u001b[39m    ValueError: Indexes have overlapping values: ['a']\u001b[39;00m\n\u001b[1;32m    345\u001b[0m \u001b[39m    \"\"\"\u001b[39;00m\n\u001b[0;32m--> 346\u001b[0m     op \u001b[39m=\u001b[39m _Concatenator(\n\u001b[1;32m    347\u001b[0m         objs,\n\u001b[1;32m    348\u001b[0m         axis\u001b[39m=\u001b[39;49maxis,\n\u001b[1;32m    349\u001b[0m         ignore_index\u001b[39m=\u001b[39;49mignore_index,\n\u001b[1;32m    350\u001b[0m         join\u001b[39m=\u001b[39;49mjoin,\n\u001b[1;32m    351\u001b[0m         keys\u001b[39m=\u001b[39;49mkeys,\n\u001b[1;32m    352\u001b[0m         levels\u001b[39m=\u001b[39;49mlevels,\n\u001b[1;32m    353\u001b[0m         names\u001b[39m=\u001b[39;49mnames,\n\u001b[1;32m    354\u001b[0m         verify_integrity\u001b[39m=\u001b[39;49mverify_integrity,\n\u001b[1;32m    355\u001b[0m         copy\u001b[39m=\u001b[39;49mcopy,\n\u001b[1;32m    356\u001b[0m         sort\u001b[39m=\u001b[39;49msort,\n\u001b[1;32m    357\u001b[0m     )\n\u001b[1;32m    359\u001b[0m     \u001b[39mreturn\u001b[39;00m op\u001b[39m.\u001b[39mget_result()\n",
      "File \u001b[0;32m~/.local/lib/python3.8/site-packages/pandas/core/reshape/concat.py:400\u001b[0m, in \u001b[0;36m_Concatenator.__init__\u001b[0;34m(self, objs, axis, join, keys, levels, names, ignore_index, verify_integrity, copy, sort)\u001b[0m\n\u001b[1;32m    398\u001b[0m     objs \u001b[39m=\u001b[39m [objs[k] \u001b[39mfor\u001b[39;00m k \u001b[39min\u001b[39;00m keys]\n\u001b[1;32m    399\u001b[0m \u001b[39melse\u001b[39;00m:\n\u001b[0;32m--> 400\u001b[0m     objs \u001b[39m=\u001b[39m \u001b[39mlist\u001b[39;49m(objs)\n\u001b[1;32m    402\u001b[0m \u001b[39mif\u001b[39;00m \u001b[39mlen\u001b[39m(objs) \u001b[39m==\u001b[39m \u001b[39m0\u001b[39m:\n\u001b[1;32m    403\u001b[0m     \u001b[39mraise\u001b[39;00m \u001b[39mValueError\u001b[39;00m(\u001b[39m\"\u001b[39m\u001b[39mNo objects to concatenate\u001b[39m\u001b[39m\"\u001b[39m)\n",
      "File \u001b[0;32m~/.local/lib/python3.8/site-packages/tqdm/std.py:1178\u001b[0m, in \u001b[0;36mtqdm.__iter__\u001b[0;34m(self)\u001b[0m\n\u001b[1;32m   1175\u001b[0m time \u001b[39m=\u001b[39m \u001b[39mself\u001b[39m\u001b[39m.\u001b[39m_time\n\u001b[1;32m   1177\u001b[0m \u001b[39mtry\u001b[39;00m:\n\u001b[0;32m-> 1178\u001b[0m     \u001b[39mfor\u001b[39;00m obj \u001b[39min\u001b[39;00m iterable:\n\u001b[1;32m   1179\u001b[0m         \u001b[39myield\u001b[39;00m obj\n\u001b[1;32m   1180\u001b[0m         \u001b[39m# Update and possibly print the progressbar.\u001b[39;00m\n\u001b[1;32m   1181\u001b[0m         \u001b[39m# Note: does not call self.update(1) for speed optimisation.\u001b[39;00m\n",
      "File \u001b[0;32m/usr/local/lib/python3.8/dist-packages/sdgym/benchmark.py:349\u001b[0m, in \u001b[0;36m_run_job\u001b[0;34m(args)\u001b[0m\n\u001b[1;32m    338\u001b[0m         output \u001b[39m=\u001b[39m _score_with_timeout(\n\u001b[1;32m    339\u001b[0m             timeout\u001b[39m=\u001b[39mtimeout,\n\u001b[1;32m    340\u001b[0m             synthesizer\u001b[39m=\u001b[39msynthesizer,\n\u001b[0;32m   (...)\u001b[0m\n\u001b[1;32m    346\u001b[0m             dataset_name\u001b[39m=\u001b[39mdataset_name\n\u001b[1;32m    347\u001b[0m         )\n\u001b[1;32m    348\u001b[0m     \u001b[39melse\u001b[39;00m:\n\u001b[0;32m--> 349\u001b[0m         output \u001b[39m=\u001b[39m _score(\n\u001b[1;32m    350\u001b[0m             synthesizer\u001b[39m=\u001b[39;49msynthesizer,\n\u001b[1;32m    351\u001b[0m             data\u001b[39m=\u001b[39;49mdata,\n\u001b[1;32m    352\u001b[0m             metadata\u001b[39m=\u001b[39;49mmetadata,\n\u001b[1;32m    353\u001b[0m             metrics\u001b[39m=\u001b[39;49mmetrics,\n\u001b[1;32m    354\u001b[0m             compute_quality_score\u001b[39m=\u001b[39;49mcompute_quality_score,\n\u001b[1;32m    355\u001b[0m             modality\u001b[39m=\u001b[39;49mmodality,\n\u001b[1;32m    356\u001b[0m             dataset_name\u001b[39m=\u001b[39;49mdataset_name\n\u001b[1;32m    357\u001b[0m         )\n\u001b[1;32m    358\u001b[0m \u001b[39mexcept\u001b[39;00m \u001b[39mException\u001b[39;00m \u001b[39mas\u001b[39;00m error:\n\u001b[1;32m    359\u001b[0m     output[\u001b[39m'\u001b[39m\u001b[39mexception\u001b[39m\u001b[39m'\u001b[39m] \u001b[39m=\u001b[39m error\n",
      "File \u001b[0;32m/usr/local/lib/python3.8/dist-packages/sdgym/benchmark.py:208\u001b[0m, in \u001b[0;36m_score\u001b[0;34m(synthesizer, data, metadata, metrics, output, compute_quality_score, modality, dataset_name)\u001b[0m\n\u001b[1;32m    206\u001b[0m output[\u001b[39m'\u001b[39m\u001b[39mdataset_size\u001b[39m\u001b[39m'\u001b[39m] \u001b[39m=\u001b[39m get_size_of(data) \u001b[39m/\u001b[39m N_BYTES_IN_MB\n\u001b[1;32m    207\u001b[0m output[\u001b[39m'\u001b[39m\u001b[39merror\u001b[39m\u001b[39m'\u001b[39m] \u001b[39m=\u001b[39m \u001b[39m'\u001b[39m\u001b[39mSynthesizer Timeout\u001b[39m\u001b[39m'\u001b[39m  \u001b[39m# To be deleted if there is no error\u001b[39;00m\n\u001b[0;32m--> 208\u001b[0m synthetic_data, train_time, sample_time, synthesizer_size, peak_memory \u001b[39m=\u001b[39m _synthesize(\n\u001b[1;32m    209\u001b[0m     synthesizer, data\u001b[39m.\u001b[39;49mcopy(), metadata)\n\u001b[1;32m    211\u001b[0m output[\u001b[39m'\u001b[39m\u001b[39msynthetic_data\u001b[39m\u001b[39m'\u001b[39m] \u001b[39m=\u001b[39m synthetic_data\n\u001b[1;32m    212\u001b[0m output[\u001b[39m'\u001b[39m\u001b[39mtrain_time\u001b[39m\u001b[39m'\u001b[39m] \u001b[39m=\u001b[39m train_time\u001b[39m.\u001b[39mtotal_seconds()\n",
      "File \u001b[0;32m/usr/local/lib/python3.8/dist-packages/sdgym/benchmark.py:132\u001b[0m, in \u001b[0;36m_synthesize\u001b[0;34m(synthesizer_dict, real_data, metadata)\u001b[0m\n\u001b[1;32m    130\u001b[0m tracemalloc\u001b[39m.\u001b[39mstart()\n\u001b[1;32m    131\u001b[0m now \u001b[39m=\u001b[39m datetime\u001b[39m.\u001b[39mutcnow()\n\u001b[0;32m--> 132\u001b[0m synthesizer_obj \u001b[39m=\u001b[39m get_synthesizer(data, metadata)\n\u001b[1;32m    133\u001b[0m synthesizer_size \u001b[39m=\u001b[39m \u001b[39mlen\u001b[39m(pickle\u001b[39m.\u001b[39mdumps(synthesizer_obj)) \u001b[39m/\u001b[39m N_BYTES_IN_MB\n\u001b[1;32m    134\u001b[0m train_now \u001b[39m=\u001b[39m datetime\u001b[39m.\u001b[39mutcnow()\n",
      "File \u001b[0;32m/usr/local/lib/python3.8/dist-packages/sdgym/synthesizers/base.py:58\u001b[0m, in \u001b[0;36mBaselineSynthesizer.get_trained_synthesizer\u001b[0;34m(self, data, metadata)\u001b[0m\n\u001b[1;32m     56\u001b[0m metadata_class \u001b[39m=\u001b[39m MultiTableMetadata() \u001b[39mif\u001b[39;00m \u001b[39m'\u001b[39m\u001b[39mtables\u001b[39m\u001b[39m'\u001b[39m \u001b[39min\u001b[39;00m metadata \u001b[39melse\u001b[39;00m SingleTableMetadata()\n\u001b[1;32m     57\u001b[0m metadata \u001b[39m=\u001b[39m metadata_class\u001b[39m.\u001b[39mload_from_dict(metadata)\n\u001b[0;32m---> 58\u001b[0m \u001b[39mreturn\u001b[39;00m \u001b[39mself\u001b[39;49m\u001b[39m.\u001b[39;49m_get_trained_synthesizer(data, metadata)\n",
      "File \u001b[0;32m/usr/local/lib/python3.8/dist-packages/sdgym/synthesizers/sdv.py:61\u001b[0m, in \u001b[0;36mCUDATabularSynthesizer._get_trained_synthesizer\u001b[0;34m(self, data, metadata)\u001b[0m\n\u001b[1;32m     59\u001b[0m LOGGER\u001b[39m.\u001b[39minfo(\u001b[39m'\u001b[39m\u001b[39mFitting \u001b[39m\u001b[39m%s\u001b[39;00m\u001b[39m with kwargs \u001b[39m\u001b[39m%s\u001b[39;00m\u001b[39m'\u001b[39m, \u001b[39mself\u001b[39m\u001b[39m.\u001b[39m\u001b[39m__class__\u001b[39m\u001b[39m.\u001b[39m\u001b[39m__name__\u001b[39m, model_kwargs)\n\u001b[1;32m     60\u001b[0m model \u001b[39m=\u001b[39m \u001b[39mself\u001b[39m\u001b[39m.\u001b[39m_MODEL(metadata\u001b[39m=\u001b[39mmetadata, \u001b[39m*\u001b[39m\u001b[39m*\u001b[39mmodel_kwargs)\n\u001b[0;32m---> 61\u001b[0m model\u001b[39m.\u001b[39;49mfit(data)\n\u001b[1;32m     62\u001b[0m \u001b[39mreturn\u001b[39;00m model\n",
      "File \u001b[0;32m/usr/local/lib/python3.8/dist-packages/sdv/single_table/base.py:378\u001b[0m, in \u001b[0;36mBaseSynthesizer.fit\u001b[0;34m(self, data)\u001b[0m\n\u001b[1;32m    376\u001b[0m \u001b[39mself\u001b[39m\u001b[39m.\u001b[39m_random_state_set \u001b[39m=\u001b[39m \u001b[39mFalse\u001b[39;00m\n\u001b[1;32m    377\u001b[0m processed_data \u001b[39m=\u001b[39m \u001b[39mself\u001b[39m\u001b[39m.\u001b[39m_preprocess(data)\n\u001b[0;32m--> 378\u001b[0m \u001b[39mself\u001b[39;49m\u001b[39m.\u001b[39;49mfit_processed_data(processed_data)\n",
      "File \u001b[0;32m/usr/local/lib/python3.8/dist-packages/sdv/single_table/base.py:361\u001b[0m, in \u001b[0;36mBaseSynthesizer.fit_processed_data\u001b[0;34m(self, processed_data)\u001b[0m\n\u001b[1;32m    354\u001b[0m \u001b[39m\u001b[39m\u001b[39m\"\"\"Fit this model to the transformed data.\u001b[39;00m\n\u001b[1;32m    355\u001b[0m \n\u001b[1;32m    356\u001b[0m \u001b[39mArgs:\u001b[39;00m\n\u001b[1;32m    357\u001b[0m \u001b[39m    processed_data (pandas.DataFrame):\u001b[39;00m\n\u001b[1;32m    358\u001b[0m \u001b[39m        The transformed data used to fit the model to.\u001b[39;00m\n\u001b[1;32m    359\u001b[0m \u001b[39m\"\"\"\u001b[39;00m\n\u001b[1;32m    360\u001b[0m \u001b[39mif\u001b[39;00m \u001b[39mnot\u001b[39;00m processed_data\u001b[39m.\u001b[39mempty:\n\u001b[0;32m--> 361\u001b[0m     \u001b[39mself\u001b[39;49m\u001b[39m.\u001b[39;49m_fit(processed_data)\n\u001b[1;32m    363\u001b[0m \u001b[39mself\u001b[39m\u001b[39m.\u001b[39m_fitted \u001b[39m=\u001b[39m \u001b[39mTrue\u001b[39;00m\n\u001b[1;32m    364\u001b[0m \u001b[39mself\u001b[39m\u001b[39m.\u001b[39m_fitted_date \u001b[39m=\u001b[39m datetime\u001b[39m.\u001b[39mdatetime\u001b[39m.\u001b[39mtoday()\u001b[39m.\u001b[39mstrftime(\u001b[39m'\u001b[39m\u001b[39m%\u001b[39m\u001b[39mY-\u001b[39m\u001b[39m%\u001b[39m\u001b[39mm-\u001b[39m\u001b[39m%d\u001b[39;00m\u001b[39m'\u001b[39m)\n",
      "File \u001b[0;32m/usr/local/lib/python3.8/dist-packages/sdv/single_table/ctgan.py:120\u001b[0m, in \u001b[0;36mCTGANSynthesizer._fit\u001b[0;34m(self, processed_data)\u001b[0m\n\u001b[1;32m    118\u001b[0m discrete_columns \u001b[39m=\u001b[39m detect_discrete_columns(\u001b[39mself\u001b[39m\u001b[39m.\u001b[39mget_metadata(), processed_data)\n\u001b[1;32m    119\u001b[0m \u001b[39mself\u001b[39m\u001b[39m.\u001b[39m_model \u001b[39m=\u001b[39m CTGAN(\u001b[39m*\u001b[39m\u001b[39m*\u001b[39m\u001b[39mself\u001b[39m\u001b[39m.\u001b[39m_model_kwargs)\n\u001b[0;32m--> 120\u001b[0m \u001b[39mself\u001b[39;49m\u001b[39m.\u001b[39;49m_model\u001b[39m.\u001b[39;49mfit(processed_data, discrete_columns\u001b[39m=\u001b[39;49mdiscrete_columns)\n",
      "File \u001b[0;32m/usr/local/lib/python3.8/dist-packages/ctgan/synthesizers/base.py:50\u001b[0m, in \u001b[0;36mrandom_state.<locals>.wrapper\u001b[0;34m(self, *args, **kwargs)\u001b[0m\n\u001b[1;32m     48\u001b[0m \u001b[39mdef\u001b[39;00m \u001b[39mwrapper\u001b[39m(\u001b[39mself\u001b[39m, \u001b[39m*\u001b[39margs, \u001b[39m*\u001b[39m\u001b[39m*\u001b[39mkwargs):\n\u001b[1;32m     49\u001b[0m     \u001b[39mif\u001b[39;00m \u001b[39mself\u001b[39m\u001b[39m.\u001b[39mrandom_states \u001b[39mis\u001b[39;00m \u001b[39mNone\u001b[39;00m:\n\u001b[0;32m---> 50\u001b[0m         \u001b[39mreturn\u001b[39;00m function(\u001b[39mself\u001b[39;49m, \u001b[39m*\u001b[39;49margs, \u001b[39m*\u001b[39;49m\u001b[39m*\u001b[39;49mkwargs)\n\u001b[1;32m     52\u001b[0m     \u001b[39melse\u001b[39;00m:\n\u001b[1;32m     53\u001b[0m         \u001b[39mwith\u001b[39;00m set_random_states(\u001b[39mself\u001b[39m\u001b[39m.\u001b[39mrandom_states, \u001b[39mself\u001b[39m\u001b[39m.\u001b[39mset_random_state):\n",
      "File \u001b[0;32m/usr/local/lib/python3.8/dist-packages/ctgan/synthesizers/ctgan.py:305\u001b[0m, in \u001b[0;36mCTGAN.fit\u001b[0;34m(self, train_data, discrete_columns, epochs)\u001b[0m\n\u001b[1;32m    298\u001b[0m     warnings\u001b[39m.\u001b[39mwarn(\n\u001b[1;32m    299\u001b[0m         (\u001b[39m'\u001b[39m\u001b[39m`epochs` argument in `fit` method has been deprecated and will be removed \u001b[39m\u001b[39m'\u001b[39m\n\u001b[1;32m    300\u001b[0m          \u001b[39m'\u001b[39m\u001b[39min a future version. Please pass `epochs` to the constructor instead\u001b[39m\u001b[39m'\u001b[39m),\n\u001b[1;32m    301\u001b[0m         \u001b[39mDeprecationWarning\u001b[39;00m\n\u001b[1;32m    302\u001b[0m     )\n\u001b[1;32m    304\u001b[0m \u001b[39mself\u001b[39m\u001b[39m.\u001b[39m_transformer \u001b[39m=\u001b[39m DataTransformer()\n\u001b[0;32m--> 305\u001b[0m \u001b[39mself\u001b[39;49m\u001b[39m.\u001b[39;49m_transformer\u001b[39m.\u001b[39;49mfit(train_data, discrete_columns)\n\u001b[1;32m    307\u001b[0m train_data \u001b[39m=\u001b[39m \u001b[39mself\u001b[39m\u001b[39m.\u001b[39m_transformer\u001b[39m.\u001b[39mtransform(train_data)\n\u001b[1;32m    309\u001b[0m \u001b[39mself\u001b[39m\u001b[39m.\u001b[39m_data_sampler \u001b[39m=\u001b[39m DataSampler(\n\u001b[1;32m    310\u001b[0m     train_data,\n\u001b[1;32m    311\u001b[0m     \u001b[39mself\u001b[39m\u001b[39m.\u001b[39m_transformer\u001b[39m.\u001b[39moutput_info_list,\n\u001b[1;32m    312\u001b[0m     \u001b[39mself\u001b[39m\u001b[39m.\u001b[39m_log_frequency)\n",
      "File \u001b[0;32m/usr/local/lib/python3.8/dist-packages/ctgan/data_transformer.py:108\u001b[0m, in \u001b[0;36mDataTransformer.fit\u001b[0;34m(self, raw_data, discrete_columns)\u001b[0m\n\u001b[1;32m    106\u001b[0m     column_transform_info \u001b[39m=\u001b[39m \u001b[39mself\u001b[39m\u001b[39m.\u001b[39m_fit_discrete(raw_data[[column_name]])\n\u001b[1;32m    107\u001b[0m \u001b[39melse\u001b[39;00m:\n\u001b[0;32m--> 108\u001b[0m     column_transform_info \u001b[39m=\u001b[39m \u001b[39mself\u001b[39;49m\u001b[39m.\u001b[39;49m_fit_continuous(raw_data[[column_name]])\n\u001b[1;32m    110\u001b[0m \u001b[39mself\u001b[39m\u001b[39m.\u001b[39moutput_info_list\u001b[39m.\u001b[39mappend(column_transform_info\u001b[39m.\u001b[39moutput_info)\n\u001b[1;32m    111\u001b[0m \u001b[39mself\u001b[39m\u001b[39m.\u001b[39moutput_dimensions \u001b[39m+\u001b[39m\u001b[39m=\u001b[39m column_transform_info\u001b[39m.\u001b[39moutput_dimensions\n",
      "File \u001b[0;32m/usr/local/lib/python3.8/dist-packages/ctgan/data_transformer.py:54\u001b[0m, in \u001b[0;36mDataTransformer._fit_continuous\u001b[0;34m(self, data)\u001b[0m\n\u001b[1;32m     48\u001b[0m column_name \u001b[39m=\u001b[39m data\u001b[39m.\u001b[39mcolumns[\u001b[39m0\u001b[39m]\n\u001b[1;32m     49\u001b[0m gm \u001b[39m=\u001b[39m ClusterBasedNormalizer(\n\u001b[1;32m     50\u001b[0m     missing_value_generation\u001b[39m=\u001b[39m\u001b[39m'\u001b[39m\u001b[39mfrom_column\u001b[39m\u001b[39m'\u001b[39m,\n\u001b[1;32m     51\u001b[0m     max_clusters\u001b[39m=\u001b[39m\u001b[39mmin\u001b[39m(\u001b[39mlen\u001b[39m(data), \u001b[39mself\u001b[39m\u001b[39m.\u001b[39m_max_clusters),\n\u001b[1;32m     52\u001b[0m     weight_threshold\u001b[39m=\u001b[39m\u001b[39mself\u001b[39m\u001b[39m.\u001b[39m_weight_threshold\n\u001b[1;32m     53\u001b[0m )\n\u001b[0;32m---> 54\u001b[0m gm\u001b[39m.\u001b[39;49mfit(data, column_name)\n\u001b[1;32m     55\u001b[0m num_components \u001b[39m=\u001b[39m \u001b[39msum\u001b[39m(gm\u001b[39m.\u001b[39mvalid_component_indicator)\n\u001b[1;32m     57\u001b[0m \u001b[39mreturn\u001b[39;00m ColumnTransformInfo(\n\u001b[1;32m     58\u001b[0m     column_name\u001b[39m=\u001b[39mcolumn_name, column_type\u001b[39m=\u001b[39m\u001b[39m'\u001b[39m\u001b[39mcontinuous\u001b[39m\u001b[39m'\u001b[39m, transform\u001b[39m=\u001b[39mgm,\n\u001b[1;32m     59\u001b[0m     output_info\u001b[39m=\u001b[39m[SpanInfo(\u001b[39m1\u001b[39m, \u001b[39m'\u001b[39m\u001b[39mtanh\u001b[39m\u001b[39m'\u001b[39m), SpanInfo(num_components, \u001b[39m'\u001b[39m\u001b[39msoftmax\u001b[39m\u001b[39m'\u001b[39m)],\n\u001b[1;32m     60\u001b[0m     output_dimensions\u001b[39m=\u001b[39m\u001b[39m1\u001b[39m \u001b[39m+\u001b[39m num_components)\n",
      "File \u001b[0;32m/usr/local/lib/python3.8/dist-packages/rdt/transformers/base.py:55\u001b[0m, in \u001b[0;36mrandom_state.<locals>.wrapper\u001b[0;34m(self, *args, **kwargs)\u001b[0m\n\u001b[1;32m     53\u001b[0m method_name \u001b[39m=\u001b[39m function\u001b[39m.\u001b[39m\u001b[39m__name__\u001b[39m\n\u001b[1;32m     54\u001b[0m \u001b[39mwith\u001b[39;00m set_random_states(\u001b[39mself\u001b[39m\u001b[39m.\u001b[39mrandom_states, method_name, \u001b[39mself\u001b[39m\u001b[39m.\u001b[39mset_random_state):\n\u001b[0;32m---> 55\u001b[0m     \u001b[39mreturn\u001b[39;00m function(\u001b[39mself\u001b[39;49m, \u001b[39m*\u001b[39;49margs, \u001b[39m*\u001b[39;49m\u001b[39m*\u001b[39;49mkwargs)\n",
      "File \u001b[0;32m/usr/local/lib/python3.8/dist-packages/rdt/transformers/base.py:390\u001b[0m, in \u001b[0;36mBaseTransformer.fit\u001b[0;34m(self, data, column)\u001b[0m\n\u001b[1;32m    388\u001b[0m \u001b[39mself\u001b[39m\u001b[39m.\u001b[39m_set_seed(data)\n\u001b[1;32m    389\u001b[0m columns_data \u001b[39m=\u001b[39m \u001b[39mself\u001b[39m\u001b[39m.\u001b[39m_get_columns_data(data, \u001b[39mself\u001b[39m\u001b[39m.\u001b[39mcolumns)\n\u001b[0;32m--> 390\u001b[0m \u001b[39mself\u001b[39;49m\u001b[39m.\u001b[39;49m_fit(columns_data)\n\u001b[1;32m    391\u001b[0m \u001b[39mself\u001b[39m\u001b[39m.\u001b[39m_build_output_columns(data)\n",
      "File \u001b[0;32m/usr/local/lib/python3.8/dist-packages/rdt/transformers/numerical.py:477\u001b[0m, in \u001b[0;36mClusterBasedNormalizer._fit\u001b[0;34m(self, data)\u001b[0m\n\u001b[1;32m    475\u001b[0m \u001b[39mwith\u001b[39;00m warnings\u001b[39m.\u001b[39mcatch_warnings():\n\u001b[1;32m    476\u001b[0m     warnings\u001b[39m.\u001b[39msimplefilter(\u001b[39m'\u001b[39m\u001b[39mignore\u001b[39m\u001b[39m'\u001b[39m)\n\u001b[0;32m--> 477\u001b[0m     \u001b[39mself\u001b[39;49m\u001b[39m.\u001b[39;49m_bgm_transformer\u001b[39m.\u001b[39;49mfit(data\u001b[39m.\u001b[39;49mreshape(\u001b[39m-\u001b[39;49m\u001b[39m1\u001b[39;49m, \u001b[39m1\u001b[39;49m))\n\u001b[1;32m    479\u001b[0m \u001b[39mself\u001b[39m\u001b[39m.\u001b[39mvalid_component_indicator \u001b[39m=\u001b[39m \u001b[39mself\u001b[39m\u001b[39m.\u001b[39m_bgm_transformer\u001b[39m.\u001b[39mweights_ \u001b[39m>\u001b[39m \u001b[39mself\u001b[39m\u001b[39m.\u001b[39mweight_threshold\n",
      "File \u001b[0;32m~/.local/lib/python3.8/site-packages/sklearn/mixture/_base.py:198\u001b[0m, in \u001b[0;36mBaseMixture.fit\u001b[0;34m(self, X, y)\u001b[0m\n\u001b[1;32m    172\u001b[0m \u001b[39mdef\u001b[39;00m \u001b[39mfit\u001b[39m(\u001b[39mself\u001b[39m, X, y\u001b[39m=\u001b[39m\u001b[39mNone\u001b[39;00m):\n\u001b[1;32m    173\u001b[0m \u001b[39m    \u001b[39m\u001b[39m\"\"\"Estimate model parameters with the EM algorithm.\u001b[39;00m\n\u001b[1;32m    174\u001b[0m \n\u001b[1;32m    175\u001b[0m \u001b[39m    The method fits the model ``n_init`` times and sets the parameters with\u001b[39;00m\n\u001b[0;32m   (...)\u001b[0m\n\u001b[1;32m    196\u001b[0m \u001b[39m        The fitted mixture.\u001b[39;00m\n\u001b[1;32m    197\u001b[0m \u001b[39m    \"\"\"\u001b[39;00m\n\u001b[0;32m--> 198\u001b[0m     \u001b[39mself\u001b[39;49m\u001b[39m.\u001b[39;49mfit_predict(X, y)\n\u001b[1;32m    199\u001b[0m     \u001b[39mreturn\u001b[39;00m \u001b[39mself\u001b[39m\n",
      "File \u001b[0;32m~/.local/lib/python3.8/site-packages/sklearn/mixture/_base.py:258\u001b[0m, in \u001b[0;36mBaseMixture.fit_predict\u001b[0;34m(self, X, y)\u001b[0m\n\u001b[1;32m    255\u001b[0m \u001b[39mfor\u001b[39;00m n_iter \u001b[39min\u001b[39;00m \u001b[39mrange\u001b[39m(\u001b[39m1\u001b[39m, \u001b[39mself\u001b[39m\u001b[39m.\u001b[39mmax_iter \u001b[39m+\u001b[39m \u001b[39m1\u001b[39m):\n\u001b[1;32m    256\u001b[0m     prev_lower_bound \u001b[39m=\u001b[39m lower_bound\n\u001b[0;32m--> 258\u001b[0m     log_prob_norm, log_resp \u001b[39m=\u001b[39m \u001b[39mself\u001b[39;49m\u001b[39m.\u001b[39;49m_e_step(X)\n\u001b[1;32m    259\u001b[0m     \u001b[39mself\u001b[39m\u001b[39m.\u001b[39m_m_step(X, log_resp)\n\u001b[1;32m    260\u001b[0m     lower_bound \u001b[39m=\u001b[39m \u001b[39mself\u001b[39m\u001b[39m.\u001b[39m_compute_lower_bound(log_resp, log_prob_norm)\n",
      "File \u001b[0;32m~/.local/lib/python3.8/site-packages/sklearn/mixture/_base.py:312\u001b[0m, in \u001b[0;36mBaseMixture._e_step\u001b[0;34m(self, X)\u001b[0m\n\u001b[1;32m    296\u001b[0m \u001b[39mdef\u001b[39;00m \u001b[39m_e_step\u001b[39m(\u001b[39mself\u001b[39m, X):\n\u001b[1;32m    297\u001b[0m \u001b[39m    \u001b[39m\u001b[39m\"\"\"E step.\u001b[39;00m\n\u001b[1;32m    298\u001b[0m \n\u001b[1;32m    299\u001b[0m \u001b[39m    Parameters\u001b[39;00m\n\u001b[0;32m   (...)\u001b[0m\n\u001b[1;32m    310\u001b[0m \u001b[39m        the point of each sample in X.\u001b[39;00m\n\u001b[1;32m    311\u001b[0m \u001b[39m    \"\"\"\u001b[39;00m\n\u001b[0;32m--> 312\u001b[0m     log_prob_norm, log_resp \u001b[39m=\u001b[39m \u001b[39mself\u001b[39;49m\u001b[39m.\u001b[39;49m_estimate_log_prob_resp(X)\n\u001b[1;32m    313\u001b[0m     \u001b[39mreturn\u001b[39;00m np\u001b[39m.\u001b[39mmean(log_prob_norm), log_resp\n",
      "File \u001b[0;32m~/.local/lib/python3.8/site-packages/sklearn/mixture/_base.py:530\u001b[0m, in \u001b[0;36mBaseMixture._estimate_log_prob_resp\u001b[0;34m(self, X)\u001b[0m\n\u001b[1;32m    511\u001b[0m \u001b[39mdef\u001b[39;00m \u001b[39m_estimate_log_prob_resp\u001b[39m(\u001b[39mself\u001b[39m, X):\n\u001b[1;32m    512\u001b[0m \u001b[39m    \u001b[39m\u001b[39m\"\"\"Estimate log probabilities and responsibilities for each sample.\u001b[39;00m\n\u001b[1;32m    513\u001b[0m \n\u001b[1;32m    514\u001b[0m \u001b[39m    Compute the log probabilities, weighted log probabilities per\u001b[39;00m\n\u001b[0;32m   (...)\u001b[0m\n\u001b[1;32m    528\u001b[0m \u001b[39m        logarithm of the responsibilities\u001b[39;00m\n\u001b[1;32m    529\u001b[0m \u001b[39m    \"\"\"\u001b[39;00m\n\u001b[0;32m--> 530\u001b[0m     weighted_log_prob \u001b[39m=\u001b[39m \u001b[39mself\u001b[39;49m\u001b[39m.\u001b[39;49m_estimate_weighted_log_prob(X)\n\u001b[1;32m    531\u001b[0m     log_prob_norm \u001b[39m=\u001b[39m logsumexp(weighted_log_prob, axis\u001b[39m=\u001b[39m\u001b[39m1\u001b[39m)\n\u001b[1;32m    532\u001b[0m     \u001b[39mwith\u001b[39;00m np\u001b[39m.\u001b[39merrstate(under\u001b[39m=\u001b[39m\u001b[39m\"\u001b[39m\u001b[39mignore\u001b[39m\u001b[39m\"\u001b[39m):\n\u001b[1;32m    533\u001b[0m         \u001b[39m# ignore underflow\u001b[39;00m\n",
      "File \u001b[0;32m~/.local/lib/python3.8/site-packages/sklearn/mixture/_base.py:483\u001b[0m, in \u001b[0;36mBaseMixture._estimate_weighted_log_prob\u001b[0;34m(self, X)\u001b[0m\n\u001b[1;32m    472\u001b[0m \u001b[39mdef\u001b[39;00m \u001b[39m_estimate_weighted_log_prob\u001b[39m(\u001b[39mself\u001b[39m, X):\n\u001b[1;32m    473\u001b[0m \u001b[39m    \u001b[39m\u001b[39m\"\"\"Estimate the weighted log-probabilities, log P(X | Z) + log weights.\u001b[39;00m\n\u001b[1;32m    474\u001b[0m \n\u001b[1;32m    475\u001b[0m \u001b[39m    Parameters\u001b[39;00m\n\u001b[0;32m   (...)\u001b[0m\n\u001b[1;32m    481\u001b[0m \u001b[39m    weighted_log_prob : array, shape (n_samples, n_component)\u001b[39;00m\n\u001b[1;32m    482\u001b[0m \u001b[39m    \"\"\"\u001b[39;00m\n\u001b[0;32m--> 483\u001b[0m     \u001b[39mreturn\u001b[39;00m \u001b[39mself\u001b[39;49m\u001b[39m.\u001b[39;49m_estimate_log_prob(X) \u001b[39m+\u001b[39m \u001b[39mself\u001b[39m\u001b[39m.\u001b[39m_estimate_log_weights()\n",
      "File \u001b[0;32m~/.local/lib/python3.8/site-packages/sklearn/mixture/_bayesian_mixture.py:772\u001b[0m, in \u001b[0;36mBayesianGaussianMixture._estimate_log_prob\u001b[0;34m(self, X)\u001b[0m\n\u001b[1;32m    769\u001b[0m _, n_features \u001b[39m=\u001b[39m X\u001b[39m.\u001b[39mshape\n\u001b[1;32m    770\u001b[0m \u001b[39m# We remove `n_features * np.log(self.degrees_of_freedom_)` because\u001b[39;00m\n\u001b[1;32m    771\u001b[0m \u001b[39m# the precision matrix is normalized\u001b[39;00m\n\u001b[0;32m--> 772\u001b[0m log_gauss \u001b[39m=\u001b[39m _estimate_log_gaussian_prob(\n\u001b[1;32m    773\u001b[0m     X, \u001b[39mself\u001b[39;49m\u001b[39m.\u001b[39;49mmeans_, \u001b[39mself\u001b[39;49m\u001b[39m.\u001b[39;49mprecisions_cholesky_, \u001b[39mself\u001b[39;49m\u001b[39m.\u001b[39;49mcovariance_type\n\u001b[1;32m    774\u001b[0m ) \u001b[39m-\u001b[39m \u001b[39m0.5\u001b[39m \u001b[39m*\u001b[39m n_features \u001b[39m*\u001b[39m np\u001b[39m.\u001b[39mlog(\u001b[39mself\u001b[39m\u001b[39m.\u001b[39mdegrees_of_freedom_)\n\u001b[1;32m    776\u001b[0m log_lambda \u001b[39m=\u001b[39m n_features \u001b[39m*\u001b[39m np\u001b[39m.\u001b[39mlog(\u001b[39m2.0\u001b[39m) \u001b[39m+\u001b[39m np\u001b[39m.\u001b[39msum(\n\u001b[1;32m    777\u001b[0m     digamma(\n\u001b[1;32m    778\u001b[0m         \u001b[39m0.5\u001b[39m\n\u001b[0;32m   (...)\u001b[0m\n\u001b[1;32m    781\u001b[0m     \u001b[39m0\u001b[39m,\n\u001b[1;32m    782\u001b[0m )\n\u001b[1;32m    784\u001b[0m \u001b[39mreturn\u001b[39;00m log_gauss \u001b[39m+\u001b[39m \u001b[39m0.5\u001b[39m \u001b[39m*\u001b[39m (log_lambda \u001b[39m-\u001b[39m n_features \u001b[39m/\u001b[39m \u001b[39mself\u001b[39m\u001b[39m.\u001b[39mmean_precision_)\n",
      "File \u001b[0;32m~/.local/lib/python3.8/site-packages/sklearn/mixture/_gaussian_mixture.py:428\u001b[0m, in \u001b[0;36m_estimate_log_gaussian_prob\u001b[0;34m(X, means, precisions_chol, covariance_type)\u001b[0m\n\u001b[1;32m    426\u001b[0m     \u001b[39mfor\u001b[39;00m k, (mu, prec_chol) \u001b[39min\u001b[39;00m \u001b[39menumerate\u001b[39m(\u001b[39mzip\u001b[39m(means, precisions_chol)):\n\u001b[1;32m    427\u001b[0m         y \u001b[39m=\u001b[39m np\u001b[39m.\u001b[39mdot(X, prec_chol) \u001b[39m-\u001b[39m np\u001b[39m.\u001b[39mdot(mu, prec_chol)\n\u001b[0;32m--> 428\u001b[0m         log_prob[:, k] \u001b[39m=\u001b[39m np\u001b[39m.\u001b[39msum(np\u001b[39m.\u001b[39msquare(y), axis\u001b[39m=\u001b[39m\u001b[39m1\u001b[39m)\n\u001b[1;32m    430\u001b[0m \u001b[39melif\u001b[39;00m covariance_type \u001b[39m==\u001b[39m \u001b[39m\"\u001b[39m\u001b[39mtied\u001b[39m\u001b[39m\"\u001b[39m:\n\u001b[1;32m    431\u001b[0m     log_prob \u001b[39m=\u001b[39m np\u001b[39m.\u001b[39mempty((n_samples, n_components))\n",
      "\u001b[0;31mKeyboardInterrupt\u001b[0m: "
     ]
    }
   ],
   "source": []
  },
  {
   "cell_type": "code",
   "execution_count": null,
   "metadata": {},
   "outputs": [],
   "source": []
  }
 ],
 "metadata": {
  "kernelspec": {
   "display_name": "Python 3",
   "language": "python",
   "name": "python3"
  },
  "language_info": {
   "codemirror_mode": {
    "name": "ipython",
    "version": 3
   },
   "file_extension": ".py",
   "mimetype": "text/x-python",
   "name": "python",
   "nbconvert_exporter": "python",
   "pygments_lexer": "ipython3",
   "version": "3.8.10"
  },
  "orig_nbformat": 4
 },
 "nbformat": 4,
 "nbformat_minor": 2
}
