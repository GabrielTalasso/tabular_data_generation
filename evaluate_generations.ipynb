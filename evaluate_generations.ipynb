{
 "cells": [
  {
   "cell_type": "code",
   "execution_count": 1,
   "metadata": {},
   "outputs": [],
   "source": [
    "import sdv\n",
    "from sdv.evaluation.single_table import evaluate_quality\n",
    "from sdmetrics.single_table import NewRowSynthesis\n",
    "from sdv.evaluation.single_table import get_column_plot\n",
    "from ML_efficiency import MLE\n",
    "\n",
    "import pandas as pd\n",
    "\n",
    "import warnings\n",
    "warnings.filterwarnings('ignore')"
   ]
  },
  {
   "cell_type": "code",
   "execution_count": 15,
   "metadata": {},
   "outputs": [],
   "source": [
    "real_data = pd.read_csv('data/german_real.csv')\n",
    "synthetic_data = pd.read_csv('data/german_sdv_CTGAN.csv')\n",
    "\n",
    "metadata = sdv.metadata.SingleTableMetadata()\n",
    "metadata.detect_from_dataframe(data = real_data)"
   ]
  },
  {
   "cell_type": "code",
   "execution_count": 3,
   "metadata": {},
   "outputs": [
    {
     "data": {
      "text/html": [
       "<div>\n",
       "<style scoped>\n",
       "    .dataframe tbody tr th:only-of-type {\n",
       "        vertical-align: middle;\n",
       "    }\n",
       "\n",
       "    .dataframe tbody tr th {\n",
       "        vertical-align: top;\n",
       "    }\n",
       "\n",
       "    .dataframe thead th {\n",
       "        text-align: right;\n",
       "    }\n",
       "</style>\n",
       "<table border=\"1\" class=\"dataframe\">\n",
       "  <thead>\n",
       "    <tr style=\"text-align: right;\">\n",
       "      <th></th>\n",
       "      <th>GoodCustomer</th>\n",
       "      <th>Gender</th>\n",
       "      <th>ForeignWorker</th>\n",
       "      <th>Single</th>\n",
       "      <th>Age</th>\n",
       "      <th>LoanDuration</th>\n",
       "      <th>PurposeOfLoan</th>\n",
       "      <th>LoanAmount</th>\n",
       "      <th>LoanRateAsPercentOfIncome</th>\n",
       "      <th>YearsAtCurrentHome</th>\n",
       "      <th>...</th>\n",
       "      <th>OtherLoansAtBank</th>\n",
       "      <th>OtherLoansAtStore</th>\n",
       "      <th>HasCoapplicant</th>\n",
       "      <th>HasGuarantor</th>\n",
       "      <th>OwnsHouse</th>\n",
       "      <th>RentsHouse</th>\n",
       "      <th>Unemployed</th>\n",
       "      <th>YearsAtCurrentJob_lt_1</th>\n",
       "      <th>YearsAtCurrentJob_geq_4</th>\n",
       "      <th>JobClassIsSkilled</th>\n",
       "    </tr>\n",
       "  </thead>\n",
       "  <tbody>\n",
       "    <tr>\n",
       "      <th>0</th>\n",
       "      <td>1</td>\n",
       "      <td>Male</td>\n",
       "      <td>0</td>\n",
       "      <td>1</td>\n",
       "      <td>41</td>\n",
       "      <td>5</td>\n",
       "      <td>NewCar</td>\n",
       "      <td>3017</td>\n",
       "      <td>2</td>\n",
       "      <td>2</td>\n",
       "      <td>...</td>\n",
       "      <td>0</td>\n",
       "      <td>0</td>\n",
       "      <td>0</td>\n",
       "      <td>0</td>\n",
       "      <td>1</td>\n",
       "      <td>0</td>\n",
       "      <td>0</td>\n",
       "      <td>0</td>\n",
       "      <td>1</td>\n",
       "      <td>1</td>\n",
       "    </tr>\n",
       "    <tr>\n",
       "      <th>1</th>\n",
       "      <td>0</td>\n",
       "      <td>Female</td>\n",
       "      <td>0</td>\n",
       "      <td>0</td>\n",
       "      <td>36</td>\n",
       "      <td>30</td>\n",
       "      <td>UsedCar</td>\n",
       "      <td>1916</td>\n",
       "      <td>4</td>\n",
       "      <td>4</td>\n",
       "      <td>...</td>\n",
       "      <td>0</td>\n",
       "      <td>0</td>\n",
       "      <td>0</td>\n",
       "      <td>0</td>\n",
       "      <td>1</td>\n",
       "      <td>0</td>\n",
       "      <td>0</td>\n",
       "      <td>0</td>\n",
       "      <td>0</td>\n",
       "      <td>1</td>\n",
       "    </tr>\n",
       "    <tr>\n",
       "      <th>2</th>\n",
       "      <td>1</td>\n",
       "      <td>Male</td>\n",
       "      <td>0</td>\n",
       "      <td>1</td>\n",
       "      <td>32</td>\n",
       "      <td>6</td>\n",
       "      <td>UsedCar</td>\n",
       "      <td>250</td>\n",
       "      <td>4</td>\n",
       "      <td>2</td>\n",
       "      <td>...</td>\n",
       "      <td>0</td>\n",
       "      <td>0</td>\n",
       "      <td>0</td>\n",
       "      <td>0</td>\n",
       "      <td>1</td>\n",
       "      <td>0</td>\n",
       "      <td>0</td>\n",
       "      <td>0</td>\n",
       "      <td>0</td>\n",
       "      <td>1</td>\n",
       "    </tr>\n",
       "    <tr>\n",
       "      <th>3</th>\n",
       "      <td>1</td>\n",
       "      <td>Male</td>\n",
       "      <td>0</td>\n",
       "      <td>0</td>\n",
       "      <td>19</td>\n",
       "      <td>15</td>\n",
       "      <td>Furniture</td>\n",
       "      <td>3623</td>\n",
       "      <td>2</td>\n",
       "      <td>2</td>\n",
       "      <td>...</td>\n",
       "      <td>0</td>\n",
       "      <td>0</td>\n",
       "      <td>0</td>\n",
       "      <td>0</td>\n",
       "      <td>1</td>\n",
       "      <td>0</td>\n",
       "      <td>0</td>\n",
       "      <td>0</td>\n",
       "      <td>1</td>\n",
       "      <td>0</td>\n",
       "    </tr>\n",
       "    <tr>\n",
       "      <th>4</th>\n",
       "      <td>-1</td>\n",
       "      <td>Male</td>\n",
       "      <td>0</td>\n",
       "      <td>1</td>\n",
       "      <td>47</td>\n",
       "      <td>23</td>\n",
       "      <td>Education</td>\n",
       "      <td>8078</td>\n",
       "      <td>1</td>\n",
       "      <td>2</td>\n",
       "      <td>...</td>\n",
       "      <td>0</td>\n",
       "      <td>0</td>\n",
       "      <td>0</td>\n",
       "      <td>0</td>\n",
       "      <td>0</td>\n",
       "      <td>0</td>\n",
       "      <td>0</td>\n",
       "      <td>1</td>\n",
       "      <td>0</td>\n",
       "      <td>1</td>\n",
       "    </tr>\n",
       "  </tbody>\n",
       "</table>\n",
       "<p>5 rows × 30 columns</p>\n",
       "</div>"
      ],
      "text/plain": [
       "   GoodCustomer  Gender  ForeignWorker  Single  Age  LoanDuration  \\\n",
       "0             1    Male              0       1   41             5   \n",
       "1             0  Female              0       0   36            30   \n",
       "2             1    Male              0       1   32             6   \n",
       "3             1    Male              0       0   19            15   \n",
       "4            -1    Male              0       1   47            23   \n",
       "\n",
       "  PurposeOfLoan  LoanAmount  LoanRateAsPercentOfIncome  YearsAtCurrentHome  \\\n",
       "0        NewCar        3017                          2                   2   \n",
       "1       UsedCar        1916                          4                   4   \n",
       "2       UsedCar         250                          4                   2   \n",
       "3     Furniture        3623                          2                   2   \n",
       "4     Education        8078                          1                   2   \n",
       "\n",
       "   ...  OtherLoansAtBank  OtherLoansAtStore  HasCoapplicant  HasGuarantor  \\\n",
       "0  ...                 0                  0               0             0   \n",
       "1  ...                 0                  0               0             0   \n",
       "2  ...                 0                  0               0             0   \n",
       "3  ...                 0                  0               0             0   \n",
       "4  ...                 0                  0               0             0   \n",
       "\n",
       "   OwnsHouse  RentsHouse  Unemployed  YearsAtCurrentJob_lt_1  \\\n",
       "0          1           0           0                       0   \n",
       "1          1           0           0                       0   \n",
       "2          1           0           0                       0   \n",
       "3          1           0           0                       0   \n",
       "4          0           0           0                       1   \n",
       "\n",
       "   YearsAtCurrentJob_geq_4  JobClassIsSkilled  \n",
       "0                        1                  1  \n",
       "1                        0                  1  \n",
       "2                        0                  1  \n",
       "3                        1                  0  \n",
       "4                        0                  1  \n",
       "\n",
       "[5 rows x 30 columns]"
      ]
     },
     "execution_count": 3,
     "metadata": {},
     "output_type": "execute_result"
    }
   ],
   "source": [
    "synthetic_data.head()"
   ]
  },
  {
   "cell_type": "code",
   "execution_count": 4,
   "metadata": {},
   "outputs": [
    {
     "name": "stdout",
     "output_type": "stream",
     "text": [
      "0\n"
     ]
    }
   ],
   "source": [
    "real_duplicates = len(real_data)-len(real_data.drop_duplicates())\n",
    "synthetic_duplicates = len(real_data.append(synthetic_data))-len(real_data.append(synthetic_data).drop_duplicates())\n",
    "\n",
    "new_duplicates = synthetic_duplicates - real_duplicates\n",
    "print(new_duplicates)"
   ]
  },
  {
   "cell_type": "code",
   "execution_count": 5,
   "metadata": {},
   "outputs": [
    {
     "name": "stdout",
     "output_type": "stream",
     "text": [
      "Generating report ...\n",
      "(1/2) Evaluating Column Shapes: : 100%|██████████| 30/30 [00:00<00:00, 97.96it/s]\n",
      "(2/2) Evaluating Column Pair Trends: : 100%|██████████| 435/435 [00:36<00:00, 11.86it/s]\n",
      "\n",
      "Overall Quality Score: 88.08%\n",
      "\n",
      "Properties:\n",
      "- Column Shapes: 91.8%\n",
      "- Column Pair Trends: 84.37%\n"
     ]
    }
   ],
   "source": [
    "quality_report = evaluate_quality(\n",
    "    real_data,\n",
    "    synthetic_data,\n",
    "    metadata\n",
    ")"
   ]
  },
  {
   "cell_type": "code",
   "execution_count": 6,
   "metadata": {},
   "outputs": [
    {
     "data": {
      "text/plain": [
       "0.8808298290916388"
      ]
     },
     "execution_count": 6,
     "metadata": {},
     "output_type": "execute_result"
    }
   ],
   "source": [
    "quality_report.get_score()"
   ]
  },
  {
   "cell_type": "code",
   "execution_count": 7,
   "metadata": {},
   "outputs": [
    {
     "data": {
      "application/vnd.plotly.v1+json": {
       "config": {
        "plotlyServerURL": "https://plot.ly"
       },
       "data": [
        {
         "alignmentgroup": "True",
         "customdata": [
          [
           "KSComplement"
          ],
          [
           "KSComplement"
          ],
          [
           "KSComplement"
          ],
          [
           "KSComplement"
          ]
         ],
         "hovertemplate": "<b>%{hovertext}</b><br><br>Metric=%{customdata[0]}<br>Score=%{y}<extra></extra>",
         "hovertext": [
          "GoodCustomer",
          "Age",
          "LoanDuration",
          "LoanAmount"
         ],
         "legendgroup": "KSComplement",
         "marker": {
          "color": "#000036",
          "pattern": {
           "shape": ""
          }
         },
         "name": "KSComplement",
         "offsetgroup": "KSComplement",
         "orientation": "v",
         "showlegend": true,
         "textposition": "auto",
         "type": "bar",
         "x": [
          "GoodCustomer",
          "Age",
          "LoanDuration",
          "LoanAmount"
         ],
         "xaxis": "x",
         "y": [
          0.7658,
          0.919,
          0.852,
          0.8306
         ],
         "yaxis": "y"
        },
        {
         "alignmentgroup": "True",
         "customdata": [
          [
           "TVComplement"
          ],
          [
           "TVComplement"
          ],
          [
           "TVComplement"
          ],
          [
           "TVComplement"
          ],
          [
           "TVComplement"
          ],
          [
           "TVComplement"
          ],
          [
           "TVComplement"
          ],
          [
           "TVComplement"
          ],
          [
           "TVComplement"
          ],
          [
           "TVComplement"
          ],
          [
           "TVComplement"
          ],
          [
           "TVComplement"
          ],
          [
           "TVComplement"
          ],
          [
           "TVComplement"
          ],
          [
           "TVComplement"
          ],
          [
           "TVComplement"
          ],
          [
           "TVComplement"
          ],
          [
           "TVComplement"
          ],
          [
           "TVComplement"
          ],
          [
           "TVComplement"
          ],
          [
           "TVComplement"
          ],
          [
           "TVComplement"
          ],
          [
           "TVComplement"
          ],
          [
           "TVComplement"
          ],
          [
           "TVComplement"
          ],
          [
           "TVComplement"
          ]
         ],
         "hovertemplate": "<b>%{hovertext}</b><br><br>Metric=%{customdata[0]}<br>Score=%{y}<extra></extra>",
         "hovertext": [
          "Gender",
          "ForeignWorker",
          "Single",
          "PurposeOfLoan",
          "LoanRateAsPercentOfIncome",
          "YearsAtCurrentHome",
          "NumberOfOtherLoansAtBank",
          "NumberOfLiableIndividuals",
          "HasTelephone",
          "CheckingAccountBalance_geq_0",
          "CheckingAccountBalance_geq_200",
          "SavingsAccountBalance_geq_100",
          "SavingsAccountBalance_geq_500",
          "MissedPayments",
          "NoCurrentLoan",
          "CriticalAccountOrLoansElsewhere",
          "OtherLoansAtBank",
          "OtherLoansAtStore",
          "HasCoapplicant",
          "HasGuarantor",
          "OwnsHouse",
          "RentsHouse",
          "Unemployed",
          "YearsAtCurrentJob_lt_1",
          "YearsAtCurrentJob_geq_4",
          "JobClassIsSkilled"
         ],
         "legendgroup": "TVComplement",
         "marker": {
          "color": "#03AFF1",
          "pattern": {
           "shape": "/"
          }
         },
         "name": "TVComplement",
         "offsetgroup": "TVComplement",
         "orientation": "v",
         "showlegend": true,
         "textposition": "auto",
         "type": "bar",
         "x": [
          "Gender",
          "ForeignWorker",
          "Single",
          "PurposeOfLoan",
          "LoanRateAsPercentOfIncome",
          "YearsAtCurrentHome",
          "NumberOfOtherLoansAtBank",
          "NumberOfLiableIndividuals",
          "HasTelephone",
          "CheckingAccountBalance_geq_0",
          "CheckingAccountBalance_geq_200",
          "SavingsAccountBalance_geq_100",
          "SavingsAccountBalance_geq_500",
          "MissedPayments",
          "NoCurrentLoan",
          "CriticalAccountOrLoansElsewhere",
          "OtherLoansAtBank",
          "OtherLoansAtStore",
          "HasCoapplicant",
          "HasGuarantor",
          "OwnsHouse",
          "RentsHouse",
          "Unemployed",
          "YearsAtCurrentJob_lt_1",
          "YearsAtCurrentJob_geq_4",
          "JobClassIsSkilled"
         ],
         "xaxis": "x",
         "y": [
          0.9077999999999999,
          0.9668,
          0.9778,
          0.8588,
          0.922,
          0.9052,
          0.9181999999999999,
          0.9139999999999999,
          0.9584,
          0.9212,
          0.9484,
          0.9058,
          0.9244,
          0.9308000000000001,
          0.96,
          0.9126,
          0.908,
          1,
          0.9668,
          0.9553999999999999,
          0.8977999999999999,
          0.8994,
          0.9496,
          0.8972,
          0.968,
          0.8984
         ],
         "yaxis": "y"
        }
       ],
       "layout": {
        "barmode": "relative",
        "font": {
         "size": 18
        },
        "legend": {
         "title": {
          "text": "Metric"
         },
         "tracegroupgap": 0
        },
        "margin": {
         "t": 150
        },
        "plot_bgcolor": "#F5F5F8",
        "template": {
         "data": {
          "bar": [
           {
            "error_x": {
             "color": "#2a3f5f"
            },
            "error_y": {
             "color": "#2a3f5f"
            },
            "marker": {
             "line": {
              "color": "#E5ECF6",
              "width": 0.5
             },
             "pattern": {
              "fillmode": "overlay",
              "size": 10,
              "solidity": 0.2
             }
            },
            "type": "bar"
           }
          ],
          "barpolar": [
           {
            "marker": {
             "line": {
              "color": "#E5ECF6",
              "width": 0.5
             },
             "pattern": {
              "fillmode": "overlay",
              "size": 10,
              "solidity": 0.2
             }
            },
            "type": "barpolar"
           }
          ],
          "carpet": [
           {
            "aaxis": {
             "endlinecolor": "#2a3f5f",
             "gridcolor": "white",
             "linecolor": "white",
             "minorgridcolor": "white",
             "startlinecolor": "#2a3f5f"
            },
            "baxis": {
             "endlinecolor": "#2a3f5f",
             "gridcolor": "white",
             "linecolor": "white",
             "minorgridcolor": "white",
             "startlinecolor": "#2a3f5f"
            },
            "type": "carpet"
           }
          ],
          "choropleth": [
           {
            "colorbar": {
             "outlinewidth": 0,
             "ticks": ""
            },
            "type": "choropleth"
           }
          ],
          "contour": [
           {
            "colorbar": {
             "outlinewidth": 0,
             "ticks": ""
            },
            "colorscale": [
             [
              0,
              "#0d0887"
             ],
             [
              0.1111111111111111,
              "#46039f"
             ],
             [
              0.2222222222222222,
              "#7201a8"
             ],
             [
              0.3333333333333333,
              "#9c179e"
             ],
             [
              0.4444444444444444,
              "#bd3786"
             ],
             [
              0.5555555555555556,
              "#d8576b"
             ],
             [
              0.6666666666666666,
              "#ed7953"
             ],
             [
              0.7777777777777778,
              "#fb9f3a"
             ],
             [
              0.8888888888888888,
              "#fdca26"
             ],
             [
              1,
              "#f0f921"
             ]
            ],
            "type": "contour"
           }
          ],
          "contourcarpet": [
           {
            "colorbar": {
             "outlinewidth": 0,
             "ticks": ""
            },
            "type": "contourcarpet"
           }
          ],
          "heatmap": [
           {
            "colorbar": {
             "outlinewidth": 0,
             "ticks": ""
            },
            "colorscale": [
             [
              0,
              "#0d0887"
             ],
             [
              0.1111111111111111,
              "#46039f"
             ],
             [
              0.2222222222222222,
              "#7201a8"
             ],
             [
              0.3333333333333333,
              "#9c179e"
             ],
             [
              0.4444444444444444,
              "#bd3786"
             ],
             [
              0.5555555555555556,
              "#d8576b"
             ],
             [
              0.6666666666666666,
              "#ed7953"
             ],
             [
              0.7777777777777778,
              "#fb9f3a"
             ],
             [
              0.8888888888888888,
              "#fdca26"
             ],
             [
              1,
              "#f0f921"
             ]
            ],
            "type": "heatmap"
           }
          ],
          "heatmapgl": [
           {
            "colorbar": {
             "outlinewidth": 0,
             "ticks": ""
            },
            "colorscale": [
             [
              0,
              "#0d0887"
             ],
             [
              0.1111111111111111,
              "#46039f"
             ],
             [
              0.2222222222222222,
              "#7201a8"
             ],
             [
              0.3333333333333333,
              "#9c179e"
             ],
             [
              0.4444444444444444,
              "#bd3786"
             ],
             [
              0.5555555555555556,
              "#d8576b"
             ],
             [
              0.6666666666666666,
              "#ed7953"
             ],
             [
              0.7777777777777778,
              "#fb9f3a"
             ],
             [
              0.8888888888888888,
              "#fdca26"
             ],
             [
              1,
              "#f0f921"
             ]
            ],
            "type": "heatmapgl"
           }
          ],
          "histogram": [
           {
            "marker": {
             "pattern": {
              "fillmode": "overlay",
              "size": 10,
              "solidity": 0.2
             }
            },
            "type": "histogram"
           }
          ],
          "histogram2d": [
           {
            "colorbar": {
             "outlinewidth": 0,
             "ticks": ""
            },
            "colorscale": [
             [
              0,
              "#0d0887"
             ],
             [
              0.1111111111111111,
              "#46039f"
             ],
             [
              0.2222222222222222,
              "#7201a8"
             ],
             [
              0.3333333333333333,
              "#9c179e"
             ],
             [
              0.4444444444444444,
              "#bd3786"
             ],
             [
              0.5555555555555556,
              "#d8576b"
             ],
             [
              0.6666666666666666,
              "#ed7953"
             ],
             [
              0.7777777777777778,
              "#fb9f3a"
             ],
             [
              0.8888888888888888,
              "#fdca26"
             ],
             [
              1,
              "#f0f921"
             ]
            ],
            "type": "histogram2d"
           }
          ],
          "histogram2dcontour": [
           {
            "colorbar": {
             "outlinewidth": 0,
             "ticks": ""
            },
            "colorscale": [
             [
              0,
              "#0d0887"
             ],
             [
              0.1111111111111111,
              "#46039f"
             ],
             [
              0.2222222222222222,
              "#7201a8"
             ],
             [
              0.3333333333333333,
              "#9c179e"
             ],
             [
              0.4444444444444444,
              "#bd3786"
             ],
             [
              0.5555555555555556,
              "#d8576b"
             ],
             [
              0.6666666666666666,
              "#ed7953"
             ],
             [
              0.7777777777777778,
              "#fb9f3a"
             ],
             [
              0.8888888888888888,
              "#fdca26"
             ],
             [
              1,
              "#f0f921"
             ]
            ],
            "type": "histogram2dcontour"
           }
          ],
          "mesh3d": [
           {
            "colorbar": {
             "outlinewidth": 0,
             "ticks": ""
            },
            "type": "mesh3d"
           }
          ],
          "parcoords": [
           {
            "line": {
             "colorbar": {
              "outlinewidth": 0,
              "ticks": ""
             }
            },
            "type": "parcoords"
           }
          ],
          "pie": [
           {
            "automargin": true,
            "type": "pie"
           }
          ],
          "scatter": [
           {
            "fillpattern": {
             "fillmode": "overlay",
             "size": 10,
             "solidity": 0.2
            },
            "type": "scatter"
           }
          ],
          "scatter3d": [
           {
            "line": {
             "colorbar": {
              "outlinewidth": 0,
              "ticks": ""
             }
            },
            "marker": {
             "colorbar": {
              "outlinewidth": 0,
              "ticks": ""
             }
            },
            "type": "scatter3d"
           }
          ],
          "scattercarpet": [
           {
            "marker": {
             "colorbar": {
              "outlinewidth": 0,
              "ticks": ""
             }
            },
            "type": "scattercarpet"
           }
          ],
          "scattergeo": [
           {
            "marker": {
             "colorbar": {
              "outlinewidth": 0,
              "ticks": ""
             }
            },
            "type": "scattergeo"
           }
          ],
          "scattergl": [
           {
            "marker": {
             "colorbar": {
              "outlinewidth": 0,
              "ticks": ""
             }
            },
            "type": "scattergl"
           }
          ],
          "scattermapbox": [
           {
            "marker": {
             "colorbar": {
              "outlinewidth": 0,
              "ticks": ""
             }
            },
            "type": "scattermapbox"
           }
          ],
          "scatterpolar": [
           {
            "marker": {
             "colorbar": {
              "outlinewidth": 0,
              "ticks": ""
             }
            },
            "type": "scatterpolar"
           }
          ],
          "scatterpolargl": [
           {
            "marker": {
             "colorbar": {
              "outlinewidth": 0,
              "ticks": ""
             }
            },
            "type": "scatterpolargl"
           }
          ],
          "scatterternary": [
           {
            "marker": {
             "colorbar": {
              "outlinewidth": 0,
              "ticks": ""
             }
            },
            "type": "scatterternary"
           }
          ],
          "surface": [
           {
            "colorbar": {
             "outlinewidth": 0,
             "ticks": ""
            },
            "colorscale": [
             [
              0,
              "#0d0887"
             ],
             [
              0.1111111111111111,
              "#46039f"
             ],
             [
              0.2222222222222222,
              "#7201a8"
             ],
             [
              0.3333333333333333,
              "#9c179e"
             ],
             [
              0.4444444444444444,
              "#bd3786"
             ],
             [
              0.5555555555555556,
              "#d8576b"
             ],
             [
              0.6666666666666666,
              "#ed7953"
             ],
             [
              0.7777777777777778,
              "#fb9f3a"
             ],
             [
              0.8888888888888888,
              "#fdca26"
             ],
             [
              1,
              "#f0f921"
             ]
            ],
            "type": "surface"
           }
          ],
          "table": [
           {
            "cells": {
             "fill": {
              "color": "#EBF0F8"
             },
             "line": {
              "color": "white"
             }
            },
            "header": {
             "fill": {
              "color": "#C8D4E3"
             },
             "line": {
              "color": "white"
             }
            },
            "type": "table"
           }
          ]
         },
         "layout": {
          "annotationdefaults": {
           "arrowcolor": "#2a3f5f",
           "arrowhead": 0,
           "arrowwidth": 1
          },
          "autotypenumbers": "strict",
          "coloraxis": {
           "colorbar": {
            "outlinewidth": 0,
            "ticks": ""
           }
          },
          "colorscale": {
           "diverging": [
            [
             0,
             "#8e0152"
            ],
            [
             0.1,
             "#c51b7d"
            ],
            [
             0.2,
             "#de77ae"
            ],
            [
             0.3,
             "#f1b6da"
            ],
            [
             0.4,
             "#fde0ef"
            ],
            [
             0.5,
             "#f7f7f7"
            ],
            [
             0.6,
             "#e6f5d0"
            ],
            [
             0.7,
             "#b8e186"
            ],
            [
             0.8,
             "#7fbc41"
            ],
            [
             0.9,
             "#4d9221"
            ],
            [
             1,
             "#276419"
            ]
           ],
           "sequential": [
            [
             0,
             "#0d0887"
            ],
            [
             0.1111111111111111,
             "#46039f"
            ],
            [
             0.2222222222222222,
             "#7201a8"
            ],
            [
             0.3333333333333333,
             "#9c179e"
            ],
            [
             0.4444444444444444,
             "#bd3786"
            ],
            [
             0.5555555555555556,
             "#d8576b"
            ],
            [
             0.6666666666666666,
             "#ed7953"
            ],
            [
             0.7777777777777778,
             "#fb9f3a"
            ],
            [
             0.8888888888888888,
             "#fdca26"
            ],
            [
             1,
             "#f0f921"
            ]
           ],
           "sequentialminus": [
            [
             0,
             "#0d0887"
            ],
            [
             0.1111111111111111,
             "#46039f"
            ],
            [
             0.2222222222222222,
             "#7201a8"
            ],
            [
             0.3333333333333333,
             "#9c179e"
            ],
            [
             0.4444444444444444,
             "#bd3786"
            ],
            [
             0.5555555555555556,
             "#d8576b"
            ],
            [
             0.6666666666666666,
             "#ed7953"
            ],
            [
             0.7777777777777778,
             "#fb9f3a"
            ],
            [
             0.8888888888888888,
             "#fdca26"
            ],
            [
             1,
             "#f0f921"
            ]
           ]
          },
          "colorway": [
           "#636efa",
           "#EF553B",
           "#00cc96",
           "#ab63fa",
           "#FFA15A",
           "#19d3f3",
           "#FF6692",
           "#B6E880",
           "#FF97FF",
           "#FECB52"
          ],
          "font": {
           "color": "#2a3f5f"
          },
          "geo": {
           "bgcolor": "white",
           "lakecolor": "white",
           "landcolor": "#E5ECF6",
           "showlakes": true,
           "showland": true,
           "subunitcolor": "white"
          },
          "hoverlabel": {
           "align": "left"
          },
          "hovermode": "closest",
          "mapbox": {
           "style": "light"
          },
          "paper_bgcolor": "white",
          "plot_bgcolor": "#E5ECF6",
          "polar": {
           "angularaxis": {
            "gridcolor": "white",
            "linecolor": "white",
            "ticks": ""
           },
           "bgcolor": "#E5ECF6",
           "radialaxis": {
            "gridcolor": "white",
            "linecolor": "white",
            "ticks": ""
           }
          },
          "scene": {
           "xaxis": {
            "backgroundcolor": "#E5ECF6",
            "gridcolor": "white",
            "gridwidth": 2,
            "linecolor": "white",
            "showbackground": true,
            "ticks": "",
            "zerolinecolor": "white"
           },
           "yaxis": {
            "backgroundcolor": "#E5ECF6",
            "gridcolor": "white",
            "gridwidth": 2,
            "linecolor": "white",
            "showbackground": true,
            "ticks": "",
            "zerolinecolor": "white"
           },
           "zaxis": {
            "backgroundcolor": "#E5ECF6",
            "gridcolor": "white",
            "gridwidth": 2,
            "linecolor": "white",
            "showbackground": true,
            "ticks": "",
            "zerolinecolor": "white"
           }
          },
          "shapedefaults": {
           "line": {
            "color": "#2a3f5f"
           }
          },
          "ternary": {
           "aaxis": {
            "gridcolor": "white",
            "linecolor": "white",
            "ticks": ""
           },
           "baxis": {
            "gridcolor": "white",
            "linecolor": "white",
            "ticks": ""
           },
           "bgcolor": "#E5ECF6",
           "caxis": {
            "gridcolor": "white",
            "linecolor": "white",
            "ticks": ""
           }
          },
          "title": {
           "x": 0.05
          },
          "xaxis": {
           "automargin": true,
           "gridcolor": "white",
           "linecolor": "white",
           "ticks": "",
           "title": {
            "standoff": 15
           },
           "zerolinecolor": "white",
           "zerolinewidth": 2
          },
          "yaxis": {
           "automargin": true,
           "gridcolor": "white",
           "linecolor": "white",
           "ticks": "",
           "title": {
            "standoff": 15
           },
           "zerolinecolor": "white",
           "zerolinewidth": 2
          }
         }
        },
        "title": {
         "text": "Data Quality: Column Shapes (Average Score=0.92)"
        },
        "xaxis": {
         "anchor": "y",
         "categoryorder": "total ascending",
         "domain": [
          0,
          1
         ],
         "title": {
          "text": "Column"
         }
        },
        "yaxis": {
         "anchor": "x",
         "domain": [
          0,
          1
         ],
         "range": [
          0,
          1
         ],
         "title": {
          "text": "Score"
         }
        }
       }
      }
     },
     "metadata": {},
     "output_type": "display_data"
    }
   ],
   "source": [
    "quality_report.get_visualization('Column Shapes')\n",
    "#KS complment é (1-KS_distance)\n",
    "#TV complement é usado em categóricos é (1- Total Variation distance)"
   ]
  },
  {
   "cell_type": "code",
   "execution_count": 8,
   "metadata": {},
   "outputs": [
    {
     "data": {
      "application/vnd.plotly.v1+json": {
       "config": {
        "plotlyServerURL": "https://plot.ly"
       },
       "data": [
        {
         "coloraxis": "coloraxis",
         "hovertemplate": "<b>Column Pair</b><br>(%{x},%{y})<br><br>Similarity: %{z}<extra></extra>",
         "type": "heatmap",
         "x": [
          "GoodCustomer",
          "Gender",
          "ForeignWorker",
          "Single",
          "Age",
          "LoanDuration",
          "PurposeOfLoan",
          "LoanAmount",
          "LoanRateAsPercentOfIncome",
          "YearsAtCurrentHome",
          "NumberOfOtherLoansAtBank",
          "NumberOfLiableIndividuals",
          "HasTelephone",
          "CheckingAccountBalance_geq_0",
          "CheckingAccountBalance_geq_200",
          "SavingsAccountBalance_geq_100",
          "SavingsAccountBalance_geq_500",
          "MissedPayments",
          "NoCurrentLoan",
          "CriticalAccountOrLoansElsewhere",
          "OtherLoansAtBank",
          "OtherLoansAtStore",
          "HasCoapplicant",
          "HasGuarantor",
          "OwnsHouse",
          "RentsHouse",
          "Unemployed",
          "YearsAtCurrentJob_lt_1",
          "YearsAtCurrentJob_geq_4",
          "JobClassIsSkilled"
         ],
         "xaxis": "x",
         "y": [
          "GoodCustomer",
          "Gender",
          "ForeignWorker",
          "Single",
          "Age",
          "LoanDuration",
          "PurposeOfLoan",
          "LoanAmount",
          "LoanRateAsPercentOfIncome",
          "YearsAtCurrentHome",
          "NumberOfOtherLoansAtBank",
          "NumberOfLiableIndividuals",
          "HasTelephone",
          "CheckingAccountBalance_geq_0",
          "CheckingAccountBalance_geq_200",
          "SavingsAccountBalance_geq_100",
          "SavingsAccountBalance_geq_500",
          "MissedPayments",
          "NoCurrentLoan",
          "CriticalAccountOrLoansElsewhere",
          "OtherLoansAtBank",
          "OtherLoansAtStore",
          "HasCoapplicant",
          "HasGuarantor",
          "OwnsHouse",
          "RentsHouse",
          "Unemployed",
          "YearsAtCurrentJob_lt_1",
          "YearsAtCurrentJob_geq_4",
          "JobClassIsSkilled"
         ],
         "yaxis": "y",
         "z": [
          [
           1,
           0.624,
           0.624,
           0.624,
           0.998,
           0.981,
           0.608,
           0.989,
           0.624,
           0.624,
           0.61,
           0.624,
           0.624,
           0.624,
           0.624,
           0.624,
           0.624,
           0.624,
           0.624,
           0.624,
           0.624,
           0.624,
           0.624,
           0.624,
           0.624,
           0.624,
           0.624,
           0.624,
           0.624,
           0.624
          ],
          [
           0.624,
           1,
           0.881,
           0.848,
           0.824,
           0.721,
           0.83,
           0.692,
           0.892,
           0.877,
           0.86,
           0.826,
           0.903,
           0.879,
           0.875,
           0.854,
           0.859,
           0.851,
           0.883,
           0.856,
           0.844,
           0.908,
           0.885,
           0.876,
           0.871,
           0.877,
           0.878,
           0.871,
           0.9,
           0.852
          ],
          [
           0.624,
           0.881,
           1,
           0.958,
           0.851,
           0.713,
           0.833,
           0.692,
           0.917,
           0.889,
           0.896,
           0.892,
           0.929,
           0.896,
           0.919,
           0.88,
           0.895,
           0.898,
           0.928,
           0.892,
           0.88,
           0.967,
           0.938,
           0.928,
           0.872,
           0.875,
           0.916,
           0.873,
           0.946,
           0.881
          ],
          [
           0.624,
           0.848,
           0.958,
           1,
           0.842,
           0.734,
           0.851,
           0.693,
           0.922,
           0.905,
           0.917,
           0.891,
           0.954,
           0.921,
           0.948,
           0.906,
           0.924,
           0.931,
           0.954,
           0.913,
           0.908,
           0.978,
           0.958,
           0.953,
           0.898,
           0.899,
           0.95,
           0.897,
           0.944,
           0.898
          ],
          [
           0.998,
           0.824,
           0.851,
           0.842,
           1,
           0.998,
           0.78,
           0.994,
           0.824,
           0.79,
           0.834,
           0.787,
           0.845,
           0.852,
           0.839,
           0.818,
           0.819,
           0.829,
           0.844,
           0.831,
           0.815,
           0.872,
           0.849,
           0.843,
           0.814,
           0.807,
           0.842,
           0.818,
           0.852,
           0.81
          ],
          [
           0.981,
           0.721,
           0.713,
           0.734,
           0.998,
           1,
           0.684,
           0.998,
           0.703,
           0.721,
           0.717,
           0.706,
           0.732,
           0.711,
           0.715,
           0.718,
           0.72,
           0.713,
           0.726,
           0.717,
           0.726,
           0.735,
           0.726,
           0.718,
           0.712,
           0.717,
           0.722,
           0.711,
           0.732,
           0.705
          ],
          [
           0.608,
           0.83,
           0.833,
           0.851,
           0.78,
           0.684,
           1,
           0.662,
           0.805,
           0.83,
           0.834,
           0.818,
           0.842,
           0.851,
           0.837,
           0.833,
           0.83,
           0.842,
           0.84,
           0.831,
           0.826,
           0.859,
           0.84,
           0.844,
           0.804,
           0.805,
           0.832,
           0.808,
           0.848,
           0.809
          ],
          [
           0.989,
           0.692,
           0.692,
           0.693,
           0.994,
           0.998,
           0.662,
           1,
           0.678,
           0.693,
           0.679,
           0.681,
           0.693,
           0.692,
           0.688,
           0.693,
           0.692,
           0.667,
           0.686,
           0.693,
           0.681,
           0.694,
           0.686,
           0.69,
           0.691,
           0.688,
           0.677,
           0.691,
           0.693,
           0.693
          ],
          [
           0.624,
           0.892,
           0.917,
           0.922,
           0.824,
           0.703,
           0.805,
           0.678,
           1,
           0.878,
           0.877,
           0.881,
           0.913,
           0.893,
           0.895,
           0.881,
           0.882,
           0.884,
           0.902,
           0.878,
           0.873,
           0.922,
           0.907,
           0.903,
           0.869,
           0.872,
           0.898,
           0.874,
           0.898,
           0.874
          ],
          [
           0.624,
           0.877,
           0.889,
           0.905,
           0.79,
           0.721,
           0.83,
           0.693,
           0.878,
           1,
           0.883,
           0.879,
           0.894,
           0.899,
           0.886,
           0.872,
           0.878,
           0.879,
           0.897,
           0.881,
           0.87,
           0.905,
           0.897,
           0.89,
           0.841,
           0.857,
           0.891,
           0.889,
           0.875,
           0.867
          ],
          [
           0.61,
           0.86,
           0.896,
           0.917,
           0.834,
           0.717,
           0.834,
           0.679,
           0.877,
           0.883,
           1,
           0.88,
           0.918,
           0.87,
           0.88,
           0.855,
           0.869,
           0.896,
           0.883,
           0.876,
           0.867,
           0.918,
           0.899,
           0.888,
           0.854,
           0.852,
           0.886,
           0.84,
           0.918,
           0.852
          ],
          [
           0.624,
           0.826,
           0.892,
           0.891,
           0.787,
           0.706,
           0.818,
           0.681,
           0.881,
           0.879,
           0.88,
           1,
           0.907,
           0.86,
           0.871,
           0.843,
           0.852,
           0.861,
           0.887,
           0.859,
           0.848,
           0.914,
           0.884,
           0.88,
           0.847,
           0.827,
           0.869,
           0.827,
           0.914,
           0.857
          ],
          [
           0.624,
           0.903,
           0.929,
           0.954,
           0.845,
           0.732,
           0.842,
           0.693,
           0.913,
           0.894,
           0.918,
           0.907,
           1,
           0.917,
           0.925,
           0.905,
           0.914,
           0.924,
           0.934,
           0.913,
           0.908,
           0.958,
           0.938,
           0.924,
           0.898,
           0.892,
           0.937,
           0.89,
           0.956,
           0.868
          ],
          [
           0.624,
           0.879,
           0.896,
           0.921,
           0.852,
           0.711,
           0.851,
           0.692,
           0.893,
           0.899,
           0.87,
           0.86,
           0.917,
           1,
           0.921,
           0.874,
           0.871,
           0.885,
           0.898,
           0.867,
           0.872,
           0.921,
           0.897,
           0.899,
           0.862,
           0.856,
           0.892,
           0.871,
           0.921,
           0.869
          ],
          [
           0.624,
           0.875,
           0.919,
           0.948,
           0.839,
           0.715,
           0.837,
           0.688,
           0.895,
           0.886,
           0.88,
           0.871,
           0.925,
           0.921,
           1,
           0.865,
           0.879,
           0.882,
           0.911,
           0.877,
           0.864,
           0.948,
           0.917,
           0.905,
           0.86,
           0.855,
           0.898,
           0.859,
           0.936,
           0.864
          ],
          [
           0.624,
           0.854,
           0.88,
           0.906,
           0.818,
           0.718,
           0.833,
           0.693,
           0.881,
           0.872,
           0.855,
           0.843,
           0.905,
           0.874,
           0.865,
           1,
           0.905,
           0.855,
           0.881,
           0.852,
           0.838,
           0.906,
           0.879,
           0.864,
           0.84,
           0.837,
           0.864,
           0.825,
           0.906,
           0.835
          ],
          [
           0.624,
           0.859,
           0.895,
           0.924,
           0.819,
           0.72,
           0.83,
           0.692,
           0.882,
           0.878,
           0.869,
           0.852,
           0.914,
           0.871,
           0.879,
           0.905,
           1,
           0.862,
           0.892,
           0.866,
           0.846,
           0.924,
           0.892,
           0.879,
           0.845,
           0.842,
           0.877,
           0.831,
           0.924,
           0.843
          ],
          [
           0.624,
           0.851,
           0.898,
           0.931,
           0.829,
           0.713,
           0.842,
           0.667,
           0.884,
           0.879,
           0.896,
           0.861,
           0.924,
           0.885,
           0.882,
           0.855,
           0.862,
           1,
           0.89,
           0.837,
           0.85,
           0.931,
           0.898,
           0.886,
           0.848,
           0.839,
           0.886,
           0.838,
           0.929,
           0.842
          ],
          [
           0.624,
           0.883,
           0.928,
           0.954,
           0.844,
           0.726,
           0.84,
           0.686,
           0.902,
           0.897,
           0.883,
           0.887,
           0.934,
           0.898,
           0.911,
           0.881,
           0.892,
           0.89,
           1,
           0.869,
           0.891,
           0.96,
           0.93,
           0.92,
           0.876,
           0.869,
           0.915,
           0.866,
           0.945,
           0.874
          ],
          [
           0.624,
           0.856,
           0.892,
           0.913,
           0.831,
           0.717,
           0.831,
           0.693,
           0.878,
           0.881,
           0.876,
           0.859,
           0.913,
           0.867,
           0.877,
           0.852,
           0.866,
           0.837,
           0.869,
           1,
           0.846,
           0.913,
           0.891,
           0.879,
           0.845,
           0.836,
           0.88,
           0.827,
           0.913,
           0.848
          ],
          [
           0.624,
           0.844,
           0.88,
           0.908,
           0.815,
           0.726,
           0.826,
           0.681,
           0.873,
           0.87,
           0.867,
           0.848,
           0.908,
           0.872,
           0.864,
           0.838,
           0.846,
           0.85,
           0.891,
           0.846,
           1,
           0.908,
           0.881,
           0.876,
           0.842,
           0.825,
           0.864,
           0.827,
           0.908,
           0.837
          ],
          [
           0.624,
           0.908,
           0.967,
           0.978,
           0.872,
           0.735,
           0.859,
           0.694,
           0.922,
           0.905,
           0.918,
           0.914,
           0.958,
           0.921,
           0.948,
           0.906,
           0.924,
           0.931,
           0.96,
           0.913,
           0.908,
           1,
           0.967,
           0.955,
           0.898,
           0.899,
           0.95,
           0.897,
           0.968,
           0.898
          ],
          [
           0.624,
           0.885,
           0.938,
           0.958,
           0.849,
           0.726,
           0.84,
           0.686,
           0.907,
           0.897,
           0.899,
           0.884,
           0.938,
           0.897,
           0.917,
           0.879,
           0.892,
           0.898,
           0.93,
           0.891,
           0.881,
           0.967,
           1,
           0.922,
           0.878,
           0.877,
           0.922,
           0.871,
           0.948,
           0.872
          ],
          [
           0.624,
           0.876,
           0.928,
           0.953,
           0.843,
           0.718,
           0.844,
           0.69,
           0.903,
           0.89,
           0.888,
           0.88,
           0.924,
           0.899,
           0.905,
           0.864,
           0.879,
           0.886,
           0.92,
           0.879,
           0.876,
           0.955,
           0.922,
           1,
           0.864,
           0.865,
           0.905,
           0.859,
           0.941,
           0.869
          ],
          [
           0.624,
           0.871,
           0.872,
           0.898,
           0.814,
           0.712,
           0.804,
           0.691,
           0.869,
           0.841,
           0.854,
           0.847,
           0.898,
           0.862,
           0.86,
           0.84,
           0.845,
           0.848,
           0.876,
           0.845,
           0.842,
           0.898,
           0.878,
           0.864,
           1,
           0.867,
           0.868,
           0.834,
           0.898,
           0.832
          ],
          [
           0.624,
           0.877,
           0.875,
           0.899,
           0.807,
           0.717,
           0.805,
           0.688,
           0.872,
           0.857,
           0.852,
           0.827,
           0.892,
           0.856,
           0.855,
           0.837,
           0.842,
           0.839,
           0.869,
           0.836,
           0.825,
           0.899,
           0.877,
           0.865,
           0.867,
           1,
           0.856,
           0.838,
           0.899,
           0.831
          ],
          [
           0.624,
           0.878,
           0.916,
           0.95,
           0.842,
           0.722,
           0.832,
           0.677,
           0.898,
           0.891,
           0.886,
           0.869,
           0.937,
           0.892,
           0.898,
           0.864,
           0.877,
           0.886,
           0.915,
           0.88,
           0.864,
           0.95,
           0.922,
           0.905,
           0.868,
           0.856,
           1,
           0.846,
           0.912,
           0.863
          ],
          [
           0.624,
           0.871,
           0.873,
           0.897,
           0.818,
           0.711,
           0.808,
           0.691,
           0.874,
           0.889,
           0.84,
           0.827,
           0.89,
           0.871,
           0.859,
           0.825,
           0.831,
           0.838,
           0.866,
           0.827,
           0.827,
           0.897,
           0.871,
           0.859,
           0.834,
           0.838,
           0.846,
           1,
           0.841,
           0.834
          ],
          [
           0.624,
           0.9,
           0.946,
           0.944,
           0.852,
           0.732,
           0.848,
           0.693,
           0.898,
           0.875,
           0.918,
           0.914,
           0.956,
           0.921,
           0.936,
           0.906,
           0.924,
           0.929,
           0.945,
           0.913,
           0.908,
           0.968,
           0.948,
           0.941,
           0.898,
           0.899,
           0.912,
           0.841,
           1,
           0.898
          ],
          [
           0.624,
           0.852,
           0.881,
           0.898,
           0.81,
           0.705,
           0.809,
           0.693,
           0.874,
           0.867,
           0.852,
           0.857,
           0.868,
           0.869,
           0.864,
           0.835,
           0.843,
           0.842,
           0.874,
           0.848,
           0.837,
           0.898,
           0.872,
           0.869,
           0.832,
           0.831,
           0.863,
           0.834,
           0.898,
           1
          ]
         ]
        },
        {
         "coloraxis": "coloraxis2",
         "customdata": [
          [
           1,
           0.096,
           -0.177,
           -0.132
          ],
          [
           0.096,
           1,
           -0.04,
           0.021
          ],
          [
           -0.177,
           -0.04,
           1,
           0.62
          ],
          [
           -0.132,
           0.021,
           0.62,
           1
          ]
         ],
         "hovertemplate": "<b>Correlation</b><br>(%{x},%{y})<br><br>Synthetic: %{z}<br>(vs. Real: %{customdata})<extra></extra>",
         "type": "heatmap",
         "x": [
          "GoodCustomer",
          "Age",
          "LoanDuration",
          "LoanAmount"
         ],
         "xaxis": "x2",
         "y": [
          "GoodCustomer",
          "Age",
          "LoanDuration",
          "LoanAmount"
         ],
         "yaxis": "y2",
         "z": [
          [
           1,
           0.091,
           -0.215,
           -0.155
          ],
          [
           0.091,
           1,
           -0.036,
           0.033
          ],
          [
           -0.215,
           -0.036,
           1,
           0.625
          ],
          [
           -0.155,
           0.033,
           0.625,
           1
          ]
         ]
        },
        {
         "coloraxis": "coloraxis2",
         "customdata": [
          [
           1,
           0.091,
           -0.215,
           -0.155
          ],
          [
           0.091,
           1,
           -0.036,
           0.033
          ],
          [
           -0.215,
           -0.036,
           1,
           0.625
          ],
          [
           -0.155,
           0.033,
           0.625,
           1
          ]
         ],
         "hovertemplate": "<b>Correlation</b><br>(%{x},%{y})<br><br>Synthetic: %{z}<br>(vs. Real: %{customdata})<extra></extra>",
         "type": "heatmap",
         "x": [
          "GoodCustomer",
          "Age",
          "LoanDuration",
          "LoanAmount"
         ],
         "xaxis": "x3",
         "y": [
          "GoodCustomer",
          "Age",
          "LoanDuration",
          "LoanAmount"
         ],
         "yaxis": "y3",
         "z": [
          [
           1,
           0.096,
           -0.177,
           -0.132
          ],
          [
           0.096,
           1,
           -0.04,
           0.021
          ],
          [
           -0.177,
           -0.04,
           1,
           0.62
          ],
          [
           -0.132,
           0.021,
           0.62,
           1
          ]
         ]
        }
       ],
       "layout": {
        "annotations": [
         {
          "font": {
           "size": 16
          },
          "showarrow": false,
          "text": "Real vs. Synthetic Similarity",
          "x": 0.5,
          "xanchor": "center",
          "xref": "paper",
          "y": 1,
          "yanchor": "bottom",
          "yref": "paper"
         },
         {
          "font": {
           "size": 16
          },
          "showarrow": false,
          "text": "Numerical Correlation (Real Data)",
          "x": 0.225,
          "xanchor": "center",
          "xref": "paper",
          "y": 0.375,
          "yanchor": "bottom",
          "yref": "paper"
         },
         {
          "font": {
           "size": 16
          },
          "showarrow": false,
          "text": "Numerical Correlation (Synthetic Data)",
          "x": 0.775,
          "xanchor": "center",
          "xref": "paper",
          "y": 0.375,
          "yanchor": "bottom",
          "yref": "paper"
         }
        ],
        "coloraxis": {
         "cmax": 1,
         "cmin": 0,
         "colorbar": {
          "len": 0.5,
          "x": 0.8,
          "y": 0.8
         },
         "colorscale": [
          [
           0,
           "#FF0000"
          ],
          [
           0.5,
           "#F16141"
          ],
          [
           1,
           "#36B37E"
          ]
         ]
        },
        "coloraxis2": {
         "cmax": 1,
         "cmin": -1,
         "colorbar": {
          "len": 0.5,
          "y": 0.2
         },
         "colorscale": [
          [
           0,
           "#03AFF1"
          ],
          [
           0.5,
           "#000036"
          ],
          [
           1,
           "#01E0C9"
          ]
         ]
        },
        "font": {
         "size": 18
        },
        "height": 900,
        "template": {
         "data": {
          "bar": [
           {
            "error_x": {
             "color": "#2a3f5f"
            },
            "error_y": {
             "color": "#2a3f5f"
            },
            "marker": {
             "line": {
              "color": "#E5ECF6",
              "width": 0.5
             },
             "pattern": {
              "fillmode": "overlay",
              "size": 10,
              "solidity": 0.2
             }
            },
            "type": "bar"
           }
          ],
          "barpolar": [
           {
            "marker": {
             "line": {
              "color": "#E5ECF6",
              "width": 0.5
             },
             "pattern": {
              "fillmode": "overlay",
              "size": 10,
              "solidity": 0.2
             }
            },
            "type": "barpolar"
           }
          ],
          "carpet": [
           {
            "aaxis": {
             "endlinecolor": "#2a3f5f",
             "gridcolor": "white",
             "linecolor": "white",
             "minorgridcolor": "white",
             "startlinecolor": "#2a3f5f"
            },
            "baxis": {
             "endlinecolor": "#2a3f5f",
             "gridcolor": "white",
             "linecolor": "white",
             "minorgridcolor": "white",
             "startlinecolor": "#2a3f5f"
            },
            "type": "carpet"
           }
          ],
          "choropleth": [
           {
            "colorbar": {
             "outlinewidth": 0,
             "ticks": ""
            },
            "type": "choropleth"
           }
          ],
          "contour": [
           {
            "colorbar": {
             "outlinewidth": 0,
             "ticks": ""
            },
            "colorscale": [
             [
              0,
              "#0d0887"
             ],
             [
              0.1111111111111111,
              "#46039f"
             ],
             [
              0.2222222222222222,
              "#7201a8"
             ],
             [
              0.3333333333333333,
              "#9c179e"
             ],
             [
              0.4444444444444444,
              "#bd3786"
             ],
             [
              0.5555555555555556,
              "#d8576b"
             ],
             [
              0.6666666666666666,
              "#ed7953"
             ],
             [
              0.7777777777777778,
              "#fb9f3a"
             ],
             [
              0.8888888888888888,
              "#fdca26"
             ],
             [
              1,
              "#f0f921"
             ]
            ],
            "type": "contour"
           }
          ],
          "contourcarpet": [
           {
            "colorbar": {
             "outlinewidth": 0,
             "ticks": ""
            },
            "type": "contourcarpet"
           }
          ],
          "heatmap": [
           {
            "colorbar": {
             "outlinewidth": 0,
             "ticks": ""
            },
            "colorscale": [
             [
              0,
              "#0d0887"
             ],
             [
              0.1111111111111111,
              "#46039f"
             ],
             [
              0.2222222222222222,
              "#7201a8"
             ],
             [
              0.3333333333333333,
              "#9c179e"
             ],
             [
              0.4444444444444444,
              "#bd3786"
             ],
             [
              0.5555555555555556,
              "#d8576b"
             ],
             [
              0.6666666666666666,
              "#ed7953"
             ],
             [
              0.7777777777777778,
              "#fb9f3a"
             ],
             [
              0.8888888888888888,
              "#fdca26"
             ],
             [
              1,
              "#f0f921"
             ]
            ],
            "type": "heatmap"
           }
          ],
          "heatmapgl": [
           {
            "colorbar": {
             "outlinewidth": 0,
             "ticks": ""
            },
            "colorscale": [
             [
              0,
              "#0d0887"
             ],
             [
              0.1111111111111111,
              "#46039f"
             ],
             [
              0.2222222222222222,
              "#7201a8"
             ],
             [
              0.3333333333333333,
              "#9c179e"
             ],
             [
              0.4444444444444444,
              "#bd3786"
             ],
             [
              0.5555555555555556,
              "#d8576b"
             ],
             [
              0.6666666666666666,
              "#ed7953"
             ],
             [
              0.7777777777777778,
              "#fb9f3a"
             ],
             [
              0.8888888888888888,
              "#fdca26"
             ],
             [
              1,
              "#f0f921"
             ]
            ],
            "type": "heatmapgl"
           }
          ],
          "histogram": [
           {
            "marker": {
             "pattern": {
              "fillmode": "overlay",
              "size": 10,
              "solidity": 0.2
             }
            },
            "type": "histogram"
           }
          ],
          "histogram2d": [
           {
            "colorbar": {
             "outlinewidth": 0,
             "ticks": ""
            },
            "colorscale": [
             [
              0,
              "#0d0887"
             ],
             [
              0.1111111111111111,
              "#46039f"
             ],
             [
              0.2222222222222222,
              "#7201a8"
             ],
             [
              0.3333333333333333,
              "#9c179e"
             ],
             [
              0.4444444444444444,
              "#bd3786"
             ],
             [
              0.5555555555555556,
              "#d8576b"
             ],
             [
              0.6666666666666666,
              "#ed7953"
             ],
             [
              0.7777777777777778,
              "#fb9f3a"
             ],
             [
              0.8888888888888888,
              "#fdca26"
             ],
             [
              1,
              "#f0f921"
             ]
            ],
            "type": "histogram2d"
           }
          ],
          "histogram2dcontour": [
           {
            "colorbar": {
             "outlinewidth": 0,
             "ticks": ""
            },
            "colorscale": [
             [
              0,
              "#0d0887"
             ],
             [
              0.1111111111111111,
              "#46039f"
             ],
             [
              0.2222222222222222,
              "#7201a8"
             ],
             [
              0.3333333333333333,
              "#9c179e"
             ],
             [
              0.4444444444444444,
              "#bd3786"
             ],
             [
              0.5555555555555556,
              "#d8576b"
             ],
             [
              0.6666666666666666,
              "#ed7953"
             ],
             [
              0.7777777777777778,
              "#fb9f3a"
             ],
             [
              0.8888888888888888,
              "#fdca26"
             ],
             [
              1,
              "#f0f921"
             ]
            ],
            "type": "histogram2dcontour"
           }
          ],
          "mesh3d": [
           {
            "colorbar": {
             "outlinewidth": 0,
             "ticks": ""
            },
            "type": "mesh3d"
           }
          ],
          "parcoords": [
           {
            "line": {
             "colorbar": {
              "outlinewidth": 0,
              "ticks": ""
             }
            },
            "type": "parcoords"
           }
          ],
          "pie": [
           {
            "automargin": true,
            "type": "pie"
           }
          ],
          "scatter": [
           {
            "fillpattern": {
             "fillmode": "overlay",
             "size": 10,
             "solidity": 0.2
            },
            "type": "scatter"
           }
          ],
          "scatter3d": [
           {
            "line": {
             "colorbar": {
              "outlinewidth": 0,
              "ticks": ""
             }
            },
            "marker": {
             "colorbar": {
              "outlinewidth": 0,
              "ticks": ""
             }
            },
            "type": "scatter3d"
           }
          ],
          "scattercarpet": [
           {
            "marker": {
             "colorbar": {
              "outlinewidth": 0,
              "ticks": ""
             }
            },
            "type": "scattercarpet"
           }
          ],
          "scattergeo": [
           {
            "marker": {
             "colorbar": {
              "outlinewidth": 0,
              "ticks": ""
             }
            },
            "type": "scattergeo"
           }
          ],
          "scattergl": [
           {
            "marker": {
             "colorbar": {
              "outlinewidth": 0,
              "ticks": ""
             }
            },
            "type": "scattergl"
           }
          ],
          "scattermapbox": [
           {
            "marker": {
             "colorbar": {
              "outlinewidth": 0,
              "ticks": ""
             }
            },
            "type": "scattermapbox"
           }
          ],
          "scatterpolar": [
           {
            "marker": {
             "colorbar": {
              "outlinewidth": 0,
              "ticks": ""
             }
            },
            "type": "scatterpolar"
           }
          ],
          "scatterpolargl": [
           {
            "marker": {
             "colorbar": {
              "outlinewidth": 0,
              "ticks": ""
             }
            },
            "type": "scatterpolargl"
           }
          ],
          "scatterternary": [
           {
            "marker": {
             "colorbar": {
              "outlinewidth": 0,
              "ticks": ""
             }
            },
            "type": "scatterternary"
           }
          ],
          "surface": [
           {
            "colorbar": {
             "outlinewidth": 0,
             "ticks": ""
            },
            "colorscale": [
             [
              0,
              "#0d0887"
             ],
             [
              0.1111111111111111,
              "#46039f"
             ],
             [
              0.2222222222222222,
              "#7201a8"
             ],
             [
              0.3333333333333333,
              "#9c179e"
             ],
             [
              0.4444444444444444,
              "#bd3786"
             ],
             [
              0.5555555555555556,
              "#d8576b"
             ],
             [
              0.6666666666666666,
              "#ed7953"
             ],
             [
              0.7777777777777778,
              "#fb9f3a"
             ],
             [
              0.8888888888888888,
              "#fdca26"
             ],
             [
              1,
              "#f0f921"
             ]
            ],
            "type": "surface"
           }
          ],
          "table": [
           {
            "cells": {
             "fill": {
              "color": "#EBF0F8"
             },
             "line": {
              "color": "white"
             }
            },
            "header": {
             "fill": {
              "color": "#C8D4E3"
             },
             "line": {
              "color": "white"
             }
            },
            "type": "table"
           }
          ]
         },
         "layout": {
          "annotationdefaults": {
           "arrowcolor": "#2a3f5f",
           "arrowhead": 0,
           "arrowwidth": 1
          },
          "autotypenumbers": "strict",
          "coloraxis": {
           "colorbar": {
            "outlinewidth": 0,
            "ticks": ""
           }
          },
          "colorscale": {
           "diverging": [
            [
             0,
             "#8e0152"
            ],
            [
             0.1,
             "#c51b7d"
            ],
            [
             0.2,
             "#de77ae"
            ],
            [
             0.3,
             "#f1b6da"
            ],
            [
             0.4,
             "#fde0ef"
            ],
            [
             0.5,
             "#f7f7f7"
            ],
            [
             0.6,
             "#e6f5d0"
            ],
            [
             0.7,
             "#b8e186"
            ],
            [
             0.8,
             "#7fbc41"
            ],
            [
             0.9,
             "#4d9221"
            ],
            [
             1,
             "#276419"
            ]
           ],
           "sequential": [
            [
             0,
             "#0d0887"
            ],
            [
             0.1111111111111111,
             "#46039f"
            ],
            [
             0.2222222222222222,
             "#7201a8"
            ],
            [
             0.3333333333333333,
             "#9c179e"
            ],
            [
             0.4444444444444444,
             "#bd3786"
            ],
            [
             0.5555555555555556,
             "#d8576b"
            ],
            [
             0.6666666666666666,
             "#ed7953"
            ],
            [
             0.7777777777777778,
             "#fb9f3a"
            ],
            [
             0.8888888888888888,
             "#fdca26"
            ],
            [
             1,
             "#f0f921"
            ]
           ],
           "sequentialminus": [
            [
             0,
             "#0d0887"
            ],
            [
             0.1111111111111111,
             "#46039f"
            ],
            [
             0.2222222222222222,
             "#7201a8"
            ],
            [
             0.3333333333333333,
             "#9c179e"
            ],
            [
             0.4444444444444444,
             "#bd3786"
            ],
            [
             0.5555555555555556,
             "#d8576b"
            ],
            [
             0.6666666666666666,
             "#ed7953"
            ],
            [
             0.7777777777777778,
             "#fb9f3a"
            ],
            [
             0.8888888888888888,
             "#fdca26"
            ],
            [
             1,
             "#f0f921"
            ]
           ]
          },
          "colorway": [
           "#636efa",
           "#EF553B",
           "#00cc96",
           "#ab63fa",
           "#FFA15A",
           "#19d3f3",
           "#FF6692",
           "#B6E880",
           "#FF97FF",
           "#FECB52"
          ],
          "font": {
           "color": "#2a3f5f"
          },
          "geo": {
           "bgcolor": "white",
           "lakecolor": "white",
           "landcolor": "#E5ECF6",
           "showlakes": true,
           "showland": true,
           "subunitcolor": "white"
          },
          "hoverlabel": {
           "align": "left"
          },
          "hovermode": "closest",
          "mapbox": {
           "style": "light"
          },
          "paper_bgcolor": "white",
          "plot_bgcolor": "#E5ECF6",
          "polar": {
           "angularaxis": {
            "gridcolor": "white",
            "linecolor": "white",
            "ticks": ""
           },
           "bgcolor": "#E5ECF6",
           "radialaxis": {
            "gridcolor": "white",
            "linecolor": "white",
            "ticks": ""
           }
          },
          "scene": {
           "xaxis": {
            "backgroundcolor": "#E5ECF6",
            "gridcolor": "white",
            "gridwidth": 2,
            "linecolor": "white",
            "showbackground": true,
            "ticks": "",
            "zerolinecolor": "white"
           },
           "yaxis": {
            "backgroundcolor": "#E5ECF6",
            "gridcolor": "white",
            "gridwidth": 2,
            "linecolor": "white",
            "showbackground": true,
            "ticks": "",
            "zerolinecolor": "white"
           },
           "zaxis": {
            "backgroundcolor": "#E5ECF6",
            "gridcolor": "white",
            "gridwidth": 2,
            "linecolor": "white",
            "showbackground": true,
            "ticks": "",
            "zerolinecolor": "white"
           }
          },
          "shapedefaults": {
           "line": {
            "color": "#2a3f5f"
           }
          },
          "ternary": {
           "aaxis": {
            "gridcolor": "white",
            "linecolor": "white",
            "ticks": ""
           },
           "baxis": {
            "gridcolor": "white",
            "linecolor": "white",
            "ticks": ""
           },
           "bgcolor": "#E5ECF6",
           "caxis": {
            "gridcolor": "white",
            "linecolor": "white",
            "ticks": ""
           }
          },
          "title": {
           "x": 0.05
          },
          "xaxis": {
           "automargin": true,
           "gridcolor": "white",
           "linecolor": "white",
           "ticks": "",
           "title": {
            "standoff": 15
           },
           "zerolinecolor": "white",
           "zerolinewidth": 2
          },
          "yaxis": {
           "automargin": true,
           "gridcolor": "white",
           "linecolor": "white",
           "ticks": "",
           "title": {
            "standoff": 15
           },
           "zerolinecolor": "white",
           "zerolinewidth": 2
          }
         }
        },
        "title": {
         "text": "Data Quality: Column Pair Trends (Average Score=0.84)"
        },
        "width": 900,
        "xaxis": {
         "anchor": "y",
         "domain": [
          0.26,
          0.74
         ],
         "tickangle": 45
        },
        "xaxis2": {
         "anchor": "y2",
         "domain": [
          0,
          0.45
         ],
         "tickangle": 45
        },
        "xaxis3": {
         "anchor": "y3",
         "domain": [
          0.55,
          1
         ],
         "matches": "x2",
         "tickangle": 45
        },
        "yaxis": {
         "anchor": "x",
         "autorange": "reversed",
         "domain": [
          0.625,
          1
         ]
        },
        "yaxis2": {
         "anchor": "x2",
         "autorange": "reversed",
         "domain": [
          0,
          0.375
         ]
        },
        "yaxis3": {
         "anchor": "x3",
         "autorange": "reversed",
         "domain": [
          0,
          0.375
         ],
         "matches": "y2",
         "visible": false
        }
       }
      }
     },
     "metadata": {},
     "output_type": "display_data"
    }
   ],
   "source": [
    "quality_report.get_visualization('Column Pair Trends')"
   ]
  },
  {
   "cell_type": "code",
   "execution_count": 9,
   "metadata": {},
   "outputs": [
    {
     "data": {
      "application/vnd.plotly.v1+json": {
       "config": {
        "plotlyServerURL": "https://plot.ly"
       },
       "data": [
        {
         "fill": "tozeroy",
         "hovertemplate": "<b>Real</b><br>Value: %{x}<br>Frequency: %{y}<extra></extra>",
         "legendgroup": "Real",
         "marker": {
          "color": "#000036"
         },
         "mode": "lines",
         "name": "Real",
         "showlegend": true,
         "type": "scatter",
         "x": [
          250,
          286.348,
          322.696,
          359.044,
          395.392,
          431.74,
          468.08799999999997,
          504.43600000000004,
          540.784,
          577.1320000000001,
          613.48,
          649.828,
          686.1759999999999,
          722.524,
          758.8720000000001,
          795.22,
          831.568,
          867.916,
          904.264,
          940.612,
          976.96,
          1013.308,
          1049.656,
          1086.004,
          1122.3519999999999,
          1158.7,
          1195.048,
          1231.396,
          1267.7440000000001,
          1304.092,
          1340.44,
          1376.788,
          1413.136,
          1449.484,
          1485.832,
          1522.18,
          1558.528,
          1594.876,
          1631.224,
          1667.572,
          1703.92,
          1740.268,
          1776.616,
          1812.964,
          1849.312,
          1885.66,
          1922.008,
          1958.356,
          1994.704,
          2031.052,
          2067.4,
          2103.748,
          2140.096,
          2176.444,
          2212.792,
          2249.1400000000003,
          2285.4880000000003,
          2321.836,
          2358.184,
          2394.532,
          2430.88,
          2467.228,
          2503.576,
          2539.924,
          2576.272,
          2612.62,
          2648.968,
          2685.316,
          2721.664,
          2758.012,
          2794.36,
          2830.708,
          2867.056,
          2903.404,
          2939.752,
          2976.1,
          3012.448,
          3048.796,
          3085.144,
          3121.492,
          3157.84,
          3194.188,
          3230.536,
          3266.884,
          3303.232,
          3339.58,
          3375.928,
          3412.276,
          3448.624,
          3484.972,
          3521.32,
          3557.668,
          3594.016,
          3630.364,
          3666.712,
          3703.06,
          3739.408,
          3775.756,
          3812.104,
          3848.452,
          3884.8,
          3921.148,
          3957.496,
          3993.844,
          4030.192,
          4066.54,
          4102.888,
          4139.236,
          4175.584,
          4211.932,
          4248.280000000001,
          4284.628000000001,
          4320.976000000001,
          4357.324,
          4393.672,
          4430.02,
          4466.368,
          4502.716,
          4539.064,
          4575.412,
          4611.76,
          4648.108,
          4684.456,
          4720.804,
          4757.152,
          4793.5,
          4829.848,
          4866.196,
          4902.544,
          4938.892,
          4975.24,
          5011.588,
          5047.936,
          5084.284,
          5120.632,
          5156.98,
          5193.328,
          5229.676,
          5266.024,
          5302.372,
          5338.72,
          5375.068,
          5411.416,
          5447.764,
          5484.112,
          5520.46,
          5556.808,
          5593.156,
          5629.504,
          5665.852,
          5702.2,
          5738.548,
          5774.896,
          5811.244,
          5847.592,
          5883.94,
          5920.288,
          5956.636,
          5992.984,
          6029.332,
          6065.68,
          6102.028,
          6138.376,
          6174.724,
          6211.072,
          6247.42,
          6283.768,
          6320.116,
          6356.464,
          6392.812,
          6429.16,
          6465.508,
          6501.856,
          6538.204,
          6574.552,
          6610.9,
          6647.248,
          6683.596,
          6719.944,
          6756.292,
          6792.64,
          6828.988,
          6865.336,
          6901.684,
          6938.032,
          6974.38,
          7010.728,
          7047.076,
          7083.424,
          7119.772,
          7156.12,
          7192.468,
          7228.816,
          7265.164,
          7301.512,
          7337.86,
          7374.208,
          7410.556,
          7446.904,
          7483.252,
          7519.6,
          7555.948,
          7592.296,
          7628.644,
          7664.992,
          7701.34,
          7737.688,
          7774.036,
          7810.384,
          7846.732,
          7883.08,
          7919.428,
          7955.776,
          7992.124,
          8028.472,
          8064.82,
          8101.168,
          8137.516,
          8173.864,
          8210.212,
          8246.560000000001,
          8282.908,
          8319.256000000001,
          8355.604,
          8391.952000000001,
          8428.3,
          8464.648,
          8500.996,
          8537.344,
          8573.692,
          8610.04,
          8646.388,
          8682.736,
          8719.084,
          8755.432,
          8791.78,
          8828.128,
          8864.476,
          8900.824,
          8937.172,
          8973.52,
          9009.868,
          9046.216,
          9082.564,
          9118.912,
          9155.26,
          9191.608,
          9227.956,
          9264.304,
          9300.652,
          9337,
          9373.348,
          9409.696,
          9446.044,
          9482.392,
          9518.74,
          9555.088,
          9591.436,
          9627.784,
          9664.132,
          9700.48,
          9736.828,
          9773.176,
          9809.524,
          9845.872,
          9882.22,
          9918.568,
          9954.916,
          9991.264,
          10027.612,
          10063.96,
          10100.308,
          10136.656,
          10173.004,
          10209.352,
          10245.7,
          10282.048,
          10318.396,
          10354.744,
          10391.092,
          10427.44,
          10463.788,
          10500.136,
          10536.484,
          10572.832,
          10609.18,
          10645.528,
          10681.876,
          10718.224,
          10754.572,
          10790.92,
          10827.268,
          10863.616,
          10899.964,
          10936.312,
          10972.66,
          11009.008,
          11045.356,
          11081.704,
          11118.052,
          11154.4,
          11190.748,
          11227.096,
          11263.444,
          11299.792,
          11336.14,
          11372.488,
          11408.836,
          11445.184,
          11481.532,
          11517.88,
          11554.228,
          11590.576,
          11626.924,
          11663.272,
          11699.62,
          11735.968,
          11772.316,
          11808.664,
          11845.012,
          11881.36,
          11917.708,
          11954.056,
          11990.404,
          12026.752,
          12063.1,
          12099.448,
          12135.796,
          12172.144,
          12208.492,
          12244.84,
          12281.188,
          12317.536,
          12353.884,
          12390.232,
          12426.58,
          12462.928,
          12499.276,
          12535.624,
          12571.972,
          12608.32,
          12644.668,
          12681.016,
          12717.364,
          12753.712,
          12790.06,
          12826.408,
          12862.756,
          12899.104,
          12935.452,
          12971.8,
          13008.148,
          13044.496,
          13080.844,
          13117.192,
          13153.54,
          13189.888,
          13226.236,
          13262.584,
          13298.932,
          13335.28,
          13371.628,
          13407.976,
          13444.324,
          13480.672,
          13517.02,
          13553.368,
          13589.716,
          13626.064,
          13662.412,
          13698.76,
          13735.108,
          13771.456,
          13807.804,
          13844.152,
          13880.5,
          13916.848,
          13953.196,
          13989.544,
          14025.892,
          14062.24,
          14098.588,
          14134.936,
          14171.284,
          14207.632,
          14243.98,
          14280.328,
          14316.676,
          14353.024,
          14389.372,
          14425.72,
          14462.068,
          14498.416,
          14534.764,
          14571.112,
          14607.46,
          14643.808,
          14680.156,
          14716.504,
          14752.852,
          14789.2,
          14825.548,
          14861.896,
          14898.244,
          14934.592,
          14970.94,
          15007.288,
          15043.636,
          15079.984,
          15116.332,
          15152.68,
          15189.028,
          15225.376,
          15261.724,
          15298.072,
          15334.42,
          15370.768,
          15407.116,
          15443.464,
          15479.812,
          15516.16,
          15552.508,
          15588.856,
          15625.204,
          15661.552,
          15697.9,
          15734.248,
          15770.596,
          15806.944,
          15843.292,
          15879.64,
          15915.988,
          15952.336,
          15988.684,
          16025.032,
          16061.38,
          16097.728,
          16134.076,
          16170.424,
          16206.772,
          16243.12,
          16279.468,
          16315.816,
          16352.164,
          16388.512000000002,
          16424.86,
          16461.208,
          16497.556,
          16533.904000000002,
          16570.252,
          16606.6,
          16642.948,
          16679.296,
          16715.644,
          16751.992,
          16788.34,
          16824.688,
          16861.036,
          16897.384,
          16933.732,
          16970.08,
          17006.428,
          17042.776,
          17079.124,
          17115.472,
          17151.82,
          17188.168,
          17224.516,
          17260.864,
          17297.212,
          17333.56,
          17369.908,
          17406.256,
          17442.604,
          17478.952,
          17515.3,
          17551.648,
          17587.996,
          17624.344,
          17660.692,
          17697.04,
          17733.388,
          17769.736,
          17806.084,
          17842.432,
          17878.78,
          17915.128,
          17951.476,
          17987.824,
          18024.172,
          18060.52,
          18096.868,
          18133.216,
          18169.564,
          18205.912,
          18242.26,
          18278.608,
          18314.956,
          18351.304,
          18387.652
         ],
         "xaxis": "x",
         "y": [
          0.00009868521300757144,
          0.0001041770797170465,
          0.0001097777877010322,
          0.0001154739409939727,
          0.00012125114174518759,
          0.00012709405756968577,
          0.00013298650009545743,
          0.00013891151424608755,
          0.00014485147763576898,
          0.00015078820929433502,
          0.00015670308678560098,
          0.0001625771706360895,
          0.00016839133485599351,
          0.00017412640221291416,
          0.00017976328281426367,
          0.00018528311446879922,
          0.00019066740323387874,
          0.00019589816251466857,
          0.00020095804906627426,
          0.00020583049426075526,
          0.00021049982901882834,
          0.00021495140087085396,
          0.0002191716817029656,
          0.00022314836486082008,
          0.00022687045042384398,
          0.00023032831762470472,
          0.00023351378356939936,
          0.00023642014760949444,
          0.0002390422209261387,
          0.00024137634110141026,
          0.00024342037167226897,
          0.0002451736868813989,
          0.0002466371420532583,
          0.0002478130302283884,
          0.00024870502588034105,
          0.00024931811671377905,
          0.00024965852469589566,
          0.0002497336176035067,
          0.0002495518124726311,
          0.00024912247241444036,
          0.0002484557983101366,
          0.0002475627169172989,
          0.0002464547669119007,
          0.00024514398435467256,
          0.00024364278900937324,
          0.00024196387285621316,
          0.0002401200920388561,
          0.00023812436336132417,
          0.00023598956631522828,
          0.00023372845147176215,
          0.00023135355592058464,
          0.00022887712628286985,
          0.00022631104967207584,
          0.000223666792826755,
          0.00022095534949815663,
          0.00021818719604414403,
          0.0002153722550623281,
          0.00021251986679112847,
          0.00020963876791892303,
          0.0002067370773693136,
          0.00020382228857499974,
          0.00020090126771358467,
          0.00019798025735508006,
          0.00019506488496181504,
          0.0001921601756854357,
          0.00018927056892096468,
          0.00018639993810258952,
          0.00018355161325787594,
          0.0001807284058744654,
          0.00017793263567390612,
          0.0001751661589292262,
          0.0001724303980043608,
          0.0001697263718330868,
          0.00016705472709137797,
          0.0001644157698490502,
          0.00016180949751353559,
          0.00015923563090013877,
          0.00015669364627912027,
          0.0001541828072605568,
          0.00015170219638355214,
          0.00014925074627767155,
          0.00014682727026223418,
          0.00014443049224426892,
          0.00014205907576955986,
          0.00013971165207430657,
          0.000137386846978591,
          0.00013508330645802417,
          0.00013279972072757778,
          0.0001305348466724045,
          0.00012828752846504154,
          0.00012605671621716643,
          0.00012384148252724241,
          0.00012164103680297774,
          0.00011945473725930265,
          0.00011728210051817722,
          0.0001151228087654175,
          0.00011297671445114268,
          0.00011084384255358783,
          0.00010872439045997171,
          0.0001066187255518707,
          0.00010452738061517766,
          0.00010245104722521607,
          0.00010039056728506248,
          0.00009834692291878947,
          0.00009632122494046521,
          0.00009431470013382034,
          0.00009232867758612874,
          0.00009036457432283517,
          0.00008842388048680122,
          0.00008650814429788517,
          0.00008461895701526389,
          0.0000827579381069674,
          0.00008092672080913896,
          0.00007912693823238077,
          0.00007736021014499371,
          0.00007562813053394619,
          0.00007393225601492452,
          0.00007227409513379447,
          0.00007065509857414188,
          0.00006907665026010999,
          0.00006754005932126088,
          0.00006604655286729491,
          0.00006459726950565857,
          0.00006319325352470553,
          0.0000618354496593281,
          0.00006052469835486134,
          0.000059261731448449756,
          0.00005804716819463017,
          0.000056881511573212794,
          0.00005576514483203875,
          0.000054698328234199054,
          0.00005368119599806331,
          0.00005271375343816341,
          0.00005179587433479667,
          0.000050927298579299376,
          0.000050107630159505204,
          0.00004933633556520063,
          0.000048612742705736364,
          0.0000479360404408107,
          0.00004730527883033966,
          0.00004671937020997806,
          0.000046177091195074186,
          0.00004567708570761346,
          0.000045217869108167024,
          0.000044797833498279305,
          0.0000444152542385059,
          0.000044068297704001,
          0.000043755030273767546,
          0.000043473428522167094,
          0.000043221390552817874,
          0.00004299674838642663,
          0.00004279728128624755,
          0.000042620729878575596,
          0.00004246481090176712,
          0.00004232723239648183,
          0.00004220570913282281,
          0.000042097978057371285,
          0.000042001813535232114,
          0.00004191504215942493,
          0.00004183555690246118,
          0.00004176133039276732,
          0.000041690427111633634,
          0.0000416210143243276,
          0.00004155137158151533,
          0.000041479898653660974,
          0.000041405121790994025,
          0.000041325698234216344,
          0.00004124041893556759,
          0.00004114820948533487,
          0.0000410481292744873,
          0.000040939368958976946,
          0.000040821246324496324,
          0.0000406932006813199,
          0.00004055478594651941,
          0.00004040566259468118,
          0.00004024558867770343,
          0.00004007441012887332,
          0.000039892050575909106,
          0.00003969850089183133,
          0.00003949380871135275,
          0.00003927806813406975,
          0.00003905140982432097,
          0.00003881399170152471,
          0.000038565990394586554,
          0.00003830759361015796,
          0.00003803899353778781,
          0.000037760381386047016,
          0.000037471943113296674,
          0.000037173856385680575,
          0.00003686628876393865,
          0.000036549397090513234,
          0.000036223328019867625,
          0.00003588821960862323,
          0.00003554420385860592,
          0.000035191410085699755,
          0.00003482996897089233,
          0.00003446001713738515,
          0.000034081702089290034,
          0.00003369518734331749,
          0.000033300657584942346,
          0.000032898323684672926,
          0.00003248842741799678,
          0.00003207124574403123,
          0.00003164709451245107,
          0.00003121633148546464,
          0.00003077935858094305,
          0.000030336623263759368,
          0.000029888619034403425,
          0.000029435884986464074,
          0.000028979004427061987,
          0.000028518602576271717,
          0.000028055343382498866,
          0.000027589925510249723,
          0.00002712307757436079,
          0.000026655552710221634,
          0.00002618812258256318,
          0.000025721570945804723,
          0.00002525668687662047,
          0.000024794257804243655,
          0.000024335062466066797,
          0.000023879863915383716,
          0.000023429402704764774,
          0.000022984390362728553,
          0.0000225455032732767,
          0.00002211337705774194,
          0.00002168860154654205,
          0.000021271716415132926,
          0.000020863207544033656,
          0.00002046350414758603,
          0.000020072976700445805,
          0.000019691935675010103,
          0.000019320631087399246,
          0.00001895925283453191,
          0.000018607931790560732,
          0.00001826674161773424,
          0.000017935701234862054,
          0.000017614777876193263,
          0.00001730389066484256,
          0.00001700291461805292,
          0.000016711684996658547,
          0.000016430001908162664,
          0.000016157635071880295,
          0.000015894328655582994,
          0.000015639806095949716,
          0.000015393774819757894,
          0.00001515593078899462,
          0.000014925962800741169,
          0.00001470355648157445,
          0.00001448839792609523,
          0.000014280176939779106,
          0.000014078589857384048,
          0.000013883341919358104,
          0.000013694149199803675,
          0.000013510740090297358,
          0.00001333285635398957,
          0.000013160253773679916,
          0.000012992702425779702,
          0.000012829986619056964,
          0.000012671904542674921,
          0.000012518267672181867,
          0.000012368899984732778,
          0.000012223637035902984,
          0.00001208232495001992,
          0.000011944819374054579,
          0.000011810984441885927,
          0.000011680691791315063,
          0.000011553819670730149,
          0.00001143025216599866,
          0.00001130987857120035,
          0.000011192592919433227,
          0.000011078293682352991,
          0.00001096688363956854,
          0.000010858269911730636,
          0.000010752364144321763,
          0.000010649082822967893,
          0.000010548347695710929,
          0.000010450086273236508,
          0.000010354232374654064,
          0.000010260726684143676,
          0.000010169517282660493,
          0.000010080560118926487,
          0.000009993819385117378,
          0.000009909267764912727,
          0.000009826886524836475,
          0.000009746665423964209,
          0.000009668602421983422,
          0.00000959270317111696,
          0.000009518980283399841,
          0.00000944745237106756,
          0.000009378142864202226,
          0.000009311078616120673,
          0.000009246288313115928,
          0.000009183800710924837,
          0.000009123642725552214,
          0.00000906583741071206,
          0.000009010401858044752,
          0.000008957345059352962,
          0.00000890666577230771,
          0.000008858350432371496,
          0.000008812371154053566,
          0.000008768683864061487,
          0.000008727226607471834,
          0.000008687918065761715,
          0.000008650656322487364,
          0.000008615317908649126,
          0.000008581757155437583,
          0.000008549805877215626,
          0.000008519273402366279,
          0.000008489946964136623,
          0.00000846159245794526,
          0.00000843395556590336,
          0.000008406763243628098,
          0.000008379725558896302,
          0.00000835253786637977,
          0.000008324883297693357,
          0.000008296435541334011,
          0.000008266861882841023,
          0.000008235826471701772,
          0.000008202993778187085,
          0.000008168032200442256,
          0.000008130617779788594,
          0.000008090437980306686,
          0.000008047195487370098,
          0.000008000611978868199,
          0.000007950431822389864,
          0.00000789642565162572,
          0.000007838393775677721,
          0.000007776169375836144,
          0.000007709621445693706,
          0.000007638657432215854,
          0.000007563225537579921,
          0.000007483316644241124,
          0.000007398965828787391,
          0.000007310253433715061,
          0.0000072173056702985765,
          0.000007120294730238157,
          0.000007019438388744616,
          0.000006914999087142591,
          0.000006807282488917164,
          0.000006696635509354376,
          0.0000065834438254815674,
          0.0000064681288798315545,
          0.000006351144398554971,
          0.0000062329724514926805,
          0.000006114119088887012,
          0.00000599510959633968,
          0.0000058764834162875935,
          0.000005758788790533478,
          0.0000056425771841021575,
          0.000005528397555760382,
          0.000005416790544812239,
          0.000005308282647141358,
          0.000005203380455810808,
          0.000005102565042759579,
          0.00000500628655818017,
          0.000004914959122975884,
          0.000004828956087253534,
          0.000004748605724108149,
          0.000004674187423027413,
          0.000004605928441138743,
          0.000004544001263319826,
          0.0000044885216139975395,
          0.000004439547154396197,
          0.000004397076889209834,
          0.000004361051296326633,
          0.00000433135318250232,
          0.000004307809256948543,
          0.000004290192403862306,
          0.000004278224624166026,
          0.000004271580606344861,
          0.000004269891876442481,
          0.000004272751468183533,
          0.000004279719045992235,
          0.000004290326406518283,
          0.000004304083278291975,
          0.000004320483334417766,
          0.0000043390103298661615,
          0.000004359144273000697,
          0.000004380367540519032,
          0.000004402170846010282,
          0.000004424058974824378,
          0.000004445556201880707,
          0.000004466211314354201,
          0.000004485602167788328,
          0.000004503339711993382,
          0.000004519071431973351,
          0.0000045324841589444855,
          0.000004543306217105204,
          0.0000045513088830178555,
          0.000004556307146082293,
          0.00000455815977042409,
          0.000004556768670383724,
          0.000004552077623470384,
          0.000004544070355927526,
          0.00000453276804674147,
          0.0000045182263058104515,
          0.00000450053169089022,
          0.0000044797978356684705,
          0.0000044561612677364265,
          0.000004429777000185437,
          0.000004400813983948412,
          0.000004369450509747078,
          0.000004335869648544418,
          0.000004300254817718622,
          0.000004262785556786689,
          0.0000042236335914651914,
          0.000004182959258250495,
          0.00000414090835365571,
          0.000004097609462913553,
          0.000004053171812532499,
          0.0000040076836797939015,
          0.000003961211380339771,
          0.0000039137988426819856,
          0.000003865467766032773,
          0.000003816218345589264,
          0.000003766030537574465,
          0.0000037148658252098886,
          0.0000036626694366213336,
          0.000003609372956688182,
          0.0000035548972672391928,
          0.0000034991557439414034,
          0.0000034420576338531786,
          0.000003383511535004722,
          0.0000033234288985732344,
          0.000003261727475232281,
          0.0000031983346300282625,
          0.0000031331904545786406,
          0.0000030662506113629713,
          0.0000029974888522176467,
          0.0000029268991616442458,
          0.0000028544974849689283,
          0.000002780323011495697,
          0.000002704438993315835,
          0.00000262693309110101,
          0.000002547917248751655,
          0.0000024675271089388528,
          0.0000023859209911271578,
          0.0000023032784623805093,
          0.0000022197985389459777,
          0.0000021356975631249203,
          0.0000020512068051602162,
          0.0000019665698437118447,
          0.000001882039780921311,
          0.0000017978763490782458,
          0.000001714342965537904,
          0.000001631703790869468,
          0.0000015502208423482985,
          0.000001470151210973882,
          0.0000013917444253549784,
          0.0000013152400002287726,
          0.0000012408652012559638,
          0.0000011688330512499932,
          0.0000010993405963456937,
          0.000001032567443976222,
          9.686745780808788e-7,
          9.07803450869093e-7,
          8.500753448578109e-7,
          7.955909938976762e-7,
          7.444304476024121e-7,
          6.96653160061798e-7,
          6.52298280994696e-7,
          6.113851255986363e-7,
          5.739137982682083e-7,
          5.398659450521022e-7,
          5.092056101446694e-7,
          4.818801727904279e-7,
          4.578213426311673e-7,
          4.369461936473443e-7,
          4.191582193306697e-7,
          4.043483944627663e-7,
          3.9239623175278526e-7,
          3.831708244962404e-7,
          3.765318692537526e-7,
          3.723306652173736e-7,
          3.704110893492682e-7,
          3.706105484721448e-7,
          3.727609112063512e-7,
          3.7668942394452156e-7,
          3.8221961590650485e-7,
          3.891721987169147e-7,
          3.9736596590274547e-7,
          4.066186972417983e-7,
          4.167480720406769e-7,
          4.27572594232416e-7,
          4.389125307172648e-7,
          4.505908626924275e-7,
          4.62434247900357e-7,
          4.742739898459325e-7,
          4.859470081671709e-7,
          4.972968025664335e-7,
          5.081744010902275e-7,
          5.184392821497224e-7,
          5.27960258557394e-7,
          5.366163110637963e-7,
          5.442973584477889e-7,
          5.50904951166327e-7,
          5.563528759168683e-7,
          5.605676592038846e-7,
          5.634889591161381e-7,
          5.650698359862724e-7
         ],
         "yaxis": "y"
        },
        {
         "fill": "tozeroy",
         "hovertemplate": "<b>Synthetic</b><br>Value: %{x}<br>Frequency: %{y}<extra></extra>",
         "legendgroup": "Synthetic",
         "marker": {
          "color": "#01E0C9"
         },
         "mode": "lines",
         "name": "Synthetic",
         "showlegend": true,
         "type": "scatter",
         "x": [
          250,
          275.75,
          301.5,
          327.25,
          353,
          378.75,
          404.5,
          430.25,
          456,
          481.75,
          507.5,
          533.25,
          559,
          584.75,
          610.5,
          636.25,
          662,
          687.75,
          713.5,
          739.25,
          765,
          790.75,
          816.5,
          842.25,
          868,
          893.75,
          919.5,
          945.25,
          971,
          996.75,
          1022.5,
          1048.25,
          1074,
          1099.75,
          1125.5,
          1151.25,
          1177,
          1202.75,
          1228.5,
          1254.25,
          1280,
          1305.75,
          1331.5,
          1357.25,
          1383,
          1408.75,
          1434.5,
          1460.25,
          1486,
          1511.75,
          1537.5,
          1563.25,
          1589,
          1614.75,
          1640.5,
          1666.25,
          1692,
          1717.75,
          1743.5,
          1769.25,
          1795,
          1820.75,
          1846.5,
          1872.25,
          1898,
          1923.75,
          1949.5,
          1975.25,
          2001,
          2026.75,
          2052.5,
          2078.25,
          2104,
          2129.75,
          2155.5,
          2181.25,
          2207,
          2232.75,
          2258.5,
          2284.25,
          2310,
          2335.75,
          2361.5,
          2387.25,
          2413,
          2438.75,
          2464.5,
          2490.25,
          2516,
          2541.75,
          2567.5,
          2593.25,
          2619,
          2644.75,
          2670.5,
          2696.25,
          2722,
          2747.75,
          2773.5,
          2799.25,
          2825,
          2850.75,
          2876.5,
          2902.25,
          2928,
          2953.75,
          2979.5,
          3005.25,
          3031,
          3056.75,
          3082.5,
          3108.25,
          3134,
          3159.75,
          3185.5,
          3211.25,
          3237,
          3262.75,
          3288.5,
          3314.25,
          3340,
          3365.75,
          3391.5,
          3417.25,
          3443,
          3468.75,
          3494.5,
          3520.25,
          3546,
          3571.75,
          3597.5,
          3623.25,
          3649,
          3674.75,
          3700.5,
          3726.25,
          3752,
          3777.75,
          3803.5,
          3829.25,
          3855,
          3880.75,
          3906.5,
          3932.25,
          3958,
          3983.75,
          4009.5,
          4035.25,
          4061,
          4086.75,
          4112.5,
          4138.25,
          4164,
          4189.75,
          4215.5,
          4241.25,
          4267,
          4292.75,
          4318.5,
          4344.25,
          4370,
          4395.75,
          4421.5,
          4447.25,
          4473,
          4498.75,
          4524.5,
          4550.25,
          4576,
          4601.75,
          4627.5,
          4653.25,
          4679,
          4704.75,
          4730.5,
          4756.25,
          4782,
          4807.75,
          4833.5,
          4859.25,
          4885,
          4910.75,
          4936.5,
          4962.25,
          4988,
          5013.75,
          5039.5,
          5065.25,
          5091,
          5116.75,
          5142.5,
          5168.25,
          5194,
          5219.75,
          5245.5,
          5271.25,
          5297,
          5322.75,
          5348.5,
          5374.25,
          5400,
          5425.75,
          5451.5,
          5477.25,
          5503,
          5528.75,
          5554.5,
          5580.25,
          5606,
          5631.75,
          5657.5,
          5683.25,
          5709,
          5734.75,
          5760.5,
          5786.25,
          5812,
          5837.75,
          5863.5,
          5889.25,
          5915,
          5940.75,
          5966.5,
          5992.25,
          6018,
          6043.75,
          6069.5,
          6095.25,
          6121,
          6146.75,
          6172.5,
          6198.25,
          6224,
          6249.75,
          6275.5,
          6301.25,
          6327,
          6352.75,
          6378.5,
          6404.25,
          6430,
          6455.75,
          6481.5,
          6507.25,
          6533,
          6558.75,
          6584.5,
          6610.25,
          6636,
          6661.75,
          6687.5,
          6713.25,
          6739,
          6764.75,
          6790.5,
          6816.25,
          6842,
          6867.75,
          6893.5,
          6919.25,
          6945,
          6970.75,
          6996.5,
          7022.25,
          7048,
          7073.75,
          7099.5,
          7125.25,
          7151,
          7176.75,
          7202.5,
          7228.25,
          7254,
          7279.75,
          7305.5,
          7331.25,
          7357,
          7382.75,
          7408.5,
          7434.25,
          7460,
          7485.75,
          7511.5,
          7537.25,
          7563,
          7588.75,
          7614.5,
          7640.25,
          7666,
          7691.75,
          7717.5,
          7743.25,
          7769,
          7794.75,
          7820.5,
          7846.25,
          7872,
          7897.75,
          7923.5,
          7949.25,
          7975,
          8000.75,
          8026.5,
          8052.25,
          8078,
          8103.75,
          8129.5,
          8155.25,
          8181,
          8206.75,
          8232.5,
          8258.25,
          8284,
          8309.75,
          8335.5,
          8361.25,
          8387,
          8412.75,
          8438.5,
          8464.25,
          8490,
          8515.75,
          8541.5,
          8567.25,
          8593,
          8618.75,
          8644.5,
          8670.25,
          8696,
          8721.75,
          8747.5,
          8773.25,
          8799,
          8824.75,
          8850.5,
          8876.25,
          8902,
          8927.75,
          8953.5,
          8979.25,
          9005,
          9030.75,
          9056.5,
          9082.25,
          9108,
          9133.75,
          9159.5,
          9185.25,
          9211,
          9236.75,
          9262.5,
          9288.25,
          9314,
          9339.75,
          9365.5,
          9391.25,
          9417,
          9442.75,
          9468.5,
          9494.25,
          9520,
          9545.75,
          9571.5,
          9597.25,
          9623,
          9648.75,
          9674.5,
          9700.25,
          9726,
          9751.75,
          9777.5,
          9803.25,
          9829,
          9854.75,
          9880.5,
          9906.25,
          9932,
          9957.75,
          9983.5,
          10009.25,
          10035,
          10060.75,
          10086.5,
          10112.25,
          10138,
          10163.75,
          10189.5,
          10215.25,
          10241,
          10266.75,
          10292.5,
          10318.25,
          10344,
          10369.75,
          10395.5,
          10421.25,
          10447,
          10472.75,
          10498.5,
          10524.25,
          10550,
          10575.75,
          10601.5,
          10627.25,
          10653,
          10678.75,
          10704.5,
          10730.25,
          10756,
          10781.75,
          10807.5,
          10833.25,
          10859,
          10884.75,
          10910.5,
          10936.25,
          10962,
          10987.75,
          11013.5,
          11039.25,
          11065,
          11090.75,
          11116.5,
          11142.25,
          11168,
          11193.75,
          11219.5,
          11245.25,
          11271,
          11296.75,
          11322.5,
          11348.25,
          11374,
          11399.75,
          11425.5,
          11451.25,
          11477,
          11502.75,
          11528.5,
          11554.25,
          11580,
          11605.75,
          11631.5,
          11657.25,
          11683,
          11708.75,
          11734.5,
          11760.25,
          11786,
          11811.75,
          11837.5,
          11863.25,
          11889,
          11914.75,
          11940.5,
          11966.25,
          11992,
          12017.75,
          12043.5,
          12069.25,
          12095,
          12120.75,
          12146.5,
          12172.25,
          12198,
          12223.75,
          12249.5,
          12275.25,
          12301,
          12326.75,
          12352.5,
          12378.25,
          12404,
          12429.75,
          12455.5,
          12481.25,
          12507,
          12532.75,
          12558.5,
          12584.25,
          12610,
          12635.75,
          12661.5,
          12687.25,
          12713,
          12738.75,
          12764.5,
          12790.25,
          12816,
          12841.75,
          12867.5,
          12893.25,
          12919,
          12944.75,
          12970.5,
          12996.25,
          13022,
          13047.75,
          13073.5,
          13099.25
         ],
         "xaxis": "x",
         "y": [
          0.0001694931274904188,
          0.00017153013832561513,
          0.00017318326729475102,
          0.000174451995288296,
          0.00017533953044112348,
          0.00017585271622064336,
          0.00017600188284041133,
          0.00017580064569772854,
          0.00017526565565827672,
          0.00017441630699290114,
          0.000173274409585232,
          0.00017186383265476352,
          0.00017021012766426253,
          0.00016834013829642965,
          0.00016628160539329238,
          0.0001640627745587808,
          0.00016171201374390545,
          0.0001592574475832468,
          0.00015672661455371075,
          0.00015414615220915557,
          0.0001515415148361812,
          0.00014893672690799933,
          0.0001463541747163244,
          0.0001438144375647552,
          0.00014133615894094828,
          0.00013893595717337067,
          0.0001366283742448061,
          0.00013442586069694248,
          0.00013233879393236394,
          0.000130375526711708,
          0.0001285424622595106,
          0.00012684415213285631,
          0.0001252834128693871,
          0.00012386145740797246,
          0.00012257803735677835,
          0.00012143159235719675,
          0.00012041940304336885,
          0.00011953774441125656,
          0.00011878203677188007,
          0.00011814699185520747,
          0.00011762675203892758,
          0.0001172150210862229,
          0.00011690518517611479,
          0.00011669042338831792,
          0.00011656380715339775,
          0.00011651838849106045,
          0.0001165472771309571,
          0.00011664370683776359,
          0.00011680109144570596,
          0.0001170130712471696,
          0.00011727355047837366,
          0.0001175767267053682,
          0.00011791711294017632,
          0.00011828955331478465,
          0.00011868923311462637,
          0.00011911168392893701,
          0.00011955278461776641,
          0.0001200087587291736,
          0.00012047616893000105,
          0.00012095190894272548,
          0.00012143319341294935,
          0.00012191754606908527,
          0.00012240278647961974,
          0.0001228870156650187,
          0.00012336860078139087,
          0.00012384615906125247,
          0.00012431854117271338,
          0.00012478481414116723,
          0.00012524424396618755,
          0.00012569627805921257,
          0.0001261405276238282,
          0.0001265767500982519,
          0.00012700483177837817,
          0.00012742477073784925,
          0.00012783666015859425,
          0.00012824067218046657,
          0.00012863704237158846,
          0.0001290260549117542,
          0.00012940802856958647,
          0.00012978330354098503,
          0.0001301522292014185,
          0.00013051515280904468,
          0.00013087240917981384,
          0.00013122431134037665,
          0.0001315711421503926,
          0.00013191314687354568,
          0.00013225052666631022,
          0.00013258343294619422,
          0.0001329119625964211,
          0.00013323615396263977,
          0.00013355598359836903,
          0.00013387136371991414,
          0.00013418214033772443,
          0.0001344880920391185,
          0.00013478892940645728,
          0.0001350842950645702,
          0.00013537376436057925,
          0.0001356568466879324,
          0.00013593298747345995,
          0.00013620157085104568,
          0.0001364619230478746,
          0.0001367133165083844,
          0.0001369549747771526,
          0.0001371860781545139,
          0.00013740577012846293,
          0.00013761316457266222,
          0.00013780735368451792,
          0.00013798741661897104,
          0.00013815242875421527,
          0.00013830147150499633,
          0.0001384336425790691,
          0.00013854806655265692,
          0.0001386439056230504,
          0.00013872037038092436,
          0.00013877673043247767,
          0.00013881232469288509,
          0.0001388265711677952,
          0.0001388189760396289,
          0.00013878914188013807,
          0.00013873677481992348,
          0.00013866169051991695,
          0.0001385638188082105,
          0.00013844320686810248,
          0.00013830002088934277,
          0.00013813454612320443,
          0.0001379471853130021,
          0.00013773845550377284,
          0.00013750898326749322,
          0.00013725949841228883,
          0.00013699082627505345,
          0.00013670387872574287,
          0.00013639964403750165,
          0.00013607917579948868,
          0.00013574358106768536,
          0.00013539400796306537,
          0.00013503163293588193,
          0.00013465764791913595,
          0.00013427324759374338,
          0.0001338796169824068,
          0.00013347791957900258,
          0.00013306928620582018,
          0.00013265480477237212,
          0.000132235511087735,
          0.00013181238085341738,
          0.00013138632293683308,
          0.00013095817399673388,
          0.00013052869450247428,
          0.00013009856615910225,
          0.00012966839072092528,
          0.0001292386901477857,
          0.0001288099080315509,
          0.00012838241219568865,
          0.00012795649834885028,
          0.0001275323946544175,
          0.00012711026706247152,
          0.00012669022523871897,
          0.00012627232891694785,
          0.00012585659449752503,
          0.00012544300171449965,
          0.00012503150019786704,
          0.00012462201576548634,
          0.00012421445629074042,
          0.00012380871700711616,
          0.00012340468512902253,
          0.00012300224368903866,
          0.0001226012745148631,
          0.00012220166029399448,
          0.00012180328570003665,
          0.00012140603758089453,
          0.00012100980423527425,
          0.00012061447382929092,
          0.00012021993202885798,
          0.0001198260589453293,
          0.00011943272551097738,
          0.00011903978941682674,
          0.00011864709075766514,
          0.0001182544475374153,
          0.0001178616511922291,
          0.00011746846228860297,
          0.00011707460654948246,
          0.00011667977135295994,
          0.00011628360283599119,
          0.00011588570372006938,
          0.00011548563195737175,
          0.00011508290027529551,
          0.00011467697667504252,
          0.00011426728591678934,
          0.0001138532120006176,
          0.00011343410162955846,
          0.00011300926861932192,
          0.00011257799919926474,
          0.00011213955813122801,
          0.00011169319555749964,
          0.00011123815447650587,
          0.0001107736787350977,
          0.00011029902141935871,
          0.00010981345352169123,
          0.00010931627276023148,
          0.00010880681242714623,
          0.00010828445014462779,
          0.00010774861641111489,
          0.00010719880282489392,
          0.00010663456987753975,
          0.00010605555421510823,
          0.00010546147527052632,
          0.00010485214117590178,
          0.00010422745386850637,
          0.00010358741330899643,
          0.00010293212073514677,
          0.00010226178087922921,
          0.00010157670308255267,
          0.00010087730124686682,
          0.00010016409256985601,
          0.00009943769502115376,
          0.00009869882352660824,
          0.0000979482848422232,
          0.00009718697111555036,
          0.00009641585215132528,
          0.00009563596641985563,
          0.0000948484108707679,
          0.00009405432964082565,
          0.00009325490177208039,
          0.00009245132808479134,
          0.00009164481737752876,
          0.00009083657215358479,
          0.00009002777409722179,
          0.00008921956954422462,
          0.0000884130552076454,
          0.00008760926443047079,
          0.00008680915424132997,
          0.0000860135934865699,
          0.00008522335230154156,
          0.00008443909316553678,
          0.00008366136375851867,
          0.0000828905918039554,
          0.00008212708204134294,
          0.00008137101542532763,
          0.00008062245059694046,
          0.00007988132761778887,
          0.00007914747390174426,
          0.00007842061222251366,
          0.00007770037062129981,
          0.00007698629398839875,
          0.00007627785704777537,
          0.0000755744784360345,
          0.00007487553553811337,
          0.00007418037972262133,
          0.00007348835161076401,
          0.00007279879601470641,
          0.0000721110761940181,
          0.00007142458710220794,
          0.00007073876732851994,
          0.0000700531094820484,
          0.00006936716881441143,
          0.00006868056993202879,
          0.00006799301150758401,
          0.00006730426896050597,
          0.00006661419513620224,
          0.00006592271907127764,
          0.00006522984298513876,
          0.00006453563768544976,
          0.00006384023661435507,
          0.00006314382879300893,
          0.00006244665094288255,
          0.00006174897907305096,
          0.00006105111982310236,
          0.000060353401841752334,
          0.00005965616746232079,
          0.000058959764908948344,
          0.00005826454123308985,
          0.00005757083613993309,
          0.000056878976820681234,
          0.00005618927386088104,
          0.000055502018249049825,
          0.000054817479465503284,
          0.000054135904590220556,
          0.000053457518332276866,
          0.00005278252385309924,
          0.00005211110423252361,
          0.00005144342441103254,
          0.00005077963343394214,
          0.000050119866823695036,
          0.000049464248914452167,
          0.00004881289499823076,
          0.00004816591315297595,
          0.00004752340564904779,
          0.00004688546986033986,
          0.000046252198638179944,
          0.000045623680138824824,
          0.00004499999712728777,
          0.0000443812258100239,
          0.000043767434275407284,
          0.000043158680642859094,
          0.00004255501103810913,
          0.00004195645752275133,
          0.00004136303611070249,
          0.00004077474500230754,
          0.000040191563158892216,
          0.000039613449327036165,
          0.00003904034160340715,
          0.000038472157608594063,
          0.000037908795313025706,
          0.00003735013453092735,
          0.000036796039070540265,
          0.00003624635950168953,
          0.000035700936476384544,
          0.00003515960451548056,
          0.000034622196155420494,
          0.000034088546334408326,
          0.00003355849688754589,
          0.000033031901015781044,
          0.000032508627594019086,
          0.000031988565189295734,
          0.00003147162567013574,
          0.000030957747302575915,
          0.0000304468972461357,
          0.00002993907338345407,
          0.000029434305439493213,
          0.00002893265536921823,
          0.000028434217015576915,
          0.00002793911506155434,
          0.000027447503320267246,
          0.000026959562424809206,
          0.000026475496994315504,
          0.00002599553236408347,
          0.000025519910975323765,
          0.000025048888524168817,
          0.000024582729969994278,
          0.000024121705500169293,
          0.0000236660865423809,
          0.00002321614190715608,
          0.000022772134132656772,
          0.00002233431609184507,
          0.000021902927909309046,
          0.00002147819422199576,
          0.000021060321805379997,
          0.00002064949757469192,
          0.00002024588696015192,
          0.00001984963264603873,
          0.000019460853656050626,
          0.000019079644761931225,
          0.00001870607618870987,
          0.00001834019358806755,
          0.000017982018251090887,
          0.000017631547532783454,
          0.000017288755462844186,
          0.00001695359352008826,
          0.000016625991551110442,
          0.000016305858817063933,
          0.000015993085155429858,
          0.00001568754224613983,
          0.00001538908497318133,
          0.000015097552873735024,
          0.000014812771666912123,
          0.00001453455485329039,
          0.000014262705374787334,
          0.000013997017322100636,
          0.000013737277674204848,
          0.000013483268051455625,
          0.00001323476646099149,
          0.000012991549010605937,
          0.000012753391565357578,
          0.000012520071320122871,
          0.000012291368261266418,
          0.000012067066491748549,
          0.000011846955396370852,
          0.000011630830627487189,
          0.000011418494896295471,
          0.000011209758560636189,
          0.000011004440006838695,
          0.000010802365830307797,
          0.000010603370826916688,
          0.000010407297814523651,
          0.000010213997310702147,
          0.00001002332709872011,
          0.00000983515171859463,
          0.000009649341923403968,
          0.000009465774142728268,
          0.000009284329994964722,
          0.000009104895888241178,
          0.000008927362745753832,
          0.000008751625885677122,
          0.000008577585078529744,
          0.0000084051447962986,
          0.000008234214658063601,
          0.000008064710066725173,
          0.00000789655302114856,
          0.000007729673078058656,
          0.000007564008428796249,
          0.00000739950704801469,
          0.000007236127864938873,
          0.0000070738419032556295,
          0.000006912633333303978,
          0.000006752500380145632,
          0.000006593456033383928,
          0.00000643552850922253,
          0.000006278761422073257,
          0.0000061232136317999575,
          0.000005968958743096851,
          0.000005816084245153847,
          0.000005664690292203716,
          0.00000551488813829233,
          0.000005366798252161192,
          0.000005220548149986144,
          0.000005076269994411701,
          0.000004934098017437364,
          0.000004794165831897104,
          0.000004656603701252954,
          0.000004521535840013781,
          0.000004389077817204472,
          0.000004259334132961952,
          0.000004132396033628631,
          0.0000040083396238528085,
          0.000003887224325464002,
          0.00000376909172261514,
          0.0000036539648212670355,
          0.000003541847738958817,
          0.000003432725828402892,
          0.000003326566226200332,
          0.000003223318806305082,
          0.000003122917507151356,
          0.0000030252819919211298,
          0.0000029303195935320163,
          0.000002837927489763717,
          0.0000027479950496331164,
          0.0000026604062897221814,
          0.0000025750423786320493,
          0.000002491784128991836,
          0.0000024105144193417684,
          0.00000233112049254057,
          0.0000022534960828838485,
          0.000002177543330604282,
          0.0000021031744495866864,
          0.000002030313121700359,
          0.000001958895598866977,
          0.0000018888715016053244,
          0.0000018202043101103041,
          0.0000017528715507547033,
          0.000001686864687104792,
          0.0000016221887300113188,
          0.0000015588615860105583,
          0.0000014969131671154305,
          0.0000014363842880980672,
          0.0000013773253795928932,
          0.0000013197950468361645,
          0.000001263858504673821,
          0.0000012095859196935155,
          0.000001157050690052939,
          0.0000011063276928691648,
          0.0000010574915279802038,
          0.0000010106147855611734,
          9.657663635320932e-7,
          9.230098589793371e-7,
          8.82402055963237e-7,
          8.439915301224234e-7,
          8.078173884246974e-7,
          7.739081602586537e-7,
          7.422808538095099e-7,
          7.129401893133568e-7,
          6.858780183330399e-7,
          6.610729356463628e-7,
          6.384900876880945e-7,
          6.180811787537333e-7,
          5.997846733756422e-7,
          5.83526190450185e-7,
          5.69219081866116e-7,
          5.567651856054394e-7,
          5.460557406106853e-7,
          5.369724481940756e-7,
          5.293886624632704e-7,
          5.231706902141393e-7,
          5.181791790486443e-7,
          5.142705711651224e-7,
          5.112985993802843e-7,
          5.091158015076926e-7,
          5.075750292547391e-7,
          5.065309283139711e-7,
          5.058413673055914e-7,
          5.053687946524704e-7,
          5.049815042998929e-7,
          5.045547933799624e-7,
          5.039719974049235e-7,
          5.031253912861788e-7,
          5.019169473419304e-7,
          5.002589443988112e-7,
          4.980744250337076e-7,
          4.952975008661673e-7,
          4.918735085292637e-7,
          4.877590214552178e-7,
          4.829217248585448e-7,
          4.773401632421368e-7,
          4.710033713606929e-7,
          4.639104008337828e-7,
          4.5606975550260504e-7,
          4.474987491767459e-7,
          4.382227996373042e-7,
          4.282746726771213e-7,
          4.176936896013962e-7,
          4.065249110221287e-7,
          3.948183090003149e-7
         ],
         "yaxis": "y"
        }
       ],
       "layout": {
        "barmode": "overlay",
        "font": {
         "size": 18
        },
        "hovermode": "closest",
        "legend": {
         "traceorder": "reversed"
        },
        "plot_bgcolor": "#F5F5F8",
        "template": {
         "data": {
          "bar": [
           {
            "error_x": {
             "color": "#2a3f5f"
            },
            "error_y": {
             "color": "#2a3f5f"
            },
            "marker": {
             "line": {
              "color": "#E5ECF6",
              "width": 0.5
             },
             "pattern": {
              "fillmode": "overlay",
              "size": 10,
              "solidity": 0.2
             }
            },
            "type": "bar"
           }
          ],
          "barpolar": [
           {
            "marker": {
             "line": {
              "color": "#E5ECF6",
              "width": 0.5
             },
             "pattern": {
              "fillmode": "overlay",
              "size": 10,
              "solidity": 0.2
             }
            },
            "type": "barpolar"
           }
          ],
          "carpet": [
           {
            "aaxis": {
             "endlinecolor": "#2a3f5f",
             "gridcolor": "white",
             "linecolor": "white",
             "minorgridcolor": "white",
             "startlinecolor": "#2a3f5f"
            },
            "baxis": {
             "endlinecolor": "#2a3f5f",
             "gridcolor": "white",
             "linecolor": "white",
             "minorgridcolor": "white",
             "startlinecolor": "#2a3f5f"
            },
            "type": "carpet"
           }
          ],
          "choropleth": [
           {
            "colorbar": {
             "outlinewidth": 0,
             "ticks": ""
            },
            "type": "choropleth"
           }
          ],
          "contour": [
           {
            "colorbar": {
             "outlinewidth": 0,
             "ticks": ""
            },
            "colorscale": [
             [
              0,
              "#0d0887"
             ],
             [
              0.1111111111111111,
              "#46039f"
             ],
             [
              0.2222222222222222,
              "#7201a8"
             ],
             [
              0.3333333333333333,
              "#9c179e"
             ],
             [
              0.4444444444444444,
              "#bd3786"
             ],
             [
              0.5555555555555556,
              "#d8576b"
             ],
             [
              0.6666666666666666,
              "#ed7953"
             ],
             [
              0.7777777777777778,
              "#fb9f3a"
             ],
             [
              0.8888888888888888,
              "#fdca26"
             ],
             [
              1,
              "#f0f921"
             ]
            ],
            "type": "contour"
           }
          ],
          "contourcarpet": [
           {
            "colorbar": {
             "outlinewidth": 0,
             "ticks": ""
            },
            "type": "contourcarpet"
           }
          ],
          "heatmap": [
           {
            "colorbar": {
             "outlinewidth": 0,
             "ticks": ""
            },
            "colorscale": [
             [
              0,
              "#0d0887"
             ],
             [
              0.1111111111111111,
              "#46039f"
             ],
             [
              0.2222222222222222,
              "#7201a8"
             ],
             [
              0.3333333333333333,
              "#9c179e"
             ],
             [
              0.4444444444444444,
              "#bd3786"
             ],
             [
              0.5555555555555556,
              "#d8576b"
             ],
             [
              0.6666666666666666,
              "#ed7953"
             ],
             [
              0.7777777777777778,
              "#fb9f3a"
             ],
             [
              0.8888888888888888,
              "#fdca26"
             ],
             [
              1,
              "#f0f921"
             ]
            ],
            "type": "heatmap"
           }
          ],
          "heatmapgl": [
           {
            "colorbar": {
             "outlinewidth": 0,
             "ticks": ""
            },
            "colorscale": [
             [
              0,
              "#0d0887"
             ],
             [
              0.1111111111111111,
              "#46039f"
             ],
             [
              0.2222222222222222,
              "#7201a8"
             ],
             [
              0.3333333333333333,
              "#9c179e"
             ],
             [
              0.4444444444444444,
              "#bd3786"
             ],
             [
              0.5555555555555556,
              "#d8576b"
             ],
             [
              0.6666666666666666,
              "#ed7953"
             ],
             [
              0.7777777777777778,
              "#fb9f3a"
             ],
             [
              0.8888888888888888,
              "#fdca26"
             ],
             [
              1,
              "#f0f921"
             ]
            ],
            "type": "heatmapgl"
           }
          ],
          "histogram": [
           {
            "marker": {
             "pattern": {
              "fillmode": "overlay",
              "size": 10,
              "solidity": 0.2
             }
            },
            "type": "histogram"
           }
          ],
          "histogram2d": [
           {
            "colorbar": {
             "outlinewidth": 0,
             "ticks": ""
            },
            "colorscale": [
             [
              0,
              "#0d0887"
             ],
             [
              0.1111111111111111,
              "#46039f"
             ],
             [
              0.2222222222222222,
              "#7201a8"
             ],
             [
              0.3333333333333333,
              "#9c179e"
             ],
             [
              0.4444444444444444,
              "#bd3786"
             ],
             [
              0.5555555555555556,
              "#d8576b"
             ],
             [
              0.6666666666666666,
              "#ed7953"
             ],
             [
              0.7777777777777778,
              "#fb9f3a"
             ],
             [
              0.8888888888888888,
              "#fdca26"
             ],
             [
              1,
              "#f0f921"
             ]
            ],
            "type": "histogram2d"
           }
          ],
          "histogram2dcontour": [
           {
            "colorbar": {
             "outlinewidth": 0,
             "ticks": ""
            },
            "colorscale": [
             [
              0,
              "#0d0887"
             ],
             [
              0.1111111111111111,
              "#46039f"
             ],
             [
              0.2222222222222222,
              "#7201a8"
             ],
             [
              0.3333333333333333,
              "#9c179e"
             ],
             [
              0.4444444444444444,
              "#bd3786"
             ],
             [
              0.5555555555555556,
              "#d8576b"
             ],
             [
              0.6666666666666666,
              "#ed7953"
             ],
             [
              0.7777777777777778,
              "#fb9f3a"
             ],
             [
              0.8888888888888888,
              "#fdca26"
             ],
             [
              1,
              "#f0f921"
             ]
            ],
            "type": "histogram2dcontour"
           }
          ],
          "mesh3d": [
           {
            "colorbar": {
             "outlinewidth": 0,
             "ticks": ""
            },
            "type": "mesh3d"
           }
          ],
          "parcoords": [
           {
            "line": {
             "colorbar": {
              "outlinewidth": 0,
              "ticks": ""
             }
            },
            "type": "parcoords"
           }
          ],
          "pie": [
           {
            "automargin": true,
            "type": "pie"
           }
          ],
          "scatter": [
           {
            "fillpattern": {
             "fillmode": "overlay",
             "size": 10,
             "solidity": 0.2
            },
            "type": "scatter"
           }
          ],
          "scatter3d": [
           {
            "line": {
             "colorbar": {
              "outlinewidth": 0,
              "ticks": ""
             }
            },
            "marker": {
             "colorbar": {
              "outlinewidth": 0,
              "ticks": ""
             }
            },
            "type": "scatter3d"
           }
          ],
          "scattercarpet": [
           {
            "marker": {
             "colorbar": {
              "outlinewidth": 0,
              "ticks": ""
             }
            },
            "type": "scattercarpet"
           }
          ],
          "scattergeo": [
           {
            "marker": {
             "colorbar": {
              "outlinewidth": 0,
              "ticks": ""
             }
            },
            "type": "scattergeo"
           }
          ],
          "scattergl": [
           {
            "marker": {
             "colorbar": {
              "outlinewidth": 0,
              "ticks": ""
             }
            },
            "type": "scattergl"
           }
          ],
          "scattermapbox": [
           {
            "marker": {
             "colorbar": {
              "outlinewidth": 0,
              "ticks": ""
             }
            },
            "type": "scattermapbox"
           }
          ],
          "scatterpolar": [
           {
            "marker": {
             "colorbar": {
              "outlinewidth": 0,
              "ticks": ""
             }
            },
            "type": "scatterpolar"
           }
          ],
          "scatterpolargl": [
           {
            "marker": {
             "colorbar": {
              "outlinewidth": 0,
              "ticks": ""
             }
            },
            "type": "scatterpolargl"
           }
          ],
          "scatterternary": [
           {
            "marker": {
             "colorbar": {
              "outlinewidth": 0,
              "ticks": ""
             }
            },
            "type": "scatterternary"
           }
          ],
          "surface": [
           {
            "colorbar": {
             "outlinewidth": 0,
             "ticks": ""
            },
            "colorscale": [
             [
              0,
              "#0d0887"
             ],
             [
              0.1111111111111111,
              "#46039f"
             ],
             [
              0.2222222222222222,
              "#7201a8"
             ],
             [
              0.3333333333333333,
              "#9c179e"
             ],
             [
              0.4444444444444444,
              "#bd3786"
             ],
             [
              0.5555555555555556,
              "#d8576b"
             ],
             [
              0.6666666666666666,
              "#ed7953"
             ],
             [
              0.7777777777777778,
              "#fb9f3a"
             ],
             [
              0.8888888888888888,
              "#fdca26"
             ],
             [
              1,
              "#f0f921"
             ]
            ],
            "type": "surface"
           }
          ],
          "table": [
           {
            "cells": {
             "fill": {
              "color": "#EBF0F8"
             },
             "line": {
              "color": "white"
             }
            },
            "header": {
             "fill": {
              "color": "#C8D4E3"
             },
             "line": {
              "color": "white"
             }
            },
            "type": "table"
           }
          ]
         },
         "layout": {
          "annotationdefaults": {
           "arrowcolor": "#2a3f5f",
           "arrowhead": 0,
           "arrowwidth": 1
          },
          "autotypenumbers": "strict",
          "coloraxis": {
           "colorbar": {
            "outlinewidth": 0,
            "ticks": ""
           }
          },
          "colorscale": {
           "diverging": [
            [
             0,
             "#8e0152"
            ],
            [
             0.1,
             "#c51b7d"
            ],
            [
             0.2,
             "#de77ae"
            ],
            [
             0.3,
             "#f1b6da"
            ],
            [
             0.4,
             "#fde0ef"
            ],
            [
             0.5,
             "#f7f7f7"
            ],
            [
             0.6,
             "#e6f5d0"
            ],
            [
             0.7,
             "#b8e186"
            ],
            [
             0.8,
             "#7fbc41"
            ],
            [
             0.9,
             "#4d9221"
            ],
            [
             1,
             "#276419"
            ]
           ],
           "sequential": [
            [
             0,
             "#0d0887"
            ],
            [
             0.1111111111111111,
             "#46039f"
            ],
            [
             0.2222222222222222,
             "#7201a8"
            ],
            [
             0.3333333333333333,
             "#9c179e"
            ],
            [
             0.4444444444444444,
             "#bd3786"
            ],
            [
             0.5555555555555556,
             "#d8576b"
            ],
            [
             0.6666666666666666,
             "#ed7953"
            ],
            [
             0.7777777777777778,
             "#fb9f3a"
            ],
            [
             0.8888888888888888,
             "#fdca26"
            ],
            [
             1,
             "#f0f921"
            ]
           ],
           "sequentialminus": [
            [
             0,
             "#0d0887"
            ],
            [
             0.1111111111111111,
             "#46039f"
            ],
            [
             0.2222222222222222,
             "#7201a8"
            ],
            [
             0.3333333333333333,
             "#9c179e"
            ],
            [
             0.4444444444444444,
             "#bd3786"
            ],
            [
             0.5555555555555556,
             "#d8576b"
            ],
            [
             0.6666666666666666,
             "#ed7953"
            ],
            [
             0.7777777777777778,
             "#fb9f3a"
            ],
            [
             0.8888888888888888,
             "#fdca26"
            ],
            [
             1,
             "#f0f921"
            ]
           ]
          },
          "colorway": [
           "#636efa",
           "#EF553B",
           "#00cc96",
           "#ab63fa",
           "#FFA15A",
           "#19d3f3",
           "#FF6692",
           "#B6E880",
           "#FF97FF",
           "#FECB52"
          ],
          "font": {
           "color": "#2a3f5f"
          },
          "geo": {
           "bgcolor": "white",
           "lakecolor": "white",
           "landcolor": "#E5ECF6",
           "showlakes": true,
           "showland": true,
           "subunitcolor": "white"
          },
          "hoverlabel": {
           "align": "left"
          },
          "hovermode": "closest",
          "mapbox": {
           "style": "light"
          },
          "paper_bgcolor": "white",
          "plot_bgcolor": "#E5ECF6",
          "polar": {
           "angularaxis": {
            "gridcolor": "white",
            "linecolor": "white",
            "ticks": ""
           },
           "bgcolor": "#E5ECF6",
           "radialaxis": {
            "gridcolor": "white",
            "linecolor": "white",
            "ticks": ""
           }
          },
          "scene": {
           "xaxis": {
            "backgroundcolor": "#E5ECF6",
            "gridcolor": "white",
            "gridwidth": 2,
            "linecolor": "white",
            "showbackground": true,
            "ticks": "",
            "zerolinecolor": "white"
           },
           "yaxis": {
            "backgroundcolor": "#E5ECF6",
            "gridcolor": "white",
            "gridwidth": 2,
            "linecolor": "white",
            "showbackground": true,
            "ticks": "",
            "zerolinecolor": "white"
           },
           "zaxis": {
            "backgroundcolor": "#E5ECF6",
            "gridcolor": "white",
            "gridwidth": 2,
            "linecolor": "white",
            "showbackground": true,
            "ticks": "",
            "zerolinecolor": "white"
           }
          },
          "shapedefaults": {
           "line": {
            "color": "#2a3f5f"
           }
          },
          "ternary": {
           "aaxis": {
            "gridcolor": "white",
            "linecolor": "white",
            "ticks": ""
           },
           "baxis": {
            "gridcolor": "white",
            "linecolor": "white",
            "ticks": ""
           },
           "bgcolor": "#E5ECF6",
           "caxis": {
            "gridcolor": "white",
            "linecolor": "white",
            "ticks": ""
           }
          },
          "title": {
           "x": 0.05
          },
          "xaxis": {
           "automargin": true,
           "gridcolor": "white",
           "linecolor": "white",
           "ticks": "",
           "title": {
            "standoff": 15
           },
           "zerolinecolor": "white",
           "zerolinewidth": 2
          },
          "yaxis": {
           "automargin": true,
           "gridcolor": "white",
           "linecolor": "white",
           "ticks": "",
           "title": {
            "standoff": 15
           },
           "zerolinecolor": "white",
           "zerolinewidth": 2
          }
         }
        },
        "title": {
         "text": "Real vs. Synthetic Data for column LoanAmount"
        },
        "xaxis": {
         "anchor": "y2",
         "domain": [
          0,
          1
         ],
         "title": {
          "text": "Value"
         },
         "zeroline": false
        },
        "yaxis": {
         "anchor": "free",
         "domain": [
          0,
          1
         ],
         "position": 0,
         "title": {
          "text": "Frequency"
         }
        }
       }
      }
     },
     "metadata": {},
     "output_type": "display_data"
    }
   ],
   "source": [
    "fig = get_column_plot(\n",
    "    real_data=real_data,\n",
    "    synthetic_data=synthetic_data,\n",
    "    column_name='LoanAmount',\n",
    "    metadata=metadata\n",
    ")\n",
    "\n",
    "fig.show()"
   ]
  },
  {
   "cell_type": "code",
   "execution_count": 10,
   "metadata": {},
   "outputs": [
    {
     "data": {
      "application/vnd.plotly.v1+json": {
       "config": {
        "plotlyServerURL": "https://plot.ly"
       },
       "data": [
        {
         "fill": "tozeroy",
         "hovertemplate": "<b>Real</b><br>Value: %{x}<br>Frequency: %{y}<extra></extra>",
         "legendgroup": "Real",
         "marker": {
          "color": "#000036"
         },
         "mode": "lines",
         "name": "Real",
         "showlegend": true,
         "type": "scatter",
         "x": [
          19,
          19.112,
          19.224,
          19.336,
          19.448,
          19.56,
          19.672,
          19.784,
          19.896,
          20.008,
          20.12,
          20.232,
          20.344,
          20.456,
          20.568,
          20.68,
          20.792,
          20.904,
          21.016,
          21.128,
          21.240000000000002,
          21.352,
          21.464,
          21.576,
          21.688,
          21.8,
          21.912,
          22.024,
          22.136,
          22.248,
          22.36,
          22.472,
          22.584,
          22.696,
          22.808,
          22.92,
          23.032,
          23.144,
          23.256,
          23.368000000000002,
          23.48,
          23.592,
          23.704,
          23.816,
          23.928,
          24.04,
          24.152,
          24.264,
          24.376,
          24.488,
          24.6,
          24.712,
          24.823999999999998,
          24.936,
          25.048000000000002,
          25.16,
          25.272,
          25.384,
          25.496000000000002,
          25.608,
          25.72,
          25.832,
          25.944,
          26.056,
          26.168,
          26.28,
          26.392,
          26.503999999999998,
          26.616,
          26.728,
          26.84,
          26.951999999999998,
          27.064,
          27.176000000000002,
          27.288,
          27.4,
          27.512,
          27.624000000000002,
          27.736,
          27.848,
          27.96,
          28.072,
          28.183999999999997,
          28.296,
          28.408,
          28.52,
          28.631999999999998,
          28.744,
          28.856,
          28.968,
          29.08,
          29.192,
          29.304000000000002,
          29.416,
          29.528,
          29.64,
          29.752000000000002,
          29.864,
          29.976,
          30.088,
          30.2,
          30.311999999999998,
          30.424,
          30.536,
          30.648,
          30.759999999999998,
          30.872,
          30.984,
          31.096,
          31.208,
          31.32,
          31.432000000000002,
          31.544,
          31.656,
          31.768,
          31.880000000000003,
          31.992,
          32.104,
          32.216,
          32.328,
          32.44,
          32.552,
          32.664,
          32.775999999999996,
          32.888,
          33,
          33.112,
          33.224000000000004,
          33.336,
          33.448,
          33.56,
          33.672,
          33.784,
          33.896,
          34.007999999999996,
          34.12,
          34.232,
          34.344,
          34.456,
          34.568,
          34.68,
          34.792,
          34.903999999999996,
          35.016,
          35.128,
          35.239999999999995,
          35.352000000000004,
          35.464,
          35.576,
          35.688,
          35.8,
          35.912,
          36.024,
          36.135999999999996,
          36.248000000000005,
          36.36,
          36.472,
          36.584,
          36.696,
          36.808,
          36.92,
          37.032,
          37.144,
          37.256,
          37.367999999999995,
          37.480000000000004,
          37.592,
          37.704,
          37.816,
          37.928,
          38.04,
          38.152,
          38.263999999999996,
          38.376000000000005,
          38.488,
          38.6,
          38.712,
          38.824,
          38.936,
          39.048,
          39.16,
          39.272,
          39.384,
          39.495999999999995,
          39.608000000000004,
          39.72,
          39.832,
          39.944,
          40.056,
          40.168,
          40.28,
          40.391999999999996,
          40.504000000000005,
          40.616,
          40.728,
          40.84,
          40.952,
          41.064,
          41.176,
          41.288,
          41.4,
          41.512,
          41.623999999999995,
          41.736000000000004,
          41.848,
          41.96,
          42.072,
          42.184,
          42.296,
          42.408,
          42.519999999999996,
          42.632000000000005,
          42.744,
          42.856,
          42.968,
          43.08,
          43.192,
          43.304,
          43.416,
          43.528,
          43.64,
          43.751999999999995,
          43.864000000000004,
          43.976,
          44.088,
          44.2,
          44.312,
          44.424,
          44.536,
          44.647999999999996,
          44.760000000000005,
          44.872,
          44.984,
          45.096000000000004,
          45.208,
          45.32,
          45.432,
          45.544,
          45.656,
          45.768,
          45.879999999999995,
          45.992000000000004,
          46.104,
          46.216,
          46.328,
          46.44,
          46.552,
          46.664,
          46.775999999999996,
          46.888000000000005,
          47,
          47.111999999999995,
          47.224000000000004,
          47.336,
          47.448,
          47.56,
          47.672,
          47.784,
          47.896,
          48.007999999999996,
          48.120000000000005,
          48.232,
          48.344,
          48.456,
          48.568,
          48.68,
          48.792,
          48.903999999999996,
          49.016,
          49.128,
          49.239999999999995,
          49.352000000000004,
          49.464,
          49.576,
          49.688,
          49.8,
          49.912,
          50.024,
          50.135999999999996,
          50.248000000000005,
          50.36,
          50.472,
          50.584,
          50.696,
          50.808,
          50.92,
          51.032,
          51.144,
          51.256,
          51.368,
          51.48,
          51.592,
          51.704,
          51.816,
          51.928,
          52.04,
          52.152,
          52.264,
          52.376,
          52.488,
          52.6,
          52.712,
          52.824,
          52.936,
          53.048,
          53.16,
          53.272,
          53.384,
          53.496,
          53.608,
          53.72,
          53.832,
          53.944,
          54.056,
          54.168,
          54.28,
          54.392,
          54.504,
          54.616,
          54.728,
          54.84,
          54.952,
          55.064,
          55.176,
          55.288,
          55.4,
          55.512,
          55.624,
          55.736,
          55.848,
          55.96,
          56.072,
          56.184,
          56.296,
          56.408,
          56.52,
          56.632,
          56.744,
          56.856,
          56.968,
          57.08,
          57.192,
          57.304,
          57.416,
          57.528,
          57.64,
          57.752,
          57.864,
          57.976,
          58.088,
          58.2,
          58.312,
          58.424,
          58.536,
          58.648,
          58.76,
          58.872,
          58.984,
          59.096,
          59.208,
          59.32,
          59.432,
          59.544,
          59.656,
          59.768,
          59.88,
          59.992,
          60.104,
          60.216,
          60.328,
          60.44,
          60.552,
          60.664,
          60.776,
          60.888,
          61,
          61.112,
          61.224,
          61.336,
          61.448,
          61.56,
          61.672,
          61.784,
          61.896,
          62.008,
          62.12,
          62.232,
          62.344,
          62.456,
          62.568,
          62.68,
          62.792,
          62.904,
          63.016,
          63.128,
          63.24,
          63.352,
          63.464,
          63.576,
          63.688,
          63.8,
          63.912,
          64.024,
          64.136,
          64.24799999999999,
          64.36,
          64.47200000000001,
          64.584,
          64.696,
          64.80799999999999,
          64.92,
          65.032,
          65.144,
          65.256,
          65.368,
          65.47999999999999,
          65.592,
          65.70400000000001,
          65.816,
          65.928,
          66.03999999999999,
          66.152,
          66.26400000000001,
          66.376,
          66.488,
          66.6,
          66.712,
          66.824,
          66.936,
          67.048,
          67.16,
          67.27199999999999,
          67.384,
          67.49600000000001,
          67.608,
          67.72,
          67.832,
          67.944,
          68.056,
          68.168,
          68.28,
          68.392,
          68.50399999999999,
          68.616,
          68.72800000000001,
          68.84,
          68.952,
          69.064,
          69.176,
          69.288,
          69.4,
          69.512,
          69.624,
          69.73599999999999,
          69.848,
          69.96000000000001,
          70.072,
          70.184,
          70.29599999999999,
          70.408,
          70.52000000000001,
          70.632,
          70.744,
          70.856,
          70.968,
          71.08,
          71.19200000000001,
          71.304,
          71.416,
          71.52799999999999,
          71.64,
          71.75200000000001,
          71.864,
          71.976,
          72.088,
          72.2,
          72.312,
          72.424,
          72.536,
          72.648,
          72.75999999999999,
          72.872,
          72.98400000000001,
          73.096,
          73.208,
          73.32,
          73.432,
          73.544,
          73.656,
          73.768,
          73.88,
          73.99199999999999,
          74.104,
          74.21600000000001,
          74.328,
          74.44,
          74.55199999999999,
          74.664,
          74.77600000000001,
          74.888
         ],
         "xaxis": "x",
         "y": [
          0.010842467720806551,
          0.011342688845545382,
          0.011855099051576177,
          0.012379368639264277,
          0.012915130871972163,
          0.0134619822816353,
          0.014019483145769533,
          0.014587158137300646,
          0.015164497147457344,
          0.01575095628078257,
          0.0163459590201073,
          0.01694889755810659,
          0.017559134290831495,
          0.01817600346739226,
          0.018798812988778307,
          0.019426846347637656,
          0.02005936469973965,
          0.020695609056789056,
          0.021334802589297513,
          0.021976153027328575,
          0.022618855146149083,
          0.023262093323139617,
          0.023905044151756455,
          0.02454687909790015,
          0.02518676718373717,
          0.025823877683858357,
          0.0264573828186107,
          0.02708646042955857,
          0.02771029662226416,
          0.028328088361956903,
          0.028939046008170523,
          0.029542395775052206,
          0.030137382104794413,
          0.030723269942491423,
          0.031299346901653334,
          0.03186492531064545,
          0.03241934413139312,
          0.03296197074284144,
          0.03349220258282403,
          0.03400946864319587,
          0.034513230814282654,
          0.035002985075887276,
          0.03547826253325914,
          0.03593863029756536,
          0.03638369221146328,
          0.03681308942140524,
          0.03722650079922886,
          0.03762364321646101,
          0.03800427167551914,
          0.03836817930268538,
          0.03871519720830296,
          0.03904519422013446,
          0.03935807649620208,
          0.039653787023736176,
          0.03993230501104891,
          0.04019364517927322,
          0.04043785696094362,
          0.04066502361235875,
          0.040875261246570024,
          0.04106871779368201,
          0.0412455718949535,
          0.04140603173695265,
          0.04155033383174775,
          0.04167874174884077,
          0.041791544804248244,
          0.04188905671184361,
          0.04197161420177617,
          0.04203957561050369,
          0.04209331944669909,
          0.042133242937055365,
          0.042159760555763016,
          0.042173302541254246,
          0.04217431340360317,
          0.04216325042582758,
          0.042140582162201894,
          0.04210678693656902,
          0.04206235134355519,
          0.042007768755505624,
          0.041943537837901716,
          0.04187016107595896,
          0.04178814331506887,
          0.04169799031770004,
          0.04160020733934099,
          0.041495297726028786,
          0.04138376153596845,
          0.04126609418771405,
          0.04114278513733662,
          0.041014316586959,
          0.040881162226998315,
          0.040743786014407105,
          0.04060264098915774,
          0.04045816813118074,
          0.04031079525991874,
          0.04016093597864246,
          0.040008988665640025,
          0.03985533551439158,
          0.03970034162483481,
          0.0395443541478524,
          0.03938770148512756,
          0.039230692546569655,
          0.03907361606755865,
          0.03891673998832437,
          0.0387603108978515,
          0.03860455354477456,
          0.03844967041781059,
          0.038295841398344195,
          0.03814322348784201,
          0.037991950612823906,
          0.037842133510128,
          0.037693859695204966,
          0.03754719351612244,
          0.03740217629587076,
          0.03725882656541342,
          0.03711714038972305,
          0.036977091788777616,
          0.03683863325516514,
          0.0367016963695322,
          0.0365661925146484,
          0.03643201368830673,
          0.03629903341466135,
          0.03616710775293171,
          0.03603607640163773,
          0.03590576389574179,
          0.03577598089321301,
          0.03564652554664357,
          0.03551718495462557,
          0.03538773668666666,
          0.03525795037448645,
          0.03512758936161769,
          0.0349964124023444,
          0.034864175400159965,
          0.03473063317514087,
          0.034595541248925374,
          0.03445865763535886,
          0.034319744624352375,
          0.034178570546106984,
          0.03403491150258175,
          0.033888553052953546,
          0.03373929183983331,
          0.03358693714317322,
          0.03343131234911786,
          0.0332722563215424,
          0.03310962466464696,
          0.03294329086576905,
          0.03277314730850718,
          0.03259910614731309,
          0.03242110003590145,
          0.03223908270312672,
          0.03205302937136996,
          0.03186293701395492,
          0.03166882444963665,
          0.03147073227378308,
          0.031268722627445435,
          0.031062878807113163,
          0.030853304719487582,
          0.030640124187139694,
          0.030423480112351083,
          0.030203533507802745,
          0.029980462404036172,
          0.029754460644738145,
          0.029525736581913348,
          0.029294511683850586,
          0.02906101906949129,
          0.028825501983328804,
          0.028588212225331866,
          0.02834940855055745,
          0.028109355053132574,
          0.027868319549110815,
          0.027626571972381914,
          0.027384382797313252,
          0.027142021501159807,
          0.026899755078495218,
          0.026657846619000503,
          0.026416553958936065,
          0.02617612841549757,
          0.0259368136120696,
          0.02569884440113864,
          0.02546244589033068,
          0.02522783257573208,
          0.024995207585326938,
          0.024764762034086722,
          0.024536674490971095,
          0.024311110556879734,
          0.024088222551429544,
          0.023868149305347086,
          0.02365101605427313,
          0.02343693442887118,
          0.02322600253534871,
          0.02301830511981693,
          0.022813913809358762,
          0.022612887422238395,
          0.022415272339370067,
          0.022221102928969026,
          0.022030402016235396,
          0.021843181389960015,
          0.021659442338088204,
          0.02147917620453059,
          0.021302364959847043,
          0.021128981778860557,
          0.02095899161875443,
          0.02079235179176734,
          0.020629012527212418,
          0.02046891751819931,
          0.020312004449116006,
          0.020158205500617497,
          0.020007447829574077,
          0.01985965402211654,
          0.01971474251859425,
          0.019572628009908492,
          0.01943322180529536,
          0.019296432172201585,
          0.019162164649415152,
          0.01903032233507222,
          0.0189008061515656,
          0.018773515089713578,
          0.01864834643481903,
          0.01852519597744605,
          0.01840395821187923,
          0.018284526525289897,
          0.018166793380634882,
          0.018050650496251396,
          0.017935989024986203,
          0.01782269973552246,
          0.01771067319833939,
          0.01759979997847345,
          0.017489970836939303,
          0.0173810769423346,
          0.017273010093789985,
          0.01716566295604808,
          0.01705892930706899,
          0.016952704298165602,
          0.016846884726290142,
          0.016741369317710326,
          0.016636059021957063,
          0.01653085731458107,
          0.016425670506946127,
          0.01632040806099812,
          0.0162149829067049,
          0.0161093117596464,
          0.016003315436061698,
          0.015896919162532726,
          0.01579005287738998,
          0.01568265152088468,
          0.015574655311163537,
          0.015466010003124683,
          0.015356667127308515,
          0.015246584206092845,
          0.01513572494461939,
          0.015024059394056394,
          0.014911564085025055,
          0.014798222129254832,
          0.014684023287801683,
          0.014568964004448163,
          0.01445304740320469,
          0.014336283249147888,
          0.014218687872152233,
          0.01410028405340022,
          0.013981100874885844,
          0.013861173532452255,
          0.013740543113228134,
          0.013619256338641198,
          0.013497365274490315,
          0.013374927009848308,
          0.013252003306841785,
          0.013128660223607803,
          0.013004967712968265,
          0.012880999199571128,
          0.012756831138441782,
          0.012632542558052426,
          0.012508214591158886,
          0.012383929996761594,
          0.012259772676639356,
          0.012135827189954726,
          0.012012178269458738,
          0.011888910342819655,
          0.011766107062567562,
          0.011643850848085354,
          0.011522222442981855,
          0.0114013004910664,
          0.011281161133990776,
          0.011161877633450895,
          0.011043520020634986,
          0.010926154775379065,
          0.0108098445372383,
          0.010694647850410244,
          0.010580618944154675,
          0.010467807550046053,
          0.010356258757072948,
          0.010246012905264884,
          0.01013710551818685,
          0.010029567274295452,
          0.00992342401680499,
          0.009818696801367884,
          0.009715401980536019,
          0.009613551323642838,
          0.009513152170431274,
          0.00941420761645747,
          0.009316716728022397,
          0.009220674784132446,
          0.00912607354276398,
          0.009032901528510504,
          0.008941144338526047,
          0.008850784963546899,
          0.008761804120678108,
          0.008674180594568008,
          0.008587891583571865,
          0.008502913047515596,
          0.008419220053717756,
          0.00833678711801015,
          0.008255588537613292,
          0.008175598712866525,
          0.008096792454991383,
          0.008019145277265854,
          0.007942633667212528,
          0.007867235337649475,
          0.0077929294547126856,
          0.007719696841234433,
          0.0076475201541445995,
          0.007576384034851103,
          0.007506275231847694,
          0.007437182695084519,
          0.0073690976419229,
          0.0073020135947696775,
          0.007235926390752992,
          0.007170834164049288,
          0.007106737301707754,
          0.007043638374033522,
          0.0069815420407859695,
          0.006920454934625087,
          0.006860385523389939,
          0.006801343952924468,
          0.006743341872272051,
          0.0066863922431457225,
          0.006630509135642606,
          0.006575707512211021,
          0.006522003001901036,
          0.006469411666925701,
          0.006417949763547068,
          0.0063676334992623426,
          0.006318478788218742,
          0.006270501006720775,
          0.0062237147506194,
          0.006178133596286044,
          0.006133769866782066,
          0.006090634404731697,
          0.006048736353301194,
          0.006008082946576147,
          0.005968679310516918,
          0.005930528275556272,
          0.005893630201791408,
          0.005857982817607362,
          0.005823581072458855,
          0.0057904170044281245,
          0.005758479623072244,
          0.005727754807971303,
          0.005698225223294087,
          0.005669870248605125,
          0.005642665926052421,
          0.005616584923994197,
          0.0055915965170487796,
          0.005567666582483159,
          0.005544757612792992,
          0.005522828744269309,
          0.005501835801295979,
          0.005481731356075875,
          0.005462464803441891,
          0.0054439824503731225,
          0.005426227619804184,
          0.005409140768287282,
          0.005392659617042044,
          0.005376719295906101,
          0.005361252499680368,
          0.005346189656345063,
          0.005331459106606807,
          0.005316987294221451,
          0.005302698966523023,
          0.00528851738457399,
          0.005274364542336176,
          0.005260161394246233,
          0.0052458280905609556,
          0.005231284219819641,
          0.005216449057749142,
          0.0052012418219154226,
          0.005185581931400833,
          0.005169389270760523,
          0.005152584457483784,
          0.0051350891121572035,
          0.005116826130496987,
          0.005097719956386855,
          0.0050776968550273185,
          0.005056685185272095,
          0.005034615670197554,
          0.005011421664923006,
          0.004987039420673818,
          0.004961408344056117,
          0.00493447125049105,
          0.0049061746107413136,
          0.0048764687894499725,
          0.004845308274605105,
          0.00481265189684196,
          0.004778463037498969,
          0.0047427098243535805,
          0.0047053653139810135,
          0.0046664076597020465,
          0.004625820264115595,
          0.004583591915248312,
          0.004539716905396286,
          0.00449419513178344,
          0.004447032178216516,
          0.004398239376978402,
          0.0043478338502681135,
          0.004295838530568861,
          0.00424228215940199,
          0.004187199264006882,
          0.004130630111571834,
          0.004072620640730355,
          0.004013222370128945,
          0.003952492283967223,
          0.003890492694507625,
          0.0038272910816501606,
          0.003762959909767533,
          0.0036975764220957812,
          0.003631222413077043,
          0.0035639839791517377,
          0.0034959512485987524,
          0.003427218091123094,
          0.0033578818079901805,
          0.00328804280360598,
          0.003217804239540107,
          0.0031472716720868927,
          0.003076552674554775,
          0.0030057564455696164,
          0.002934993404769511,
          0.00286437477736021,
          0.0027940121690881114,
          0.00272401713327438,
          0.0026545007316366174,
          0.002585573090704141,
          0.0025173429557094444,
          0.0024499172439092186,
          0.002383400599355968,
          0.0023178949512013018,
          0.00225349907766695,
          0.0021903081778668096,
          0.002128413453701727,
          0.0020679017040789362,
          0.0020088549337271707,
          0.0019513499788865914,
          0.0018954581521482164,
          0.0018412449086996426,
          0.0017887695362008584,
          0.0017380848704659252,
          0.0016892370390606838,
          0.0016422652348439348,
          0.0015972015213781702,
          0.0015540706720150745,
          0.0015128900443210154,
          0.0014736694913473924,
          0.0014364113110703087,
          0.0014011102351240345,
          0.001367753457732935,
          0.0013363207055084125,
          0.0013067843485213932,
          0.0012791095527888647,
          0.0012532544740262326,
          0.001229170492218131,
          0.0012068024862510922,
          0.0011860891475346865,
          0.0011669633312165516,
          0.001149352443274225,
          0.0011331788614463525,
          0.0011183603876512842,
          0.0011048107292362436,
          0.001092440006108747,
          0.001081155280527878,
          0.0010708611060802648,
          0.0010614600921377817,
          0.0010528534798949333,
          0.001044941725916887,
          0.0010376250889972095,
          0.0010308042160306066,
          0.0010243807225522883,
          0.0010182577635843,
          0.0010123405904612496,
          0.0010065370893844502,
          0.001000758297574641,
          0.0009949188930587155,
          0.0009889376543344402,
          0.0009827378864071946,
          0.0009762478099820769,
          0.0009694009109205174,
          0.0009621362474293261,
          0.0009543987128379661,
          0.0009461392522324406,
          0.0009373150316465263,
          0.0009278895589583473,
          0.00091783275609666,
          0.0009071209826214873,
          0.0008957370112020499,
          0.0008836699559656014
         ],
         "yaxis": "y"
        },
        {
         "fill": "tozeroy",
         "hovertemplate": "<b>Synthetic</b><br>Value: %{x}<br>Frequency: %{y}<extra></extra>",
         "legendgroup": "Synthetic",
         "marker": {
          "color": "#01E0C9"
         },
         "mode": "lines",
         "name": "Synthetic",
         "showlegend": true,
         "type": "scatter",
         "x": [
          19,
          19.112,
          19.224,
          19.336,
          19.448,
          19.56,
          19.672,
          19.784,
          19.896,
          20.008,
          20.12,
          20.232,
          20.344,
          20.456,
          20.568,
          20.68,
          20.792,
          20.904,
          21.016,
          21.128,
          21.240000000000002,
          21.352,
          21.464,
          21.576,
          21.688,
          21.8,
          21.912,
          22.024,
          22.136,
          22.248,
          22.36,
          22.472,
          22.584,
          22.696,
          22.808,
          22.92,
          23.032,
          23.144,
          23.256,
          23.368000000000002,
          23.48,
          23.592,
          23.704,
          23.816,
          23.928,
          24.04,
          24.152,
          24.264,
          24.376,
          24.488,
          24.6,
          24.712,
          24.823999999999998,
          24.936,
          25.048000000000002,
          25.16,
          25.272,
          25.384,
          25.496000000000002,
          25.608,
          25.72,
          25.832,
          25.944,
          26.056,
          26.168,
          26.28,
          26.392,
          26.503999999999998,
          26.616,
          26.728,
          26.84,
          26.951999999999998,
          27.064,
          27.176000000000002,
          27.288,
          27.4,
          27.512,
          27.624000000000002,
          27.736,
          27.848,
          27.96,
          28.072,
          28.183999999999997,
          28.296,
          28.408,
          28.52,
          28.631999999999998,
          28.744,
          28.856,
          28.968,
          29.08,
          29.192,
          29.304000000000002,
          29.416,
          29.528,
          29.64,
          29.752000000000002,
          29.864,
          29.976,
          30.088,
          30.2,
          30.311999999999998,
          30.424,
          30.536,
          30.648,
          30.759999999999998,
          30.872,
          30.984,
          31.096,
          31.208,
          31.32,
          31.432000000000002,
          31.544,
          31.656,
          31.768,
          31.880000000000003,
          31.992,
          32.104,
          32.216,
          32.328,
          32.44,
          32.552,
          32.664,
          32.775999999999996,
          32.888,
          33,
          33.112,
          33.224000000000004,
          33.336,
          33.448,
          33.56,
          33.672,
          33.784,
          33.896,
          34.007999999999996,
          34.12,
          34.232,
          34.344,
          34.456,
          34.568,
          34.68,
          34.792,
          34.903999999999996,
          35.016,
          35.128,
          35.239999999999995,
          35.352000000000004,
          35.464,
          35.576,
          35.688,
          35.8,
          35.912,
          36.024,
          36.135999999999996,
          36.248000000000005,
          36.36,
          36.472,
          36.584,
          36.696,
          36.808,
          36.92,
          37.032,
          37.144,
          37.256,
          37.367999999999995,
          37.480000000000004,
          37.592,
          37.704,
          37.816,
          37.928,
          38.04,
          38.152,
          38.263999999999996,
          38.376000000000005,
          38.488,
          38.6,
          38.712,
          38.824,
          38.936,
          39.048,
          39.16,
          39.272,
          39.384,
          39.495999999999995,
          39.608000000000004,
          39.72,
          39.832,
          39.944,
          40.056,
          40.168,
          40.28,
          40.391999999999996,
          40.504000000000005,
          40.616,
          40.728,
          40.84,
          40.952,
          41.064,
          41.176,
          41.288,
          41.4,
          41.512,
          41.623999999999995,
          41.736000000000004,
          41.848,
          41.96,
          42.072,
          42.184,
          42.296,
          42.408,
          42.519999999999996,
          42.632000000000005,
          42.744,
          42.856,
          42.968,
          43.08,
          43.192,
          43.304,
          43.416,
          43.528,
          43.64,
          43.751999999999995,
          43.864000000000004,
          43.976,
          44.088,
          44.2,
          44.312,
          44.424,
          44.536,
          44.647999999999996,
          44.760000000000005,
          44.872,
          44.984,
          45.096000000000004,
          45.208,
          45.32,
          45.432,
          45.544,
          45.656,
          45.768,
          45.879999999999995,
          45.992000000000004,
          46.104,
          46.216,
          46.328,
          46.44,
          46.552,
          46.664,
          46.775999999999996,
          46.888000000000005,
          47,
          47.111999999999995,
          47.224000000000004,
          47.336,
          47.448,
          47.56,
          47.672,
          47.784,
          47.896,
          48.007999999999996,
          48.120000000000005,
          48.232,
          48.344,
          48.456,
          48.568,
          48.68,
          48.792,
          48.903999999999996,
          49.016,
          49.128,
          49.239999999999995,
          49.352000000000004,
          49.464,
          49.576,
          49.688,
          49.8,
          49.912,
          50.024,
          50.135999999999996,
          50.248000000000005,
          50.36,
          50.472,
          50.584,
          50.696,
          50.808,
          50.92,
          51.032,
          51.144,
          51.256,
          51.368,
          51.48,
          51.592,
          51.704,
          51.816,
          51.928,
          52.04,
          52.152,
          52.264,
          52.376,
          52.488,
          52.6,
          52.712,
          52.824,
          52.936,
          53.048,
          53.16,
          53.272,
          53.384,
          53.496,
          53.608,
          53.72,
          53.832,
          53.944,
          54.056,
          54.168,
          54.28,
          54.392,
          54.504,
          54.616,
          54.728,
          54.84,
          54.952,
          55.064,
          55.176,
          55.288,
          55.4,
          55.512,
          55.624,
          55.736,
          55.848,
          55.96,
          56.072,
          56.184,
          56.296,
          56.408,
          56.52,
          56.632,
          56.744,
          56.856,
          56.968,
          57.08,
          57.192,
          57.304,
          57.416,
          57.528,
          57.64,
          57.752,
          57.864,
          57.976,
          58.088,
          58.2,
          58.312,
          58.424,
          58.536,
          58.648,
          58.76,
          58.872,
          58.984,
          59.096,
          59.208,
          59.32,
          59.432,
          59.544,
          59.656,
          59.768,
          59.88,
          59.992,
          60.104,
          60.216,
          60.328,
          60.44,
          60.552,
          60.664,
          60.776,
          60.888,
          61,
          61.112,
          61.224,
          61.336,
          61.448,
          61.56,
          61.672,
          61.784,
          61.896,
          62.008,
          62.12,
          62.232,
          62.344,
          62.456,
          62.568,
          62.68,
          62.792,
          62.904,
          63.016,
          63.128,
          63.24,
          63.352,
          63.464,
          63.576,
          63.688,
          63.8,
          63.912,
          64.024,
          64.136,
          64.24799999999999,
          64.36,
          64.47200000000001,
          64.584,
          64.696,
          64.80799999999999,
          64.92,
          65.032,
          65.144,
          65.256,
          65.368,
          65.47999999999999,
          65.592,
          65.70400000000001,
          65.816,
          65.928,
          66.03999999999999,
          66.152,
          66.26400000000001,
          66.376,
          66.488,
          66.6,
          66.712,
          66.824,
          66.936,
          67.048,
          67.16,
          67.27199999999999,
          67.384,
          67.49600000000001,
          67.608,
          67.72,
          67.832,
          67.944,
          68.056,
          68.168,
          68.28,
          68.392,
          68.50399999999999,
          68.616,
          68.72800000000001,
          68.84,
          68.952,
          69.064,
          69.176,
          69.288,
          69.4,
          69.512,
          69.624,
          69.73599999999999,
          69.848,
          69.96000000000001,
          70.072,
          70.184,
          70.29599999999999,
          70.408,
          70.52000000000001,
          70.632,
          70.744,
          70.856,
          70.968,
          71.08,
          71.19200000000001,
          71.304,
          71.416,
          71.52799999999999,
          71.64,
          71.75200000000001,
          71.864,
          71.976,
          72.088,
          72.2,
          72.312,
          72.424,
          72.536,
          72.648,
          72.75999999999999,
          72.872,
          72.98400000000001,
          73.096,
          73.208,
          73.32,
          73.432,
          73.544,
          73.656,
          73.768,
          73.88,
          73.99199999999999,
          74.104,
          74.21600000000001,
          74.328,
          74.44,
          74.55199999999999,
          74.664,
          74.77600000000001,
          74.888
         ],
         "xaxis": "x",
         "y": [
          0.022243102539121234,
          0.022617086369017752,
          0.02294831622129728,
          0.023236509872151315,
          0.023481818647959583,
          0.023684816679731963,
          0.023846483423468862,
          0.023968179937334386,
          0.024051619543090888,
          0.024098833616310468,
          0.02411213334416714,
          0.024094068358899698,
          0.024047383197734157,
          0.023974972555801853,
          0.023879836287546828,
          0.023765035075744716,
          0.02363364762746709,
          0.023488730175944435,
          0.023333278969609093,
          0.02317019631844747,
          0.023002260647139675,
          0.02283210087852629,
          0.022662175343856134,
          0.02249475529190038,
          0.022331912951144523,
          0.022175513990922616,
          0.0220272141313837,
          0.02188845957057295,
          0.02176049083122192,
          0.021644349580892182,
          0.021540887947144413,
          0.021450779834064102,
          0.02137453374688397,
          0.02131250664624048,
          0.021264918381106206,
          0.021231866287599228,
          0.021213339587553094,
          0.021209233273569973,
          0.021219361224046177,
          0.021243468350070707,
          0.021281241634100778,
          0.02133231997600726,
          0.02139630281388162,
          0.021472757533498074,
          0.02156122572054606,
          0.021661228342973227,
          0.021772269976546903,
          0.02189384220500808,
          0.022025426337063628,
          0.022166495586355008,
          0.02231651685804739,
          0.022474952277576534,
          0.0226412605842361,
          0.022814898495671334,
          0.022995322129947135,
          0.023181988550707872,
          0.023374357478995345,
          0.023571893193468797,
          0.02377406661991592,
          0.023980357591727685,
          0.024190257246119787,
          0.024403270506710255,
          0.024618918592015156,
          0.024836741481690832,
          0.025056300268007543,
          0.02527717931908155,
          0.025498988182649424,
          0.02572136316443698,
          0.02594396852312325,
          0.026166497234109114,
          0.026388671286430576,
          0.02661024149062399,
          0.026830986789767964,
          0.027050713080744724,
          0.027269251567496447,
          0.02748645668227718,
          0.027702203624141785,
          0.02791638557576733,
          0.028128910669879638,
          0.02833969878468152,
          0.02854867825356577,
          0.0287557825778571,
          0.02896094723227245,
          0.02916410665107515,
          0.029365191478754188,
          0.02956412616231242,
          0.02976082695332401,
          0.02995520037679668,
          0.030147142211018777,
          0.030336537008194008,
          0.030523258170206752,
          0.030707168577677753,
          0.03088812175411379,
          0.031065963530691812,
          0.03124053416178533,
          0.03141167082690455,
          0.03157921044198031,
          0.03174299269210211,
          0.03190286318938444,
          0.0320586766538643,
          0.0322103000124193,
          0.03235761531090144,
          0.03250052233792913,
          0.03263894086520525,
          0.03277281241860078,
          0.032902101506395665,
          0.033026796245731446,
          0.03314690834506598,
          0.033262472418814734,
          0.03337354462988117,
          0.03348020067587069,
          0.033582533154855716,
          0.03368064836597287,
          0.03377466261835413,
          0.03386469813834858,
          0.03395087867902266,
          0.03403332494736036,
          0.034112149972679306,
          0.0341874545446077,
          0.03425932285002993,
          0.03432781843588388,
          0.03439298061845781,
          0.03445482145008321,
          0.034513323341160564,
          0.03456843741960193,
          0.03462008269141155,
          0.03466814604596356,
          0.03471248312793674,
          0.03475292007559186,
          0.0347892561027287,
          0.03482126687987786,
          0.03484870864960697,
          0.03487132299203281,
          0.034888842139956786,
          0.03490099472916372,
          0.03490751185859807,
          0.03490813332757993,
          0.034902613913130924,
          0.03489072954996881,
          0.03487228327850534,
          0.03484711083241181,
          0.034815085746364306,
          0.03477612387649472,
          0.034730187240067906,
          0.03467728709683635,
          0.03461748621168841,
          0.03455090025619005,
          0.034477698324887764,
          0.03439810256030036,
          0.034312386897954725,
          0.03422087495916529,
          0.03412393713422858,
          0.03402198691201628,
          0.03391547652339445,
          0.03380489197537849,
          0.033690747560432444,
          0.033573579930781146,
          0.033453941831274335,
          0.03333239558618164,
          0.03320950643564641,
          0.03308583581653044,
          0.032961934680197834,
          0.032838336936814934,
          0.032715553111913785,
          0.032594064296758284,
          0.03247431646931286,
          0.03235671525764858,
          0.032241621212359704,
          0.03212934564906087,
          0.032020147116203594,
          0.03191422853730652,
          0.03181173507000224,
          0.03171275271712639,
          0.03161730771711567,
          0.031525366732358534,
          0.03143683784455649,
          0.03135157235581517,
          0.03126936738292061,
          0.031189969220326394,
          0.03111307743476644,
          0.03103834964149393,
          0.03096540689906656,
          0.03089383964677431,
          0.0308232140965791,
          0.030753078980176148,
          0.03068297254197411,
          0.030612429660771646,
          0.03054098897707931,
          0.03046819989975728,
          0.03039362936513393,
          0.03031686822425854,
          0.030237537139501718,
          0.030155291880382722,
          0.030069827920062745,
          0.02998088424828741,
          0.029888246333269378,
          0.02979174818371666,
          0.029691273482350133,
          0.02958675578334533,
          0.02947817778745569,
          0.029365569729580553,
          0.0292490069335622,
          0.029128606607405606,
          0.02900452396842734,
          0.02887694780148063,
          0.028746095564082315,
          0.028612208159591264,
          0.028475544503506468,
          0.02833637600825293,
          0.02819498110876343,
          0.028051639944753154,
          0.02790662930625063,
          0.02776021793697163,
          0.027612662276073074,
          0.027464202703127723,
          0.027315060334454248,
          0.027165434401755156,
          0.02701550022696716,
          0.02686540779078572,
          0.026715280877093454,
          0.02656521676181731,
          0.02641528640300216,
          0.026265535079336957,
          0.026115983417186812,
          0.02596662874147451,
          0.025817446683453482,
          0.02566839297845624,
          0.025519405388921022,
          0.025370405692060893,
          0.02522130167728566,
          0.025071989105426094,
          0.024922353589716686,
          0.024772272366912894,
          0.02462161593552529,
          0.024470249546653555,
          0.024318034540919735,
          0.024164829532354493,
          0.02401049144653021,
          0.023854876425619714,
          0.02369784061733185,
          0.02353924086769614,
          0.023378935339584822,
          0.023216784079567943,
          0.023052649555451946,
          0.022886397185583277,
          0.022717895879045647,
          0.022547018603222866,
          0.022373642992119056,
          0.02219765200537701,
          0.022018934644382877,
          0.021837386728157354,
          0.0216529117282191,
          0.02146542165817676,
          0.02127483801067366,
          0.021081092731486333,
          0.020884129218067607,
          0.020683903327735547,
          0.020480384379003166,
          0.02027355612821803,
          0.02006341770280517,
          0.01984998447189034,
          0.01963328883500284,
          0.019413380909835957,
          0.01919032910075734,
          0.018964220530812134,
          0.01873516132143981,
          0.018503276705918448,
          0.018268710964756206,
          0.018031627173729758,
          0.017792206758096545,
          0.017550648849588204,
          0.017307169446074622,
          0.017062000377264835,
          0.016815388083342025,
          0.016567592217002786,
          0.01631888408285148,
          0.01606954493143849,
          0.01581986412829357,
          0.01557013722104925,
          0.015320663930046448,
          0.015071746089613711,
          0.014823685568461765,
          0.01457678219822319,
          0.01433133173917271,
          0.014087623911456024,
          0.013845940518824349,
          0.013606553689919977,
          0.013369724259625636,
          0.013135700309950435,
          0.012904715886475264,
          0.012676989902579485,
          0.012452725239659897,
          0.012232108047423897,
          0.012015307244194898,
          0.011802474213151146,
          0.011593742686592742,
          0.011389228806837133,
          0.01118903134922616,
          0.010993232090087183,
          0.010801896300382788,
          0.010615073344227658,
          0.01043279736049695,
          0.010255088005395502,
          0.010081951234084124,
          0.00991338010025775,
          0.009749355553889642,
          0.00958984721915808,
          0.009434814136773958,
          0.0092842054574871,
          0.009137961076360859,
          0.00899601220040981,
          0.008858281845291232,
          0.008724685259860995,
          0.0085951302804554,
          0.008469517619659429,
          0.008347741097014359,
          0.008229687821513428,
          0.008115238337788168,
          0.008004266749554083,
          0.007896640835102615,
          0.007792222170395652,
          0.007690866275593361,
          0.0075924228006448245,
          0.007496735764875329,
          0.007403643864349796,
          0.007312980859194021,
          0.00722457605105463,
          0.007138254858523963,
          0.007053839495700853,
          0.006971149756164295,
          0.0068900039015731265,
          0.006810219650950301,
          0.006731615263533685,
          0.006654010704955629,
          0.006577228883539077,
          0.0065010969407325305,
          0.006425447577229933,
          0.006350120394202708,
          0.006274963227370977,
          0.006199833450408686,
          0.0061245992234673806,
          0.006049140662438646,
          0.0059733509049817906,
          0.005897137050333026,
          0.0058204209514738535,
          0.0057431398403563205,
          0.005665246769525352,
          0.0055867108565991995,
          0.005507517321604211,
          0.005427667311043726,
          0.005347177506719841,
          0.005266079521639098,
          0.005184419089708871,
          0.005102255060268794,
          0.005019658212694173,
          0.004936709910245986,
          0.004853500615920103,
          0.004770128296170369,
          0.004686696740958421,
          0.004603313830538491,
          0.004520089780658313,
          0.004437135398405012,
          0.004354560380718237,
          0.004272471686633184,
          0.004190972012611515,
          0.004110158397914231,
          0.004030120983918223,
          0.003950941947658349,
          0.003872694625779849,
          0.003795442840623297,
          0.0037192404354537776,
          0.0036441310210135664,
          0.0035701479307602654,
          0.0034973143774738587,
          0.0034256437995099777,
          0.0033551403809590997,
          0.0032857997264467533,
          0.0032176096683754585,
          0.003150551182129819,
          0.0030845993832006495,
          0.003019724579357509,
          0.0029558933509185735,
          0.0028930696328165217,
          0.0028312157734971945,
          0.0027702935476549735,
          0.0027102651023245424,
          0.0026510938188180505,
          0.0025927450763119373,
          0.002535186906431837,
          0.002478390531837258,
          0.0024223307854495685,
          0.0023669864104795785,
          0.0023123402446888213,
          0.002258379295261941,
          0.002205094713199428,
          0.0021524816781928516,
          0.0021005392064776087,
          0.0020492698951470657,
          0.0019986796168546084,
          0.0019487771787446305,
          0.0018995739588785218,
          0.0018510835324110587,
          0.0018033212983952836,
          0.0017563041164318362,
          0.001710049960518466,
          0.0016645775954904811,
          0.0016199062794647703,
          0.0015760554937972562,
          0.0015330447003179136,
          0.0014908931240883148,
          0.0014496195586922705,
          0.0014092421901621805,
          0.0013697784350880664,
          0.0013312447882602033,
          0.001293656675352346,
          0.0012570283066341064,
          0.0012213725284695542,
          0.0011867006703611147,
          0.0011530223864719142,
          0.0011203454918361961,
          0.0010886757947741062,
          0.001058016928290482,
          0.001028370184388173,
          0.0009997343562007704,
          0.0009721055935931737,
          0.0009454772783472859,
          0.000919839925215305,
          0.0008951811149669596,
          0.0008714854650805151,
          0.0008487346429430666,
          0.0008269074253615245,
          0.0008059798068830277,
          0.0007859251579329181,
          0.0007667144321604972,
          0.0007483164207033815,
          0.0007306980494093476,
          0.0007138247134599082,
          0.0006976606423886707,
          0.000682169287241373,
          0.0006673137206366918,
          0.0006530570398006718,
          0.0006393627622943035,
          0.000626195204152875,
          0.0006135198305106824,
          0.0006013035694886716,
          0.0005895150811518214,
          0.0005781249746643595,
          0.0005671059683381998,
          0.0005564329890287548,
          0.0005460832092212101,
          0.0005360360221025984,
          0.0005262729568627269,
          0.000516777538341577,
          0.0005075350968775257,
          0.0004985325357495825,
          0.0004897580648954942,
          0.000481200910582953,
          0.00047285101138090044,
          0.00046469871110137824,
          0.00045673445935158046,
          0.00044894852995474855,
          0.00044133076678416885,
          0.0004338703655345872,
          0.00042655569866817676,
          0.00041937418926479934,
          0.0004123122378325937,
          0.00040535520435378263,
          0.00039848744601359747,
          0.00039169240924911443,
          0.00038495277302027023,
          0.0003782506386032123,
          0.0003715677597873969,
          0.0003648858061653359,
          0.00035818665127177325,
          0.0003514526766818886,
          0.0003446670828293846,
          0.00033781419725847456,
          0.00033087977127116923,
          0.0003238512564556437,
          0.0003167180533564221,
          0.00030947172553850153,
          0.0003021061734648405,
          0.00029461776390502127,
          0.00028700541197430814,
          0.0002792706143183961,
          0.00027141743336184194,
          0.00026345243388245206,
          0.0002553845744188944,
          0.0002472250571288459,
          0.00023898714066148514,
          0.0002306859213691348,
          0.00022233808874484422,
          0.00021396166132930236,
          0.0002055757094834214,
          0.0001972000713806877,
          0.0001888550683509699,
          0.0001805612253249728,
          0.000172339001610555,
          0.00016420853660584003,
          0.00015618941434872064
         ],
         "yaxis": "y"
        }
       ],
       "layout": {
        "barmode": "overlay",
        "font": {
         "size": 18
        },
        "hovermode": "closest",
        "legend": {
         "traceorder": "reversed"
        },
        "plot_bgcolor": "#F5F5F8",
        "template": {
         "data": {
          "bar": [
           {
            "error_x": {
             "color": "#2a3f5f"
            },
            "error_y": {
             "color": "#2a3f5f"
            },
            "marker": {
             "line": {
              "color": "#E5ECF6",
              "width": 0.5
             },
             "pattern": {
              "fillmode": "overlay",
              "size": 10,
              "solidity": 0.2
             }
            },
            "type": "bar"
           }
          ],
          "barpolar": [
           {
            "marker": {
             "line": {
              "color": "#E5ECF6",
              "width": 0.5
             },
             "pattern": {
              "fillmode": "overlay",
              "size": 10,
              "solidity": 0.2
             }
            },
            "type": "barpolar"
           }
          ],
          "carpet": [
           {
            "aaxis": {
             "endlinecolor": "#2a3f5f",
             "gridcolor": "white",
             "linecolor": "white",
             "minorgridcolor": "white",
             "startlinecolor": "#2a3f5f"
            },
            "baxis": {
             "endlinecolor": "#2a3f5f",
             "gridcolor": "white",
             "linecolor": "white",
             "minorgridcolor": "white",
             "startlinecolor": "#2a3f5f"
            },
            "type": "carpet"
           }
          ],
          "choropleth": [
           {
            "colorbar": {
             "outlinewidth": 0,
             "ticks": ""
            },
            "type": "choropleth"
           }
          ],
          "contour": [
           {
            "colorbar": {
             "outlinewidth": 0,
             "ticks": ""
            },
            "colorscale": [
             [
              0,
              "#0d0887"
             ],
             [
              0.1111111111111111,
              "#46039f"
             ],
             [
              0.2222222222222222,
              "#7201a8"
             ],
             [
              0.3333333333333333,
              "#9c179e"
             ],
             [
              0.4444444444444444,
              "#bd3786"
             ],
             [
              0.5555555555555556,
              "#d8576b"
             ],
             [
              0.6666666666666666,
              "#ed7953"
             ],
             [
              0.7777777777777778,
              "#fb9f3a"
             ],
             [
              0.8888888888888888,
              "#fdca26"
             ],
             [
              1,
              "#f0f921"
             ]
            ],
            "type": "contour"
           }
          ],
          "contourcarpet": [
           {
            "colorbar": {
             "outlinewidth": 0,
             "ticks": ""
            },
            "type": "contourcarpet"
           }
          ],
          "heatmap": [
           {
            "colorbar": {
             "outlinewidth": 0,
             "ticks": ""
            },
            "colorscale": [
             [
              0,
              "#0d0887"
             ],
             [
              0.1111111111111111,
              "#46039f"
             ],
             [
              0.2222222222222222,
              "#7201a8"
             ],
             [
              0.3333333333333333,
              "#9c179e"
             ],
             [
              0.4444444444444444,
              "#bd3786"
             ],
             [
              0.5555555555555556,
              "#d8576b"
             ],
             [
              0.6666666666666666,
              "#ed7953"
             ],
             [
              0.7777777777777778,
              "#fb9f3a"
             ],
             [
              0.8888888888888888,
              "#fdca26"
             ],
             [
              1,
              "#f0f921"
             ]
            ],
            "type": "heatmap"
           }
          ],
          "heatmapgl": [
           {
            "colorbar": {
             "outlinewidth": 0,
             "ticks": ""
            },
            "colorscale": [
             [
              0,
              "#0d0887"
             ],
             [
              0.1111111111111111,
              "#46039f"
             ],
             [
              0.2222222222222222,
              "#7201a8"
             ],
             [
              0.3333333333333333,
              "#9c179e"
             ],
             [
              0.4444444444444444,
              "#bd3786"
             ],
             [
              0.5555555555555556,
              "#d8576b"
             ],
             [
              0.6666666666666666,
              "#ed7953"
             ],
             [
              0.7777777777777778,
              "#fb9f3a"
             ],
             [
              0.8888888888888888,
              "#fdca26"
             ],
             [
              1,
              "#f0f921"
             ]
            ],
            "type": "heatmapgl"
           }
          ],
          "histogram": [
           {
            "marker": {
             "pattern": {
              "fillmode": "overlay",
              "size": 10,
              "solidity": 0.2
             }
            },
            "type": "histogram"
           }
          ],
          "histogram2d": [
           {
            "colorbar": {
             "outlinewidth": 0,
             "ticks": ""
            },
            "colorscale": [
             [
              0,
              "#0d0887"
             ],
             [
              0.1111111111111111,
              "#46039f"
             ],
             [
              0.2222222222222222,
              "#7201a8"
             ],
             [
              0.3333333333333333,
              "#9c179e"
             ],
             [
              0.4444444444444444,
              "#bd3786"
             ],
             [
              0.5555555555555556,
              "#d8576b"
             ],
             [
              0.6666666666666666,
              "#ed7953"
             ],
             [
              0.7777777777777778,
              "#fb9f3a"
             ],
             [
              0.8888888888888888,
              "#fdca26"
             ],
             [
              1,
              "#f0f921"
             ]
            ],
            "type": "histogram2d"
           }
          ],
          "histogram2dcontour": [
           {
            "colorbar": {
             "outlinewidth": 0,
             "ticks": ""
            },
            "colorscale": [
             [
              0,
              "#0d0887"
             ],
             [
              0.1111111111111111,
              "#46039f"
             ],
             [
              0.2222222222222222,
              "#7201a8"
             ],
             [
              0.3333333333333333,
              "#9c179e"
             ],
             [
              0.4444444444444444,
              "#bd3786"
             ],
             [
              0.5555555555555556,
              "#d8576b"
             ],
             [
              0.6666666666666666,
              "#ed7953"
             ],
             [
              0.7777777777777778,
              "#fb9f3a"
             ],
             [
              0.8888888888888888,
              "#fdca26"
             ],
             [
              1,
              "#f0f921"
             ]
            ],
            "type": "histogram2dcontour"
           }
          ],
          "mesh3d": [
           {
            "colorbar": {
             "outlinewidth": 0,
             "ticks": ""
            },
            "type": "mesh3d"
           }
          ],
          "parcoords": [
           {
            "line": {
             "colorbar": {
              "outlinewidth": 0,
              "ticks": ""
             }
            },
            "type": "parcoords"
           }
          ],
          "pie": [
           {
            "automargin": true,
            "type": "pie"
           }
          ],
          "scatter": [
           {
            "fillpattern": {
             "fillmode": "overlay",
             "size": 10,
             "solidity": 0.2
            },
            "type": "scatter"
           }
          ],
          "scatter3d": [
           {
            "line": {
             "colorbar": {
              "outlinewidth": 0,
              "ticks": ""
             }
            },
            "marker": {
             "colorbar": {
              "outlinewidth": 0,
              "ticks": ""
             }
            },
            "type": "scatter3d"
           }
          ],
          "scattercarpet": [
           {
            "marker": {
             "colorbar": {
              "outlinewidth": 0,
              "ticks": ""
             }
            },
            "type": "scattercarpet"
           }
          ],
          "scattergeo": [
           {
            "marker": {
             "colorbar": {
              "outlinewidth": 0,
              "ticks": ""
             }
            },
            "type": "scattergeo"
           }
          ],
          "scattergl": [
           {
            "marker": {
             "colorbar": {
              "outlinewidth": 0,
              "ticks": ""
             }
            },
            "type": "scattergl"
           }
          ],
          "scattermapbox": [
           {
            "marker": {
             "colorbar": {
              "outlinewidth": 0,
              "ticks": ""
             }
            },
            "type": "scattermapbox"
           }
          ],
          "scatterpolar": [
           {
            "marker": {
             "colorbar": {
              "outlinewidth": 0,
              "ticks": ""
             }
            },
            "type": "scatterpolar"
           }
          ],
          "scatterpolargl": [
           {
            "marker": {
             "colorbar": {
              "outlinewidth": 0,
              "ticks": ""
             }
            },
            "type": "scatterpolargl"
           }
          ],
          "scatterternary": [
           {
            "marker": {
             "colorbar": {
              "outlinewidth": 0,
              "ticks": ""
             }
            },
            "type": "scatterternary"
           }
          ],
          "surface": [
           {
            "colorbar": {
             "outlinewidth": 0,
             "ticks": ""
            },
            "colorscale": [
             [
              0,
              "#0d0887"
             ],
             [
              0.1111111111111111,
              "#46039f"
             ],
             [
              0.2222222222222222,
              "#7201a8"
             ],
             [
              0.3333333333333333,
              "#9c179e"
             ],
             [
              0.4444444444444444,
              "#bd3786"
             ],
             [
              0.5555555555555556,
              "#d8576b"
             ],
             [
              0.6666666666666666,
              "#ed7953"
             ],
             [
              0.7777777777777778,
              "#fb9f3a"
             ],
             [
              0.8888888888888888,
              "#fdca26"
             ],
             [
              1,
              "#f0f921"
             ]
            ],
            "type": "surface"
           }
          ],
          "table": [
           {
            "cells": {
             "fill": {
              "color": "#EBF0F8"
             },
             "line": {
              "color": "white"
             }
            },
            "header": {
             "fill": {
              "color": "#C8D4E3"
             },
             "line": {
              "color": "white"
             }
            },
            "type": "table"
           }
          ]
         },
         "layout": {
          "annotationdefaults": {
           "arrowcolor": "#2a3f5f",
           "arrowhead": 0,
           "arrowwidth": 1
          },
          "autotypenumbers": "strict",
          "coloraxis": {
           "colorbar": {
            "outlinewidth": 0,
            "ticks": ""
           }
          },
          "colorscale": {
           "diverging": [
            [
             0,
             "#8e0152"
            ],
            [
             0.1,
             "#c51b7d"
            ],
            [
             0.2,
             "#de77ae"
            ],
            [
             0.3,
             "#f1b6da"
            ],
            [
             0.4,
             "#fde0ef"
            ],
            [
             0.5,
             "#f7f7f7"
            ],
            [
             0.6,
             "#e6f5d0"
            ],
            [
             0.7,
             "#b8e186"
            ],
            [
             0.8,
             "#7fbc41"
            ],
            [
             0.9,
             "#4d9221"
            ],
            [
             1,
             "#276419"
            ]
           ],
           "sequential": [
            [
             0,
             "#0d0887"
            ],
            [
             0.1111111111111111,
             "#46039f"
            ],
            [
             0.2222222222222222,
             "#7201a8"
            ],
            [
             0.3333333333333333,
             "#9c179e"
            ],
            [
             0.4444444444444444,
             "#bd3786"
            ],
            [
             0.5555555555555556,
             "#d8576b"
            ],
            [
             0.6666666666666666,
             "#ed7953"
            ],
            [
             0.7777777777777778,
             "#fb9f3a"
            ],
            [
             0.8888888888888888,
             "#fdca26"
            ],
            [
             1,
             "#f0f921"
            ]
           ],
           "sequentialminus": [
            [
             0,
             "#0d0887"
            ],
            [
             0.1111111111111111,
             "#46039f"
            ],
            [
             0.2222222222222222,
             "#7201a8"
            ],
            [
             0.3333333333333333,
             "#9c179e"
            ],
            [
             0.4444444444444444,
             "#bd3786"
            ],
            [
             0.5555555555555556,
             "#d8576b"
            ],
            [
             0.6666666666666666,
             "#ed7953"
            ],
            [
             0.7777777777777778,
             "#fb9f3a"
            ],
            [
             0.8888888888888888,
             "#fdca26"
            ],
            [
             1,
             "#f0f921"
            ]
           ]
          },
          "colorway": [
           "#636efa",
           "#EF553B",
           "#00cc96",
           "#ab63fa",
           "#FFA15A",
           "#19d3f3",
           "#FF6692",
           "#B6E880",
           "#FF97FF",
           "#FECB52"
          ],
          "font": {
           "color": "#2a3f5f"
          },
          "geo": {
           "bgcolor": "white",
           "lakecolor": "white",
           "landcolor": "#E5ECF6",
           "showlakes": true,
           "showland": true,
           "subunitcolor": "white"
          },
          "hoverlabel": {
           "align": "left"
          },
          "hovermode": "closest",
          "mapbox": {
           "style": "light"
          },
          "paper_bgcolor": "white",
          "plot_bgcolor": "#E5ECF6",
          "polar": {
           "angularaxis": {
            "gridcolor": "white",
            "linecolor": "white",
            "ticks": ""
           },
           "bgcolor": "#E5ECF6",
           "radialaxis": {
            "gridcolor": "white",
            "linecolor": "white",
            "ticks": ""
           }
          },
          "scene": {
           "xaxis": {
            "backgroundcolor": "#E5ECF6",
            "gridcolor": "white",
            "gridwidth": 2,
            "linecolor": "white",
            "showbackground": true,
            "ticks": "",
            "zerolinecolor": "white"
           },
           "yaxis": {
            "backgroundcolor": "#E5ECF6",
            "gridcolor": "white",
            "gridwidth": 2,
            "linecolor": "white",
            "showbackground": true,
            "ticks": "",
            "zerolinecolor": "white"
           },
           "zaxis": {
            "backgroundcolor": "#E5ECF6",
            "gridcolor": "white",
            "gridwidth": 2,
            "linecolor": "white",
            "showbackground": true,
            "ticks": "",
            "zerolinecolor": "white"
           }
          },
          "shapedefaults": {
           "line": {
            "color": "#2a3f5f"
           }
          },
          "ternary": {
           "aaxis": {
            "gridcolor": "white",
            "linecolor": "white",
            "ticks": ""
           },
           "baxis": {
            "gridcolor": "white",
            "linecolor": "white",
            "ticks": ""
           },
           "bgcolor": "#E5ECF6",
           "caxis": {
            "gridcolor": "white",
            "linecolor": "white",
            "ticks": ""
           }
          },
          "title": {
           "x": 0.05
          },
          "xaxis": {
           "automargin": true,
           "gridcolor": "white",
           "linecolor": "white",
           "ticks": "",
           "title": {
            "standoff": 15
           },
           "zerolinecolor": "white",
           "zerolinewidth": 2
          },
          "yaxis": {
           "automargin": true,
           "gridcolor": "white",
           "linecolor": "white",
           "ticks": "",
           "title": {
            "standoff": 15
           },
           "zerolinecolor": "white",
           "zerolinewidth": 2
          }
         }
        },
        "title": {
         "text": "Real vs. Synthetic Data for column Age"
        },
        "xaxis": {
         "anchor": "y2",
         "domain": [
          0,
          1
         ],
         "title": {
          "text": "Value"
         },
         "zeroline": false
        },
        "yaxis": {
         "anchor": "free",
         "domain": [
          0,
          1
         ],
         "position": 0,
         "title": {
          "text": "Frequency"
         }
        }
       }
      }
     },
     "metadata": {},
     "output_type": "display_data"
    }
   ],
   "source": [
    "fig = get_column_plot(\n",
    "    real_data=real_data,\n",
    "    synthetic_data=synthetic_data,\n",
    "    column_name='Age',\n",
    "    metadata=metadata\n",
    ")\n",
    "\n",
    "fig.show()"
   ]
  },
  {
   "cell_type": "code",
   "execution_count": 11,
   "metadata": {},
   "outputs": [],
   "source": [
    "#criar uma classe que testa o ML efficiency com vários modelos \n",
    "#criar uma classe que calcula o  Discriminator Mesure\n",
    "#criar uma classe que, ao receber varios dados sintéticos, \n",
    "    #cria um dataframe que compara diversas metricas desse notebook e citadas acima"
   ]
  },
  {
   "cell_type": "code",
   "execution_count": 16,
   "metadata": {},
   "outputs": [],
   "source": [
    "mle = MLE(synthetic_dataframe=synthetic_data,\n",
    "          real_dataframe=real_data,\n",
    "          target_column='GoodCustomer')\n",
    "\n",
    "mle.preprocessing()\n",
    "\n",
    "synthetic_acc, real_acc = mle.eval()"
   ]
  },
  {
   "cell_type": "code",
   "execution_count": 17,
   "metadata": {},
   "outputs": [
    {
     "name": "stdout",
     "output_type": "stream",
     "text": [
      "[0.698, 0.7, 0.7, 0.616] [0.71, 0.75, 0.475, 0.655]\n"
     ]
    }
   ],
   "source": [
    "print(synthetic_acc, real_acc)"
   ]
  },
  {
   "cell_type": "code",
   "execution_count": null,
   "metadata": {},
   "outputs": [],
   "source": []
  }
 ],
 "metadata": {
  "kernelspec": {
   "display_name": "Python 3",
   "language": "python",
   "name": "python3"
  },
  "language_info": {
   "codemirror_mode": {
    "name": "ipython",
    "version": 3
   },
   "file_extension": ".py",
   "mimetype": "text/x-python",
   "name": "python",
   "nbconvert_exporter": "python",
   "pygments_lexer": "ipython3",
   "version": "3.8.10"
  },
  "orig_nbformat": 4
 },
 "nbformat": 4,
 "nbformat_minor": 2
}
